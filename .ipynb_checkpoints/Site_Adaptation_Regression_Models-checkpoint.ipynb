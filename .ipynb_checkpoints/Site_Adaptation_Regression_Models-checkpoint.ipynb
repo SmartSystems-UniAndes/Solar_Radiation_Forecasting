{
 "cells": [
  {
   "cell_type": "code",
   "execution_count": 1,
   "metadata": {},
   "outputs": [],
   "source": [
    "import pandas as pd\n",
    "import numpy as np\n",
    "import matplotlib.pyplot as plt\n",
    "from datetime import datetime"
   ]
  },
  {
   "cell_type": "markdown",
   "metadata": {},
   "source": [
    "# 1. Upload data"
   ]
  },
  {
   "cell_type": "code",
   "execution_count": 2,
   "metadata": {},
   "outputs": [
    {
     "data": {
      "text/html": [
       "<div>\n",
       "<style scoped>\n",
       "    .dataframe tbody tr th:only-of-type {\n",
       "        vertical-align: middle;\n",
       "    }\n",
       "\n",
       "    .dataframe tbody tr th {\n",
       "        vertical-align: top;\n",
       "    }\n",
       "\n",
       "    .dataframe thead th {\n",
       "        text-align: right;\n",
       "    }\n",
       "</style>\n",
       "<table border=\"1\" class=\"dataframe\">\n",
       "  <thead>\n",
       "    <tr style=\"text-align: right;\">\n",
       "      <th></th>\n",
       "      <th>Fecha</th>\n",
       "      <th>GHI_IDEAM</th>\n",
       "      <th>GHI_NSRDB</th>\n",
       "      <th>DHI</th>\n",
       "      <th>DNI</th>\n",
       "      <th>Wind Speed</th>\n",
       "      <th>Temperature</th>\n",
       "      <th>Solar Zenith Angle</th>\n",
       "    </tr>\n",
       "  </thead>\n",
       "  <tbody>\n",
       "    <tr>\n",
       "      <th>0</th>\n",
       "      <td>2006-01-01 00:00:00</td>\n",
       "      <td>0</td>\n",
       "      <td>0</td>\n",
       "      <td>0</td>\n",
       "      <td>0</td>\n",
       "      <td>0</td>\n",
       "      <td>7</td>\n",
       "      <td>157</td>\n",
       "    </tr>\n",
       "    <tr>\n",
       "      <th>1</th>\n",
       "      <td>2006-01-01 01:00:00</td>\n",
       "      <td>0</td>\n",
       "      <td>0</td>\n",
       "      <td>0</td>\n",
       "      <td>0</td>\n",
       "      <td>0</td>\n",
       "      <td>7</td>\n",
       "      <td>153</td>\n",
       "    </tr>\n",
       "    <tr>\n",
       "      <th>2</th>\n",
       "      <td>2006-01-01 02:00:00</td>\n",
       "      <td>0</td>\n",
       "      <td>0</td>\n",
       "      <td>0</td>\n",
       "      <td>0</td>\n",
       "      <td>0</td>\n",
       "      <td>6</td>\n",
       "      <td>142</td>\n",
       "    </tr>\n",
       "    <tr>\n",
       "      <th>3</th>\n",
       "      <td>2006-01-01 03:00:00</td>\n",
       "      <td>0</td>\n",
       "      <td>0</td>\n",
       "      <td>0</td>\n",
       "      <td>0</td>\n",
       "      <td>0</td>\n",
       "      <td>6</td>\n",
       "      <td>130</td>\n",
       "    </tr>\n",
       "    <tr>\n",
       "      <th>4</th>\n",
       "      <td>2006-01-01 04:00:00</td>\n",
       "      <td>0</td>\n",
       "      <td>0</td>\n",
       "      <td>0</td>\n",
       "      <td>0</td>\n",
       "      <td>0</td>\n",
       "      <td>6</td>\n",
       "      <td>117</td>\n",
       "    </tr>\n",
       "    <tr>\n",
       "      <th>5</th>\n",
       "      <td>2006-01-01 05:00:00</td>\n",
       "      <td>0</td>\n",
       "      <td>0</td>\n",
       "      <td>0</td>\n",
       "      <td>0</td>\n",
       "      <td>0</td>\n",
       "      <td>6</td>\n",
       "      <td>103</td>\n",
       "    </tr>\n",
       "    <tr>\n",
       "      <th>6</th>\n",
       "      <td>2006-01-01 06:00:00</td>\n",
       "      <td>0</td>\n",
       "      <td>21</td>\n",
       "      <td>11</td>\n",
       "      <td>160</td>\n",
       "      <td>0</td>\n",
       "      <td>6</td>\n",
       "      <td>89</td>\n",
       "    </tr>\n",
       "    <tr>\n",
       "      <th>7</th>\n",
       "      <td>2006-01-01 07:00:00</td>\n",
       "      <td>513</td>\n",
       "      <td>219</td>\n",
       "      <td>48</td>\n",
       "      <td>695</td>\n",
       "      <td>1</td>\n",
       "      <td>8</td>\n",
       "      <td>76</td>\n",
       "    </tr>\n",
       "    <tr>\n",
       "      <th>8</th>\n",
       "      <td>2006-01-01 08:00:00</td>\n",
       "      <td>1633</td>\n",
       "      <td>480</td>\n",
       "      <td>64</td>\n",
       "      <td>901</td>\n",
       "      <td>1</td>\n",
       "      <td>10</td>\n",
       "      <td>62</td>\n",
       "    </tr>\n",
       "    <tr>\n",
       "      <th>9</th>\n",
       "      <td>2006-01-01 09:00:00</td>\n",
       "      <td>1290</td>\n",
       "      <td>368</td>\n",
       "      <td>319</td>\n",
       "      <td>78</td>\n",
       "      <td>1</td>\n",
       "      <td>12</td>\n",
       "      <td>49</td>\n",
       "    </tr>\n",
       "  </tbody>\n",
       "</table>\n",
       "</div>"
      ],
      "text/plain": [
       "                 Fecha  GHI_IDEAM  GHI_NSRDB  DHI  DNI  Wind Speed  \\\n",
       "0  2006-01-01 00:00:00          0          0    0    0           0   \n",
       "1  2006-01-01 01:00:00          0          0    0    0           0   \n",
       "2  2006-01-01 02:00:00          0          0    0    0           0   \n",
       "3  2006-01-01 03:00:00          0          0    0    0           0   \n",
       "4  2006-01-01 04:00:00          0          0    0    0           0   \n",
       "5  2006-01-01 05:00:00          0          0    0    0           0   \n",
       "6  2006-01-01 06:00:00          0         21   11  160           0   \n",
       "7  2006-01-01 07:00:00        513        219   48  695           1   \n",
       "8  2006-01-01 08:00:00       1633        480   64  901           1   \n",
       "9  2006-01-01 09:00:00       1290        368  319   78           1   \n",
       "\n",
       "   Temperature  Solar Zenith Angle  \n",
       "0            7                 157  \n",
       "1            7                 153  \n",
       "2            6                 142  \n",
       "3            6                 130  \n",
       "4            6                 117  \n",
       "5            6                 103  \n",
       "6            6                  89  \n",
       "7            8                  76  \n",
       "8           10                  62  \n",
       "9           12                  49  "
      ]
     },
     "execution_count": 2,
     "metadata": {},
     "output_type": "execute_result"
    }
   ],
   "source": [
    "folder = 'data/'\n",
    "est_1 = pd.read_csv(folder+'est_1.csv', usecols  = [1,2,3,4,5,6,7,8])\n",
    "est_1.head(10)"
   ]
  },
  {
   "cell_type": "code",
   "execution_count": 3,
   "metadata": {},
   "outputs": [
    {
     "data": {
      "text/html": [
       "<div>\n",
       "<style scoped>\n",
       "    .dataframe tbody tr th:only-of-type {\n",
       "        vertical-align: middle;\n",
       "    }\n",
       "\n",
       "    .dataframe tbody tr th {\n",
       "        vertical-align: top;\n",
       "    }\n",
       "\n",
       "    .dataframe thead th {\n",
       "        text-align: right;\n",
       "    }\n",
       "</style>\n",
       "<table border=\"1\" class=\"dataframe\">\n",
       "  <thead>\n",
       "    <tr style=\"text-align: right;\">\n",
       "      <th></th>\n",
       "      <th>Hora</th>\n",
       "      <th>GHI_IDEAM</th>\n",
       "      <th>GHI_NSRDB</th>\n",
       "      <th>DHI</th>\n",
       "      <th>DNI</th>\n",
       "      <th>Wind Speed</th>\n",
       "      <th>Temperature</th>\n",
       "      <th>Solar Zenith Angle</th>\n",
       "    </tr>\n",
       "  </thead>\n",
       "  <tbody>\n",
       "    <tr>\n",
       "      <th>0</th>\n",
       "      <td>00</td>\n",
       "      <td>0</td>\n",
       "      <td>0</td>\n",
       "      <td>0</td>\n",
       "      <td>0</td>\n",
       "      <td>0</td>\n",
       "      <td>7</td>\n",
       "      <td>157</td>\n",
       "    </tr>\n",
       "    <tr>\n",
       "      <th>1</th>\n",
       "      <td>01</td>\n",
       "      <td>0</td>\n",
       "      <td>0</td>\n",
       "      <td>0</td>\n",
       "      <td>0</td>\n",
       "      <td>0</td>\n",
       "      <td>7</td>\n",
       "      <td>153</td>\n",
       "    </tr>\n",
       "    <tr>\n",
       "      <th>2</th>\n",
       "      <td>02</td>\n",
       "      <td>0</td>\n",
       "      <td>0</td>\n",
       "      <td>0</td>\n",
       "      <td>0</td>\n",
       "      <td>0</td>\n",
       "      <td>6</td>\n",
       "      <td>142</td>\n",
       "    </tr>\n",
       "    <tr>\n",
       "      <th>3</th>\n",
       "      <td>03</td>\n",
       "      <td>0</td>\n",
       "      <td>0</td>\n",
       "      <td>0</td>\n",
       "      <td>0</td>\n",
       "      <td>0</td>\n",
       "      <td>6</td>\n",
       "      <td>130</td>\n",
       "    </tr>\n",
       "    <tr>\n",
       "      <th>4</th>\n",
       "      <td>04</td>\n",
       "      <td>0</td>\n",
       "      <td>0</td>\n",
       "      <td>0</td>\n",
       "      <td>0</td>\n",
       "      <td>0</td>\n",
       "      <td>6</td>\n",
       "      <td>117</td>\n",
       "    </tr>\n",
       "    <tr>\n",
       "      <th>5</th>\n",
       "      <td>05</td>\n",
       "      <td>0</td>\n",
       "      <td>0</td>\n",
       "      <td>0</td>\n",
       "      <td>0</td>\n",
       "      <td>0</td>\n",
       "      <td>6</td>\n",
       "      <td>103</td>\n",
       "    </tr>\n",
       "    <tr>\n",
       "      <th>6</th>\n",
       "      <td>06</td>\n",
       "      <td>0</td>\n",
       "      <td>21</td>\n",
       "      <td>11</td>\n",
       "      <td>160</td>\n",
       "      <td>0</td>\n",
       "      <td>6</td>\n",
       "      <td>89</td>\n",
       "    </tr>\n",
       "    <tr>\n",
       "      <th>7</th>\n",
       "      <td>07</td>\n",
       "      <td>513</td>\n",
       "      <td>219</td>\n",
       "      <td>48</td>\n",
       "      <td>695</td>\n",
       "      <td>1</td>\n",
       "      <td>8</td>\n",
       "      <td>76</td>\n",
       "    </tr>\n",
       "    <tr>\n",
       "      <th>8</th>\n",
       "      <td>08</td>\n",
       "      <td>1633</td>\n",
       "      <td>480</td>\n",
       "      <td>64</td>\n",
       "      <td>901</td>\n",
       "      <td>1</td>\n",
       "      <td>10</td>\n",
       "      <td>62</td>\n",
       "    </tr>\n",
       "    <tr>\n",
       "      <th>9</th>\n",
       "      <td>09</td>\n",
       "      <td>1290</td>\n",
       "      <td>368</td>\n",
       "      <td>319</td>\n",
       "      <td>78</td>\n",
       "      <td>1</td>\n",
       "      <td>12</td>\n",
       "      <td>49</td>\n",
       "    </tr>\n",
       "  </tbody>\n",
       "</table>\n",
       "</div>"
      ],
      "text/plain": [
       "  Hora GHI_IDEAM GHI_NSRDB  DHI  DNI Wind Speed Temperature Solar Zenith Angle\n",
       "0   00         0         0    0    0          0           7                157\n",
       "1   01         0         0    0    0          0           7                153\n",
       "2   02         0         0    0    0          0           6                142\n",
       "3   03         0         0    0    0          0           6                130\n",
       "4   04         0         0    0    0          0           6                117\n",
       "5   05         0         0    0    0          0           6                103\n",
       "6   06         0        21   11  160          0           6                 89\n",
       "7   07       513       219   48  695          1           8                 76\n",
       "8   08      1633       480   64  901          1          10                 62\n",
       "9   09      1290       368  319   78          1          12                 49"
      ]
     },
     "execution_count": 3,
     "metadata": {},
     "output_type": "execute_result"
    }
   ],
   "source": [
    "hour_est_1 = []\n",
    "for i in range(len(est_1['Fecha'])):\n",
    "    var = est_1['Fecha'][i][11:13]\n",
    "    hour_est_1.append(var)\n",
    "est_1 = est_1.drop(columns='Fecha')\n",
    "est_1 = pd.DataFrame(np.column_stack((hour_est_1,est_1)))\n",
    "est_1 = est_1.rename(columns={0: 'Hora', 1: 'GHI_IDEAM', 2: 'GHI_NSRDB', 3: 'DHI', 4: 'DNI', \n",
    "                                                 5: 'Wind Speed', 6: 'Temperature', 7: 'Solar Zenith Angle'})\n",
    "est_1.head(10)"
   ]
  },
  {
   "cell_type": "markdown",
   "metadata": {},
   "source": [
    "# 2. Training regression models"
   ]
  },
  {
   "cell_type": "markdown",
   "metadata": {},
   "source": [
    "Mixing data before training"
   ]
  },
  {
   "cell_type": "code",
   "execution_count": 4,
   "metadata": {},
   "outputs": [],
   "source": [
    "from sklearn.utils import shuffle\n",
    "X = est_1[['Hora','GHI_NSRDB','DHI','DNI','Wind Speed','Temperature','Solar Zenith Angle']]\n",
    "y = est_1['GHI_IDEAM']\n",
    "X, y = shuffle(X, y, random_state=42)"
   ]
  },
  {
   "cell_type": "markdown",
   "metadata": {},
   "source": [
    "## 2.1 Normalizing data"
   ]
  },
  {
   "cell_type": "code",
   "execution_count": 5,
   "metadata": {},
   "outputs": [],
   "source": [
    "from sklearn.preprocessing import StandardScaler\n",
    "\n",
    "scaler = StandardScaler()\n",
    "\n",
    "X = scaler.fit_transform(X.astype('float64'))\n",
    "\n",
    "y = np.array(y)"
   ]
  },
  {
   "cell_type": "markdown",
   "metadata": {},
   "source": [
    "## 2.2 Neural network models"
   ]
  },
  {
   "cell_type": "code",
   "execution_count": 6,
   "metadata": {},
   "outputs": [
    {
     "name": "stdout",
     "output_type": "stream",
     "text": [
      "GridSearchCV took 1443.02 seconds for 10 possible parameter combinations.\n"
     ]
    }
   ],
   "source": [
    "from sklearn.model_selection import RandomizedSearchCV\n",
    "from sklearn.model_selection import GridSearchCV\n",
    "from sklearn.neural_network import MLPRegressor\n",
    "from time import time\n",
    "\n",
    "import warnings\n",
    "\n",
    "warnings.filterwarnings(\"ignore\")\n",
    "\n",
    "num_neurons = np.arange(5,51,5)\n",
    "\n",
    "param_grid = {'hidden_layer_sizes': num_neurons}\n",
    "\n",
    "MLP_reg = MLPRegressor(random_state=42, solver='adam', activation='relu')\n",
    "grid_search = GridSearchCV(MLP_reg, param_grid, cv = 4, scoring = 'r2')\n",
    "start = time()\n",
    "\n",
    "grid_search.fit(X, y)\n",
    "\n",
    "print(\"GridSearchCV took %.2f seconds for %d possible parameter combinations.\"\n",
    "      % (time() - start, len(grid_search.cv_results_['params'])))"
   ]
  },
  {
   "cell_type": "code",
   "execution_count": 7,
   "metadata": {},
   "outputs": [
    {
     "name": "stdout",
     "output_type": "stream",
     "text": [
      "Best parameters:  {'hidden_layer_sizes': 40}\n"
     ]
    }
   ],
   "source": [
    "print('Best parameters: ', grid_search.best_params_)"
   ]
  },
  {
   "cell_type": "code",
   "execution_count": 8,
   "metadata": {},
   "outputs": [
    {
     "data": {
      "text/html": [
       "<div>\n",
       "<style scoped>\n",
       "    .dataframe tbody tr th:only-of-type {\n",
       "        vertical-align: middle;\n",
       "    }\n",
       "\n",
       "    .dataframe tbody tr th {\n",
       "        vertical-align: top;\n",
       "    }\n",
       "\n",
       "    .dataframe thead th {\n",
       "        text-align: right;\n",
       "    }\n",
       "</style>\n",
       "<table border=\"1\" class=\"dataframe\">\n",
       "  <thead>\n",
       "    <tr style=\"text-align: right;\">\n",
       "      <th></th>\n",
       "      <th>mean_fit_time</th>\n",
       "      <th>std_fit_time</th>\n",
       "      <th>mean_score_time</th>\n",
       "      <th>std_score_time</th>\n",
       "      <th>param_hidden_layer_sizes</th>\n",
       "      <th>params</th>\n",
       "      <th>split0_test_score</th>\n",
       "      <th>split1_test_score</th>\n",
       "      <th>split2_test_score</th>\n",
       "      <th>split3_test_score</th>\n",
       "      <th>mean_test_score</th>\n",
       "      <th>std_test_score</th>\n",
       "      <th>rank_test_score</th>\n",
       "    </tr>\n",
       "  </thead>\n",
       "  <tbody>\n",
       "    <tr>\n",
       "      <th>7</th>\n",
       "      <td>35.584256</td>\n",
       "      <td>0.156017</td>\n",
       "      <td>0.011719</td>\n",
       "      <td>0.000432</td>\n",
       "      <td>40</td>\n",
       "      <td>{'hidden_layer_sizes': 40}</td>\n",
       "      <td>0.742519</td>\n",
       "      <td>0.733171</td>\n",
       "      <td>0.747962</td>\n",
       "      <td>0.744746</td>\n",
       "      <td>0.742099</td>\n",
       "      <td>0.005506</td>\n",
       "      <td>1</td>\n",
       "    </tr>\n",
       "    <tr>\n",
       "      <th>9</th>\n",
       "      <td>46.224854</td>\n",
       "      <td>0.366505</td>\n",
       "      <td>0.015458</td>\n",
       "      <td>0.000864</td>\n",
       "      <td>50</td>\n",
       "      <td>{'hidden_layer_sizes': 50}</td>\n",
       "      <td>0.742510</td>\n",
       "      <td>0.733341</td>\n",
       "      <td>0.747479</td>\n",
       "      <td>0.744562</td>\n",
       "      <td>0.741973</td>\n",
       "      <td>0.005287</td>\n",
       "      <td>2</td>\n",
       "    </tr>\n",
       "    <tr>\n",
       "      <th>8</th>\n",
       "      <td>38.587417</td>\n",
       "      <td>0.574843</td>\n",
       "      <td>0.017204</td>\n",
       "      <td>0.002271</td>\n",
       "      <td>45</td>\n",
       "      <td>{'hidden_layer_sizes': 45}</td>\n",
       "      <td>0.742391</td>\n",
       "      <td>0.732981</td>\n",
       "      <td>0.747310</td>\n",
       "      <td>0.744615</td>\n",
       "      <td>0.741824</td>\n",
       "      <td>0.005395</td>\n",
       "      <td>3</td>\n",
       "    </tr>\n",
       "    <tr>\n",
       "      <th>6</th>\n",
       "      <td>32.932671</td>\n",
       "      <td>1.470868</td>\n",
       "      <td>0.010720</td>\n",
       "      <td>0.000432</td>\n",
       "      <td>35</td>\n",
       "      <td>{'hidden_layer_sizes': 35}</td>\n",
       "      <td>0.741761</td>\n",
       "      <td>0.732616</td>\n",
       "      <td>0.747032</td>\n",
       "      <td>0.744227</td>\n",
       "      <td>0.741409</td>\n",
       "      <td>0.005408</td>\n",
       "      <td>4</td>\n",
       "    </tr>\n",
       "    <tr>\n",
       "      <th>4</th>\n",
       "      <td>35.698138</td>\n",
       "      <td>0.561140</td>\n",
       "      <td>0.016410</td>\n",
       "      <td>0.002090</td>\n",
       "      <td>25</td>\n",
       "      <td>{'hidden_layer_sizes': 25}</td>\n",
       "      <td>0.742228</td>\n",
       "      <td>0.732481</td>\n",
       "      <td>0.746404</td>\n",
       "      <td>0.744183</td>\n",
       "      <td>0.741324</td>\n",
       "      <td>0.005315</td>\n",
       "      <td>5</td>\n",
       "    </tr>\n",
       "  </tbody>\n",
       "</table>\n",
       "</div>"
      ],
      "text/plain": [
       "   mean_fit_time  std_fit_time  mean_score_time  std_score_time  \\\n",
       "7      35.584256      0.156017         0.011719        0.000432   \n",
       "9      46.224854      0.366505         0.015458        0.000864   \n",
       "8      38.587417      0.574843         0.017204        0.002271   \n",
       "6      32.932671      1.470868         0.010720        0.000432   \n",
       "4      35.698138      0.561140         0.016410        0.002090   \n",
       "\n",
       "  param_hidden_layer_sizes                      params  split0_test_score  \\\n",
       "7                       40  {'hidden_layer_sizes': 40}           0.742519   \n",
       "9                       50  {'hidden_layer_sizes': 50}           0.742510   \n",
       "8                       45  {'hidden_layer_sizes': 45}           0.742391   \n",
       "6                       35  {'hidden_layer_sizes': 35}           0.741761   \n",
       "4                       25  {'hidden_layer_sizes': 25}           0.742228   \n",
       "\n",
       "   split1_test_score  split2_test_score  split3_test_score  mean_test_score  \\\n",
       "7           0.733171           0.747962           0.744746         0.742099   \n",
       "9           0.733341           0.747479           0.744562         0.741973   \n",
       "8           0.732981           0.747310           0.744615         0.741824   \n",
       "6           0.732616           0.747032           0.744227         0.741409   \n",
       "4           0.732481           0.746404           0.744183         0.741324   \n",
       "\n",
       "   std_test_score  rank_test_score  \n",
       "7        0.005506                1  \n",
       "9        0.005287                2  \n",
       "8        0.005395                3  \n",
       "6        0.005408                4  \n",
       "4        0.005315                5  "
      ]
     },
     "execution_count": 8,
     "metadata": {},
     "output_type": "execute_result"
    }
   ],
   "source": [
    "results = pd.DataFrame(grid_search.cv_results_)\n",
    "results = results.sort_values('rank_test_score')\n",
    "results.head()"
   ]
  },
  {
   "cell_type": "code",
   "execution_count": 9,
   "metadata": {},
   "outputs": [
    {
     "name": "stdout",
     "output_type": "stream",
     "text": [
      "R^2:  0.74\n",
      "RMSE:  168.0\n",
      "MAE:  88.0\n"
     ]
    }
   ],
   "source": [
    "from sklearn.model_selection import cross_val_score\n",
    "\n",
    "best_red = grid_search.best_estimator_\n",
    "r2 = cross_val_score(best_red, X, y, cv=4, scoring = 'r2')\n",
    "rmse = cross_val_score(best_red, X, y, cv=4, scoring = 'neg_mean_squared_error')\n",
    "mae = cross_val_score(best_red, X, y, cv=4, scoring = 'neg_mean_absolute_error')\n",
    "\n",
    "print('R^2: ',np.mean(r2).round(2))\n",
    "print('RMSE: ',np.mean(np.sqrt(-rmse)).round(0))\n",
    "print('MAE: ',np.mean(-mae).round(0))"
   ]
  },
  {
   "cell_type": "code",
   "execution_count": 10,
   "metadata": {},
   "outputs": [
    {
     "name": "stdout",
     "output_type": "stream",
     "text": [
      "Original correlation:\n",
      "          0         1\n",
      "0  1.000000  0.732114\n",
      "1  0.732114  1.000000\n",
      "\u001b[0;0m\n",
      "Fit correlation:\n",
      "          0         1\n",
      "0  1.000000  0.863266\n",
      "1  0.863266  1.000000\n",
      "\u001b[0;0m\n"
     ]
    }
   ],
   "source": [
    "from sklearn.neural_network import MLPRegressor\n",
    "from sklearn.model_selection import cross_val_score\n",
    "import warnings\n",
    "warnings.filterwarnings(\"ignore\")\n",
    "\n",
    "MLP_reg = MLPRegressor(random_state=42, solver='adam', activation='relu', hidden_layer_sizes=40)\n",
    "MLP_reg.fit(X[:61184],y[:61184])\n",
    "predictions = MLP_reg.predict(X[61184:])\n",
    "\n",
    "var = scaler.inverse_transform(X)\n",
    "var = pd.DataFrame(var)\n",
    "var = var[2].astype(int).values\n",
    "\n",
    "data_original = pd.DataFrame(np.column_stack((y[61184:].astype(int), var[61184:])))\n",
    "print('Original correlation:')\n",
    "print(data_original.corr(method ='pearson'))\n",
    "print(\"\\033[0;0m\")\n",
    "\n",
    "data_test = pd.DataFrame(np.column_stack((y[61184:].astype(int), predictions)))\n",
    "print('Fit correlation:')\n",
    "print(data_test.corr(method ='pearson'))\n",
    "print(\"\\033[0;0m\")"
   ]
  },
  {
   "cell_type": "code",
   "execution_count": 11,
   "metadata": {},
   "outputs": [
    {
     "name": "stdout",
     "output_type": "stream",
     "text": [
      "Original correlation:\n",
      "          0         1\n",
      "0  1.000000  0.735804\n",
      "1  0.735804  1.000000\n",
      "\u001b[0;0m\n",
      "Fit correlation:\n",
      "          0         1\n",
      "0  1.000000  0.861844\n",
      "1  0.861844  1.000000\n",
      "\u001b[0;0m\n"
     ]
    }
   ],
   "source": [
    "data_original = pd.DataFrame(np.column_stack((y.astype(int), var)))\n",
    "\n",
    "predictions = MLP_reg.predict(X)\n",
    "print('Original correlation:')\n",
    "print(data_original.corr(method ='pearson'))\n",
    "print(\"\\033[0;0m\")\n",
    "\n",
    "data_test = pd.DataFrame(np.column_stack((y.astype(int), predictions)))\n",
    "print('Fit correlation:')\n",
    "print(data_test.corr(method ='pearson'))\n",
    "print(\"\\033[0;0m\")"
   ]
  },
  {
   "cell_type": "code",
   "execution_count": 12,
   "metadata": {},
   "outputs": [
    {
     "name": "stdout",
     "output_type": "stream",
     "text": [
      "GridSearchCV took 13815.81 seconds for 10 possible parameter combinations.\n"
     ]
    }
   ],
   "source": [
    "from sklearn.model_selection import RandomizedSearchCV\n",
    "from sklearn.model_selection import GridSearchCV\n",
    "from sklearn.neural_network import MLPRegressor\n",
    "from time import time\n",
    "import warnings\n",
    "warnings.filterwarnings(\"ignore\")\n",
    "\n",
    "num_neurons = np.arange(5,21,5)\n",
    "tam = len(num_neurons)\n",
    "var1 = [None]*tam\n",
    "var2 = [None]*tam\n",
    "for i in range(tam):\n",
    "    for j in range(tam):\n",
    "        for k in range(tam):\n",
    "            var1[k] = (num_neurons[i],num_neurons[j],num_neurons[k])\n",
    "        var2 += var1\n",
    "num_neurons = var2[5:]\n",
    "param_grid = {'hidden_layer_sizes': num_neurons}\n",
    "\n",
    "MLP_reg = MLPRegressor(random_state=42, solver='adam', activation='relu')\n",
    "grid_search2 = GridSearchCV(MLP_reg, param_grid, cv = 4, scoring = 'r2')\n",
    "start = time()\n",
    "grid_search2.fit(X, y)\n",
    "print(\"GridSearchCV took %.2f seconds for %d possible parameter combinations.\"\n",
    "      % (time() - start, len(grid_search.cv_results_['params']))) "
   ]
  },
  {
   "cell_type": "code",
   "execution_count": 13,
   "metadata": {},
   "outputs": [
    {
     "name": "stdout",
     "output_type": "stream",
     "text": [
      "Best parameters:  {'hidden_layer_sizes': (20, 20, 5)}\n"
     ]
    }
   ],
   "source": [
    "print('Best parameters: ', grid_search2.best_params_)"
   ]
  },
  {
   "cell_type": "code",
   "execution_count": 14,
   "metadata": {
    "scrolled": true
   },
   "outputs": [
    {
     "data": {
      "text/html": [
       "<div>\n",
       "<style scoped>\n",
       "    .dataframe tbody tr th:only-of-type {\n",
       "        vertical-align: middle;\n",
       "    }\n",
       "\n",
       "    .dataframe tbody tr th {\n",
       "        vertical-align: top;\n",
       "    }\n",
       "\n",
       "    .dataframe thead th {\n",
       "        text-align: right;\n",
       "    }\n",
       "</style>\n",
       "<table border=\"1\" class=\"dataframe\">\n",
       "  <thead>\n",
       "    <tr style=\"text-align: right;\">\n",
       "      <th></th>\n",
       "      <th>mean_fit_time</th>\n",
       "      <th>std_fit_time</th>\n",
       "      <th>mean_score_time</th>\n",
       "      <th>std_score_time</th>\n",
       "      <th>param_hidden_layer_sizes</th>\n",
       "      <th>params</th>\n",
       "      <th>split0_test_score</th>\n",
       "      <th>split1_test_score</th>\n",
       "      <th>split2_test_score</th>\n",
       "      <th>split3_test_score</th>\n",
       "      <th>mean_test_score</th>\n",
       "      <th>std_test_score</th>\n",
       "      <th>rank_test_score</th>\n",
       "    </tr>\n",
       "  </thead>\n",
       "  <tbody>\n",
       "    <tr>\n",
       "      <th>59</th>\n",
       "      <td>60.887436</td>\n",
       "      <td>8.228115</td>\n",
       "      <td>0.022190</td>\n",
       "      <td>0.003104</td>\n",
       "      <td>(20, 20, 5)</td>\n",
       "      <td>{'hidden_layer_sizes': (20, 20, 5)}</td>\n",
       "      <td>0.746487</td>\n",
       "      <td>0.738650</td>\n",
       "      <td>0.751339</td>\n",
       "      <td>0.748775</td>\n",
       "      <td>0.746313</td>\n",
       "      <td>0.004745</td>\n",
       "      <td>1</td>\n",
       "    </tr>\n",
       "    <tr>\n",
       "      <th>40</th>\n",
       "      <td>50.321370</td>\n",
       "      <td>3.789930</td>\n",
       "      <td>0.019447</td>\n",
       "      <td>0.003895</td>\n",
       "      <td>(15, 15, 10)</td>\n",
       "      <td>{'hidden_layer_sizes': (15, 15, 10)}</td>\n",
       "      <td>0.746527</td>\n",
       "      <td>0.737707</td>\n",
       "      <td>0.751695</td>\n",
       "      <td>0.748558</td>\n",
       "      <td>0.746122</td>\n",
       "      <td>0.005195</td>\n",
       "      <td>2</td>\n",
       "    </tr>\n",
       "    <tr>\n",
       "      <th>60</th>\n",
       "      <td>58.839637</td>\n",
       "      <td>13.701081</td>\n",
       "      <td>0.023187</td>\n",
       "      <td>0.002854</td>\n",
       "      <td>(20, 20, 10)</td>\n",
       "      <td>{'hidden_layer_sizes': (20, 20, 10)}</td>\n",
       "      <td>0.747214</td>\n",
       "      <td>0.737485</td>\n",
       "      <td>0.750859</td>\n",
       "      <td>0.748629</td>\n",
       "      <td>0.746047</td>\n",
       "      <td>0.005111</td>\n",
       "      <td>3</td>\n",
       "    </tr>\n",
       "    <tr>\n",
       "      <th>41</th>\n",
       "      <td>57.272616</td>\n",
       "      <td>10.411467</td>\n",
       "      <td>0.022439</td>\n",
       "      <td>0.002056</td>\n",
       "      <td>(15, 15, 15)</td>\n",
       "      <td>{'hidden_layer_sizes': (15, 15, 15)}</td>\n",
       "      <td>0.746198</td>\n",
       "      <td>0.737280</td>\n",
       "      <td>0.751213</td>\n",
       "      <td>0.748205</td>\n",
       "      <td>0.745724</td>\n",
       "      <td>0.005192</td>\n",
       "      <td>4</td>\n",
       "    </tr>\n",
       "    <tr>\n",
       "      <th>37</th>\n",
       "      <td>36.045561</td>\n",
       "      <td>4.500885</td>\n",
       "      <td>0.022688</td>\n",
       "      <td>0.005614</td>\n",
       "      <td>(15, 10, 15)</td>\n",
       "      <td>{'hidden_layer_sizes': (15, 10, 15)}</td>\n",
       "      <td>0.745828</td>\n",
       "      <td>0.737659</td>\n",
       "      <td>0.750755</td>\n",
       "      <td>0.748202</td>\n",
       "      <td>0.745611</td>\n",
       "      <td>0.004911</td>\n",
       "      <td>5</td>\n",
       "    </tr>\n",
       "  </tbody>\n",
       "</table>\n",
       "</div>"
      ],
      "text/plain": [
       "    mean_fit_time  std_fit_time  mean_score_time  std_score_time  \\\n",
       "59      60.887436      8.228115         0.022190        0.003104   \n",
       "40      50.321370      3.789930         0.019447        0.003895   \n",
       "60      58.839637     13.701081         0.023187        0.002854   \n",
       "41      57.272616     10.411467         0.022439        0.002056   \n",
       "37      36.045561      4.500885         0.022688        0.005614   \n",
       "\n",
       "   param_hidden_layer_sizes                                params  \\\n",
       "59              (20, 20, 5)   {'hidden_layer_sizes': (20, 20, 5)}   \n",
       "40             (15, 15, 10)  {'hidden_layer_sizes': (15, 15, 10)}   \n",
       "60             (20, 20, 10)  {'hidden_layer_sizes': (20, 20, 10)}   \n",
       "41             (15, 15, 15)  {'hidden_layer_sizes': (15, 15, 15)}   \n",
       "37             (15, 10, 15)  {'hidden_layer_sizes': (15, 10, 15)}   \n",
       "\n",
       "    split0_test_score  split1_test_score  split2_test_score  \\\n",
       "59           0.746487           0.738650           0.751339   \n",
       "40           0.746527           0.737707           0.751695   \n",
       "60           0.747214           0.737485           0.750859   \n",
       "41           0.746198           0.737280           0.751213   \n",
       "37           0.745828           0.737659           0.750755   \n",
       "\n",
       "    split3_test_score  mean_test_score  std_test_score  rank_test_score  \n",
       "59           0.748775         0.746313        0.004745                1  \n",
       "40           0.748558         0.746122        0.005195                2  \n",
       "60           0.748629         0.746047        0.005111                3  \n",
       "41           0.748205         0.745724        0.005192                4  \n",
       "37           0.748202         0.745611        0.004911                5  "
      ]
     },
     "execution_count": 14,
     "metadata": {},
     "output_type": "execute_result"
    }
   ],
   "source": [
    "results = pd.DataFrame(grid_search2.cv_results_)\n",
    "results = results.sort_values('rank_test_score')\n",
    "results.head()"
   ]
  },
  {
   "cell_type": "code",
   "execution_count": 15,
   "metadata": {},
   "outputs": [
    {
     "name": "stdout",
     "output_type": "stream",
     "text": [
      "R^2:  0.75\n",
      "RMSE:  167.0\n",
      "MAE:  85.0\n"
     ]
    }
   ],
   "source": [
    "best_red2 = grid_search2.best_estimator_\n",
    "r2 = cross_val_score(best_red2, X, y, cv=4, scoring = 'r2')\n",
    "rmse = cross_val_score(best_red2, X, y, cv=4, scoring = 'neg_mean_squared_error')\n",
    "mae = cross_val_score(best_red2, X, y, cv=4, scoring = 'neg_mean_absolute_error')\n",
    "\n",
    "print('R^2: ',np.mean(r2).round(2))\n",
    "print('RMSE: ',np.mean(np.sqrt(-rmse)).round(0))\n",
    "print('MAE: ',np.mean(-mae).round(0))"
   ]
  },
  {
   "cell_type": "code",
   "execution_count": 16,
   "metadata": {},
   "outputs": [
    {
     "name": "stdout",
     "output_type": "stream",
     "text": [
      "Original correlation:\n",
      "          0         1\n",
      "0  1.000000  0.735804\n",
      "1  0.735804  1.000000\n",
      "\u001b[0;0m\n",
      "Fit correlation:\n",
      "          0         1\n",
      "0  1.000000  0.862023\n",
      "1  0.862023  1.000000\n",
      "\u001b[0;0m\n"
     ]
    }
   ],
   "source": [
    "from sklearn.neural_network import MLPRegressor\n",
    "from sklearn.model_selection import cross_val_score\n",
    "import warnings\n",
    "warnings.filterwarnings(\"ignore\")\n",
    "\n",
    "MLP_reg2 = MLPRegressor(random_state=42, solver='adam', activation='relu', hidden_layer_sizes=[20, 20, 5])\n",
    "MLP_reg2.fit(X[:20394],y[:20394])\n",
    "predictions = MLP_reg2.predict(X[20394:])\n",
    "\n",
    "print('Original correlation:')\n",
    "print(data_original.corr(method ='pearson'))\n",
    "print(\"\\033[0;0m\")\n",
    "\n",
    "data_test = pd.DataFrame(np.column_stack((y[20394:].astype(int), predictions)))\n",
    "print('Fit correlation:')\n",
    "print(data_test.corr(method ='pearson'))\n",
    "print(\"\\033[0;0m\")"
   ]
  },
  {
   "cell_type": "code",
   "execution_count": 17,
   "metadata": {},
   "outputs": [
    {
     "name": "stdout",
     "output_type": "stream",
     "text": [
      "Original correlation:\n",
      "          0         1\n",
      "0  1.000000  0.735804\n",
      "1  0.735804  1.000000\n",
      "\u001b[0;0m\n",
      "Fit correlation:\n",
      "          0         1\n",
      "0  1.000000  0.862459\n",
      "1  0.862459  1.000000\n",
      "\u001b[0;0m\n"
     ]
    }
   ],
   "source": [
    "predictions = MLP_reg2.predict(X)\n",
    "print('Original correlation:')\n",
    "print(data_original.corr(method ='pearson'))\n",
    "print(\"\\033[0;0m\")\n",
    "\n",
    "data_test = pd.DataFrame(np.column_stack((y.astype(int), predictions)))\n",
    "print('Fit correlation:')\n",
    "print(data_test.corr(method ='pearson'))\n",
    "print(\"\\033[0;0m\")"
   ]
  },
  {
   "cell_type": "markdown",
   "metadata": {},
   "source": [
    "## 2.3 Linear regression model"
   ]
  },
  {
   "cell_type": "code",
   "execution_count": 18,
   "metadata": {},
   "outputs": [
    {
     "name": "stdout",
     "output_type": "stream",
     "text": [
      "R^2:  0.7\n",
      "RMSE:  182.0\n",
      "MAE:  113.0\n"
     ]
    }
   ],
   "source": [
    "from sklearn.linear_model import LinearRegression\n",
    "lin_reg = LinearRegression()\n",
    "r2 = cross_val_score(lin_reg, X, y, cv=4, scoring = 'r2')\n",
    "rmse = cross_val_score(lin_reg, X, y, cv=4, scoring = 'neg_mean_squared_error')\n",
    "mae = cross_val_score(lin_reg, X, y, cv=4, scoring = 'neg_mean_absolute_error')\n",
    "\n",
    "print('R^2: ',np.mean(r2).round(2))\n",
    "print('RMSE: ',np.mean(np.sqrt(-rmse)).round(0))\n",
    "print('MAE: ',np.mean(-mae).round(0))"
   ]
  },
  {
   "cell_type": "code",
   "execution_count": 19,
   "metadata": {},
   "outputs": [
    {
     "name": "stdout",
     "output_type": "stream",
     "text": [
      "Original correlation:\n",
      "          0         1\n",
      "0  1.000000  0.735804\n",
      "1  0.735804  1.000000\n",
      "\u001b[0;0m\n",
      "Fit correlation:\n",
      "          0         1\n",
      "0  1.000000  0.835656\n",
      "1  0.835656  1.000000\n",
      "\u001b[0;0m\n"
     ]
    }
   ],
   "source": [
    "from sklearn.linear_model import LinearRegression\n",
    "\n",
    "lin_reg = LinearRegression(n_jobs=-1)\n",
    "lin_reg.fit(X[:20394],y[:20394])\n",
    "predictions = lin_reg.predict(X[20394:])\n",
    "\n",
    "print('Original correlation:')\n",
    "print(data_original.corr(method ='pearson'))\n",
    "print(\"\\033[0;0m\")\n",
    "\n",
    "data_test = pd.DataFrame(np.column_stack((y[20394:].astype(int), predictions)))\n",
    "print('Fit correlation:')\n",
    "print(data_test.corr(method ='pearson'))\n",
    "print(\"\\033[0;0m\")"
   ]
  },
  {
   "cell_type": "code",
   "execution_count": 20,
   "metadata": {},
   "outputs": [
    {
     "name": "stdout",
     "output_type": "stream",
     "text": [
      "Original correlation:\n",
      "          0         1\n",
      "0  1.000000  0.735804\n",
      "1  0.735804  1.000000\n",
      "\u001b[0;0m\n",
      "Fit correlation:\n",
      "          0         1\n",
      "0  1.000000  0.835637\n",
      "1  0.835637  1.000000\n",
      "\u001b[0;0m\n"
     ]
    }
   ],
   "source": [
    "predictions = lin_reg.predict(X)\n",
    "print('Original correlation:')\n",
    "print(data_original.corr(method ='pearson'))\n",
    "print(\"\\033[0;0m\")\n",
    "\n",
    "data_test = pd.DataFrame(np.column_stack((y.astype(int), predictions)))\n",
    "print('Fit correlation:')\n",
    "print(data_test.corr(method ='pearson'))\n",
    "print(\"\\033[0;0m\")"
   ]
  },
  {
   "cell_type": "markdown",
   "metadata": {},
   "source": [
    "## 2.4 AdaBoost"
   ]
  },
  {
   "cell_type": "code",
   "execution_count": 21,
   "metadata": {},
   "outputs": [
    {
     "name": "stdout",
     "output_type": "stream",
     "text": [
      "Fitting 4 folds for each of 20 candidates, totalling 80 fits\n"
     ]
    },
    {
     "name": "stderr",
     "output_type": "stream",
     "text": [
      "[Parallel(n_jobs=1)]: Using backend SequentialBackend with 1 concurrent workers.\n",
      "[Parallel(n_jobs=1)]: Done  80 out of  80 | elapsed:   46.5s finished\n"
     ]
    },
    {
     "name": "stdout",
     "output_type": "stream",
     "text": [
      "GridSearchCV took 47.25 seconds for 20 possible parameter combinations.\n"
     ]
    }
   ],
   "source": [
    "# Adaboost\n",
    "from sklearn.ensemble import AdaBoostRegressor\n",
    "from sklearn.tree import DecisionTreeRegressor\n",
    "\n",
    "param_grid = {'n_estimators': np.arange(20,401,20)} \n",
    "tree = DecisionTreeRegressor(max_depth=1, random_state=42)\n",
    "adaboost = AdaBoostRegressor(tree)\n",
    "\n",
    "ada_reg = GridSearchCV(adaboost, param_grid, cv=4, scoring='r2', verbose=1)\n",
    "\n",
    "start = time()\n",
    "ada_reg.fit(X, y)\n",
    "print(\"GridSearchCV took %.2f seconds for %d possible parameter combinations.\"\n",
    "      % (time() - start, len(ada_reg.cv_results_['params'])))"
   ]
  },
  {
   "cell_type": "code",
   "execution_count": 22,
   "metadata": {},
   "outputs": [
    {
     "name": "stdout",
     "output_type": "stream",
     "text": [
      "Best parameters:  {'n_estimators': 220}\n"
     ]
    }
   ],
   "source": [
    "print('Best parameters: ', ada_reg.best_params_)"
   ]
  },
  {
   "cell_type": "code",
   "execution_count": 23,
   "metadata": {},
   "outputs": [
    {
     "name": "stdout",
     "output_type": "stream",
     "text": [
      "R^2:  0.58\n",
      "RMSE:  220.0\n",
      "MAE:  168.0\n"
     ]
    }
   ],
   "source": [
    "mejor_ada = ada_reg.best_estimator_\n",
    "r2 = cross_val_score(mejor_ada, X, y, cv=4, scoring = 'r2')\n",
    "rmse = cross_val_score(mejor_ada, X, y, cv=4, scoring = 'neg_mean_squared_error')\n",
    "mae = cross_val_score(mejor_ada, X, y, cv=4, scoring = 'neg_mean_absolute_error')\n",
    "\n",
    "print('R^2: ',np.mean(r2).round(2))\n",
    "print('RMSE: ',np.mean(np.sqrt(-rmse)).round(0))\n",
    "print('MAE: ',np.mean(-mae).round(0))"
   ]
  },
  {
   "cell_type": "code",
   "execution_count": 24,
   "metadata": {},
   "outputs": [
    {
     "data": {
      "text/html": [
       "<div>\n",
       "<style scoped>\n",
       "    .dataframe tbody tr th:only-of-type {\n",
       "        vertical-align: middle;\n",
       "    }\n",
       "\n",
       "    .dataframe tbody tr th {\n",
       "        vertical-align: top;\n",
       "    }\n",
       "\n",
       "    .dataframe thead th {\n",
       "        text-align: right;\n",
       "    }\n",
       "</style>\n",
       "<table border=\"1\" class=\"dataframe\">\n",
       "  <thead>\n",
       "    <tr style=\"text-align: right;\">\n",
       "      <th></th>\n",
       "      <th>mean_fit_time</th>\n",
       "      <th>std_fit_time</th>\n",
       "      <th>mean_score_time</th>\n",
       "      <th>std_score_time</th>\n",
       "      <th>param_n_estimators</th>\n",
       "      <th>params</th>\n",
       "      <th>split0_test_score</th>\n",
       "      <th>split1_test_score</th>\n",
       "      <th>split2_test_score</th>\n",
       "      <th>split3_test_score</th>\n",
       "      <th>mean_test_score</th>\n",
       "      <th>std_test_score</th>\n",
       "      <th>rank_test_score</th>\n",
       "    </tr>\n",
       "  </thead>\n",
       "  <tbody>\n",
       "    <tr>\n",
       "      <th>10</th>\n",
       "      <td>0.608622</td>\n",
       "      <td>0.037460</td>\n",
       "      <td>0.020196</td>\n",
       "      <td>0.001295</td>\n",
       "      <td>220</td>\n",
       "      <td>{'n_estimators': 220}</td>\n",
       "      <td>0.572868</td>\n",
       "      <td>0.594407</td>\n",
       "      <td>0.570169</td>\n",
       "      <td>0.570228</td>\n",
       "      <td>0.576918</td>\n",
       "      <td>0.010156</td>\n",
       "      <td>1</td>\n",
       "    </tr>\n",
       "    <tr>\n",
       "      <th>5</th>\n",
       "      <td>0.515871</td>\n",
       "      <td>0.025770</td>\n",
       "      <td>0.021193</td>\n",
       "      <td>0.005658</td>\n",
       "      <td>120</td>\n",
       "      <td>{'n_estimators': 120}</td>\n",
       "      <td>0.572657</td>\n",
       "      <td>0.583600</td>\n",
       "      <td>0.574772</td>\n",
       "      <td>0.570701</td>\n",
       "      <td>0.575432</td>\n",
       "      <td>0.004931</td>\n",
       "      <td>2</td>\n",
       "    </tr>\n",
       "    <tr>\n",
       "      <th>16</th>\n",
       "      <td>0.594116</td>\n",
       "      <td>0.072944</td>\n",
       "      <td>0.023686</td>\n",
       "      <td>0.003690</td>\n",
       "      <td>340</td>\n",
       "      <td>{'n_estimators': 340}</td>\n",
       "      <td>0.566540</td>\n",
       "      <td>0.569328</td>\n",
       "      <td>0.575428</td>\n",
       "      <td>0.570014</td>\n",
       "      <td>0.570327</td>\n",
       "      <td>0.003219</td>\n",
       "      <td>3</td>\n",
       "    </tr>\n",
       "    <tr>\n",
       "      <th>1</th>\n",
       "      <td>0.536814</td>\n",
       "      <td>0.077784</td>\n",
       "      <td>0.022689</td>\n",
       "      <td>0.005434</td>\n",
       "      <td>40</td>\n",
       "      <td>{'n_estimators': 40}</td>\n",
       "      <td>0.569105</td>\n",
       "      <td>0.569304</td>\n",
       "      <td>0.568923</td>\n",
       "      <td>0.569730</td>\n",
       "      <td>0.569266</td>\n",
       "      <td>0.000300</td>\n",
       "      <td>4</td>\n",
       "    </tr>\n",
       "    <tr>\n",
       "      <th>13</th>\n",
       "      <td>0.537313</td>\n",
       "      <td>0.087238</td>\n",
       "      <td>0.018450</td>\n",
       "      <td>0.001798</td>\n",
       "      <td>280</td>\n",
       "      <td>{'n_estimators': 280}</td>\n",
       "      <td>0.567263</td>\n",
       "      <td>0.567298</td>\n",
       "      <td>0.569784</td>\n",
       "      <td>0.565401</td>\n",
       "      <td>0.567436</td>\n",
       "      <td>0.001557</td>\n",
       "      <td>5</td>\n",
       "    </tr>\n",
       "  </tbody>\n",
       "</table>\n",
       "</div>"
      ],
      "text/plain": [
       "    mean_fit_time  std_fit_time  mean_score_time  std_score_time  \\\n",
       "10       0.608622      0.037460         0.020196        0.001295   \n",
       "5        0.515871      0.025770         0.021193        0.005658   \n",
       "16       0.594116      0.072944         0.023686        0.003690   \n",
       "1        0.536814      0.077784         0.022689        0.005434   \n",
       "13       0.537313      0.087238         0.018450        0.001798   \n",
       "\n",
       "   param_n_estimators                 params  split0_test_score  \\\n",
       "10                220  {'n_estimators': 220}           0.572868   \n",
       "5                 120  {'n_estimators': 120}           0.572657   \n",
       "16                340  {'n_estimators': 340}           0.566540   \n",
       "1                  40   {'n_estimators': 40}           0.569105   \n",
       "13                280  {'n_estimators': 280}           0.567263   \n",
       "\n",
       "    split1_test_score  split2_test_score  split3_test_score  mean_test_score  \\\n",
       "10           0.594407           0.570169           0.570228         0.576918   \n",
       "5            0.583600           0.574772           0.570701         0.575432   \n",
       "16           0.569328           0.575428           0.570014         0.570327   \n",
       "1            0.569304           0.568923           0.569730         0.569266   \n",
       "13           0.567298           0.569784           0.565401         0.567436   \n",
       "\n",
       "    std_test_score  rank_test_score  \n",
       "10        0.010156                1  \n",
       "5         0.004931                2  \n",
       "16        0.003219                3  \n",
       "1         0.000300                4  \n",
       "13        0.001557                5  "
      ]
     },
     "execution_count": 24,
     "metadata": {},
     "output_type": "execute_result"
    }
   ],
   "source": [
    "results = pd.DataFrame(ada_reg.cv_results_)\n",
    "results = results.sort_values('rank_test_score')\n",
    "results.head()"
   ]
  },
  {
   "cell_type": "code",
   "execution_count": 25,
   "metadata": {},
   "outputs": [
    {
     "name": "stdout",
     "output_type": "stream",
     "text": [
      "Original correlation:\n",
      "          0         1\n",
      "0  1.000000  0.735804\n",
      "1  0.735804  1.000000\n",
      "\u001b[0;0m\n",
      "Fit correlation:\n",
      "          0         1\n",
      "0  1.000000  0.797071\n",
      "1  0.797071  1.000000\n",
      "\u001b[0;0m\n"
     ]
    }
   ],
   "source": [
    "from sklearn.ensemble import AdaBoostRegressor\n",
    "from sklearn.tree import DecisionTreeRegressor\n",
    "\n",
    "tree = DecisionTreeRegressor(max_depth=1, random_state=42)\n",
    "adaboost = AdaBoostRegressor(tree, n_estimators=20)\n",
    "adaboost.fit(X[:20394],y[:20394])\n",
    "predictions = adaboost.predict(X[20394:])\n",
    "\n",
    "print('Original correlation:')\n",
    "print(data_original.corr(method ='pearson'))\n",
    "print(\"\\033[0;0m\")\n",
    "\n",
    "data_test = pd.DataFrame(np.column_stack((y[20394:].astype(int), predictions)))\n",
    "print('Fit correlation:')\n",
    "print(data_test.corr(method ='pearson'))\n",
    "print(\"\\033[0;0m\")"
   ]
  },
  {
   "cell_type": "code",
   "execution_count": 26,
   "metadata": {},
   "outputs": [
    {
     "name": "stdout",
     "output_type": "stream",
     "text": [
      "Original correlation:\n",
      "          0         1\n",
      "0  1.000000  0.735804\n",
      "1  0.735804  1.000000\n",
      "\u001b[0;0m\n",
      "Fit correlation:\n",
      "          0         1\n",
      "0  1.000000  0.796926\n",
      "1  0.796926  1.000000\n",
      "\u001b[0;0m\n"
     ]
    }
   ],
   "source": [
    "predictions = adaboost.predict(X)\n",
    "print('Original correlation:')\n",
    "print(data_original.corr(method ='pearson'))\n",
    "print(\"\\033[0;0m\")\n",
    "\n",
    "data_test = pd.DataFrame(np.column_stack((y.astype(int), predictions)))\n",
    "print('Fit correlation:')\n",
    "print(data_test.corr(method ='pearson'))\n",
    "print(\"\\033[0;0m\")"
   ]
  },
  {
   "cell_type": "markdown",
   "metadata": {},
   "source": [
    "## 2.5 Random Forest"
   ]
  },
  {
   "cell_type": "code",
   "execution_count": 27,
   "metadata": {},
   "outputs": [
    {
     "name": "stdout",
     "output_type": "stream",
     "text": [
      "Fitting 4 folds for each of 20 candidates, totalling 80 fits\n"
     ]
    },
    {
     "name": "stderr",
     "output_type": "stream",
     "text": [
      "[Parallel(n_jobs=1)]: Using backend SequentialBackend with 1 concurrent workers.\n",
      "[Parallel(n_jobs=1)]: Done  80 out of  80 | elapsed: 49.7min finished\n"
     ]
    },
    {
     "name": "stdout",
     "output_type": "stream",
     "text": [
      "GridSearchCV took 3073.66 seconds for 20 possible parameter combinations.\n"
     ]
    }
   ],
   "source": [
    "from sklearn.ensemble import RandomForestRegressor\n",
    "\n",
    "param_grid = {'n_estimators': np.arange(20,401,20)} \n",
    "forest = RandomForestRegressor(random_state=42)\n",
    "\n",
    "forest_reg = GridSearchCV(forest, param_grid, cv=4, scoring='r2', verbose=1)\n",
    "\n",
    "start = time()\n",
    "forest_reg.fit(X, y)\n",
    "print(\"GridSearchCV took %.2f seconds for %d possible parameter combinations.\"\n",
    "      % (time() - start, len(forest_reg.cv_results_['params'])))"
   ]
  },
  {
   "cell_type": "code",
   "execution_count": 28,
   "metadata": {},
   "outputs": [
    {
     "name": "stdout",
     "output_type": "stream",
     "text": [
      "Best parameters:  {'n_estimators': 400}\n"
     ]
    }
   ],
   "source": [
    "print('Best parameters: ', forest_reg.best_params_)"
   ]
  },
  {
   "cell_type": "code",
   "execution_count": 29,
   "metadata": {},
   "outputs": [
    {
     "name": "stdout",
     "output_type": "stream",
     "text": [
      "R^2:  0.73\n",
      "RMSE:  173.0\n",
      "MAE:  88.0\n"
     ]
    }
   ],
   "source": [
    "mejor_forest = forest_reg.best_estimator_\n",
    "r2 = cross_val_score(mejor_forest, X, y, cv=4, scoring = 'r2')\n",
    "rmse = cross_val_score(mejor_forest, X, y, cv=4, scoring = 'neg_mean_squared_error')\n",
    "mae = cross_val_score(mejor_forest, X, y, cv=4, scoring = 'neg_mean_absolute_error')\n",
    "\n",
    "print('R^2: ',np.mean(r2).round(2))\n",
    "print('RMSE: ',np.mean(np.sqrt(-rmse)).round(0))\n",
    "print('MAE: ',np.mean(-mae).round(0))"
   ]
  },
  {
   "cell_type": "code",
   "execution_count": 30,
   "metadata": {},
   "outputs": [
    {
     "data": {
      "text/html": [
       "<div>\n",
       "<style scoped>\n",
       "    .dataframe tbody tr th:only-of-type {\n",
       "        vertical-align: middle;\n",
       "    }\n",
       "\n",
       "    .dataframe tbody tr th {\n",
       "        vertical-align: top;\n",
       "    }\n",
       "\n",
       "    .dataframe thead th {\n",
       "        text-align: right;\n",
       "    }\n",
       "</style>\n",
       "<table border=\"1\" class=\"dataframe\">\n",
       "  <thead>\n",
       "    <tr style=\"text-align: right;\">\n",
       "      <th></th>\n",
       "      <th>mean_fit_time</th>\n",
       "      <th>std_fit_time</th>\n",
       "      <th>mean_score_time</th>\n",
       "      <th>std_score_time</th>\n",
       "      <th>param_n_estimators</th>\n",
       "      <th>params</th>\n",
       "      <th>split0_test_score</th>\n",
       "      <th>split1_test_score</th>\n",
       "      <th>split2_test_score</th>\n",
       "      <th>split3_test_score</th>\n",
       "      <th>mean_test_score</th>\n",
       "      <th>std_test_score</th>\n",
       "      <th>rank_test_score</th>\n",
       "    </tr>\n",
       "  </thead>\n",
       "  <tbody>\n",
       "    <tr>\n",
       "      <th>19</th>\n",
       "      <td>68.092817</td>\n",
       "      <td>0.371276</td>\n",
       "      <td>2.644176</td>\n",
       "      <td>0.042818</td>\n",
       "      <td>400</td>\n",
       "      <td>{'n_estimators': 400}</td>\n",
       "      <td>0.728691</td>\n",
       "      <td>0.718215</td>\n",
       "      <td>0.735702</td>\n",
       "      <td>0.730443</td>\n",
       "      <td>0.728263</td>\n",
       "      <td>0.006349</td>\n",
       "      <td>1</td>\n",
       "    </tr>\n",
       "    <tr>\n",
       "      <th>18</th>\n",
       "      <td>64.534038</td>\n",
       "      <td>0.491286</td>\n",
       "      <td>2.498815</td>\n",
       "      <td>0.065090</td>\n",
       "      <td>380</td>\n",
       "      <td>{'n_estimators': 380}</td>\n",
       "      <td>0.728681</td>\n",
       "      <td>0.718166</td>\n",
       "      <td>0.735670</td>\n",
       "      <td>0.730377</td>\n",
       "      <td>0.728223</td>\n",
       "      <td>0.006353</td>\n",
       "      <td>2</td>\n",
       "    </tr>\n",
       "    <tr>\n",
       "      <th>17</th>\n",
       "      <td>60.966409</td>\n",
       "      <td>0.256738</td>\n",
       "      <td>2.363428</td>\n",
       "      <td>0.068853</td>\n",
       "      <td>360</td>\n",
       "      <td>{'n_estimators': 360}</td>\n",
       "      <td>0.728697</td>\n",
       "      <td>0.718020</td>\n",
       "      <td>0.735530</td>\n",
       "      <td>0.730366</td>\n",
       "      <td>0.728153</td>\n",
       "      <td>0.006370</td>\n",
       "      <td>3</td>\n",
       "    </tr>\n",
       "    <tr>\n",
       "      <th>16</th>\n",
       "      <td>58.245033</td>\n",
       "      <td>0.471188</td>\n",
       "      <td>2.262697</td>\n",
       "      <td>0.081823</td>\n",
       "      <td>340</td>\n",
       "      <td>{'n_estimators': 340}</td>\n",
       "      <td>0.728474</td>\n",
       "      <td>0.717961</td>\n",
       "      <td>0.735463</td>\n",
       "      <td>0.730332</td>\n",
       "      <td>0.728058</td>\n",
       "      <td>0.006367</td>\n",
       "      <td>4</td>\n",
       "    </tr>\n",
       "    <tr>\n",
       "      <th>15</th>\n",
       "      <td>54.747109</td>\n",
       "      <td>0.095428</td>\n",
       "      <td>2.060987</td>\n",
       "      <td>0.045608</td>\n",
       "      <td>320</td>\n",
       "      <td>{'n_estimators': 320}</td>\n",
       "      <td>0.728441</td>\n",
       "      <td>0.717717</td>\n",
       "      <td>0.735651</td>\n",
       "      <td>0.730406</td>\n",
       "      <td>0.728054</td>\n",
       "      <td>0.006524</td>\n",
       "      <td>5</td>\n",
       "    </tr>\n",
       "  </tbody>\n",
       "</table>\n",
       "</div>"
      ],
      "text/plain": [
       "    mean_fit_time  std_fit_time  mean_score_time  std_score_time  \\\n",
       "19      68.092817      0.371276         2.644176        0.042818   \n",
       "18      64.534038      0.491286         2.498815        0.065090   \n",
       "17      60.966409      0.256738         2.363428        0.068853   \n",
       "16      58.245033      0.471188         2.262697        0.081823   \n",
       "15      54.747109      0.095428         2.060987        0.045608   \n",
       "\n",
       "   param_n_estimators                 params  split0_test_score  \\\n",
       "19                400  {'n_estimators': 400}           0.728691   \n",
       "18                380  {'n_estimators': 380}           0.728681   \n",
       "17                360  {'n_estimators': 360}           0.728697   \n",
       "16                340  {'n_estimators': 340}           0.728474   \n",
       "15                320  {'n_estimators': 320}           0.728441   \n",
       "\n",
       "    split1_test_score  split2_test_score  split3_test_score  mean_test_score  \\\n",
       "19           0.718215           0.735702           0.730443         0.728263   \n",
       "18           0.718166           0.735670           0.730377         0.728223   \n",
       "17           0.718020           0.735530           0.730366         0.728153   \n",
       "16           0.717961           0.735463           0.730332         0.728058   \n",
       "15           0.717717           0.735651           0.730406         0.728054   \n",
       "\n",
       "    std_test_score  rank_test_score  \n",
       "19        0.006349                1  \n",
       "18        0.006353                2  \n",
       "17        0.006370                3  \n",
       "16        0.006367                4  \n",
       "15        0.006524                5  "
      ]
     },
     "execution_count": 30,
     "metadata": {},
     "output_type": "execute_result"
    }
   ],
   "source": [
    "results = pd.DataFrame(forest_reg.cv_results_)\n",
    "results = results.sort_values('rank_test_score')\n",
    "results.head()"
   ]
  },
  {
   "cell_type": "markdown",
   "metadata": {},
   "source": [
    "# 4. Regression model on all data"
   ]
  },
  {
   "cell_type": "code",
   "execution_count": 31,
   "metadata": {},
   "outputs": [
    {
     "data": {
      "image/png": "[encoded data removed]",
      "text/plain": [
       "<Figure size 648x504 with 1 Axes>"
      ]
     },
     "metadata": {
      "needs_background": "light"
     },
     "output_type": "display_data"
    }
   ],
   "source": [
    "X_norm = scaler.fit_transform(X.astype('float64'))\n",
    "predictions = mejor_forest.predict(X_norm)\n",
    "pred = pd.DataFrame(np.round(predictions))\n",
    "pred = pred.replace(pred[pred[0]<=0],0)\n",
    "pd.DataFrame(np.column_stack((pred[0],y)))\n",
    "\n",
    "ghi_nsrdb = np.array(est_1['GHI_NSRDB']).astype('int64')\n",
    "actual = np.array(y).astype('int64')\n",
    "\n",
    "plt.rcParams['figure.figsize'] = (9, 7)\n",
    "plt.plot(actual,'b', label='In-situ')\n",
    "plt.plot(pred[0],'r', label='Adjusted')\n",
    "plt.plot(ghi_nsrdb,'g', label='Satellite')\n",
    "plt.legend(loc='upper left', fontsize=14)\n",
    "plt.xlabel(\"Samples\", fontsize=14)\n",
    "plt.ylabel(\"GHI $[kWh/m^2]$\", fontsize=14)\n",
    "plt.legend()\n",
    "plt.show()"
   ]
  },
  {
   "cell_type": "code",
   "execution_count": 35,
   "metadata": {},
   "outputs": [
    {
     "name": "stdout",
     "output_type": "stream",
     "text": [
      "Root mean square error:  65.88420186216236\n",
      "Mean absolute error:  33.419752632417655\n",
      "R-Squared:  0.9603897314716922\n"
     ]
    }
   ],
   "source": [
    "from sklearn.metrics import mean_squared_error\n",
    "from sklearn.metrics import mean_absolute_error\n",
    "from sklearn.metrics import r2_score\n",
    "\n",
    "rmse = np.sqrt(mean_squared_error(y, pred))\n",
    "mae = mean_absolute_error(y, pred)\n",
    "r2 = r2_score(y, pred)\n",
    "\n",
    "print('Root mean square error: ', rmse)\n",
    "print('Mean absolute error: ', mae)\n",
    "print('R-Squared: ', r2)"
   ]
  },
  {
   "cell_type": "code",
   "execution_count": 2,
   "metadata": {},
   "outputs": [],
   "source": [
    "# save data\n",
    "pred.to_csv(folder+'GHI_SA.csv', index=False)"
   ]
  },
  {
   "cell_type": "code",
   "execution_count": 44,
   "metadata": {},
   "outputs": [
    {
     "data": {
      "text/plain": [
       "['best_regressor.pkl']"
      ]
     },
     "execution_count": 44,
     "metadata": {},
     "output_type": "execute_result"
    }
   ],
   "source": [
    "# Save best regression model\n",
    "import joblib\n",
    "joblib.dump(mejor_forest, \"best_regressor.pkl\")"
   ]
  },
  {
   "cell_type": "code",
   "execution_count": 47,
   "metadata": {},
   "outputs": [
    {
     "data": {
      "image/png": "[encoded data removed]",
      "text/plain": [
       "<Figure size 648x504 with 1 Axes>"
      ]
     },
     "metadata": {
      "needs_background": "light"
     },
     "output_type": "display_data"
    }
   ],
   "source": [
    "scaler = StandardScaler()\n",
    "\n",
    "X = est_1[['Hora','GHI_NSRDB','DHI','DNI','Wind Speed','Temperature','Solar Zenith Angle']]\n",
    "y = est_1['GHI_IDEAM']\n",
    "\n",
    "X_norm = scaler.fit_transform(X.astype('float64'))\n",
    "predictions = mejor_forest.predict(X_norm)\n",
    "pred = pd.DataFrame(np.round(predictions))\n",
    "pred = pred.replace(pred[pred[0]<=0],0)\n",
    "\n",
    "ghi_nsrdb = np.array(est_1['GHI_NSRDB']).astype('int64')\n",
    "actual = np.array(y).astype('int64')\n",
    "\n",
    "pred = np.array(pred[0])\n",
    "\n",
    "plt.figure()\n",
    "plt.rcParams['figure.figsize'] = (9, 7)\n",
    "plt.plot(actual[168:168+168],'--b', label='In-situ', linewidth=2)\n",
    "plt.plot(pred[168:168+168],'r', label='Improved data', linewidth=2)\n",
    "plt.plot(ghi_nsrdb[168:168+168],'-.g', label='Satellite', linewidth=2)\n",
    "plt.legend(loc='upper left', fontsize=15)\n",
    "plt.xlabel(\"Time[hours]\", fontsize=15)\n",
    "plt.xticks(size=15)\n",
    "plt.ylabel(\"GHI $[kWh/m^2]$\", fontsize=15)\n",
    "plt.yticks(size=15)\n",
    "plt.show()"
   ]
  }
 ],
 "metadata": {
  "kernelspec": {
   "display_name": "Python 3",
   "language": "python",
   "name": "python3"
  },
  "language_info": {
   "codemirror_mode": {
    "name": "ipython",
    "version": 3
   },
   "file_extension": ".py",
   "mimetype": "text/x-python",
   "name": "python",
   "nbconvert_exporter": "python",
   "pygments_lexer": "ipython3",
   "version": "3.8.5"
  }
 },
 "nbformat": 4,
 "nbformat_minor": 2
}
