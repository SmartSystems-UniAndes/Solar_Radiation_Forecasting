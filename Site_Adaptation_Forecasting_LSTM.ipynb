{
 "cells": [
  {
   "cell_type": "code",
   "execution_count": 1,
   "metadata": {
    "id": "VtYMFj8KHRiS"
   },
   "outputs": [],
   "source": [
    "import pandas as pd\n",
    "import numpy as np\n",
    "import matplotlib.pyplot as plt\n",
    "np.random.seed(42)"
   ]
  },
  {
   "cell_type": "code",
   "execution_count": 3,
   "metadata": {
    "id": "1KelM_aLHRib",
    "scrolled": false
   },
   "outputs": [],
   "source": [
    "from keras.layers import LSTM, Dense\n",
    "from keras.models import Sequential\n",
    "from keras.layers import RepeatVector\n",
    "from keras.layers import TimeDistributed\n",
    "from keras.callbacks import EarlyStopping\n",
    "from sklearn.metrics import mean_squared_error, mean_absolute_error, r2_score\n",
    "from time import time\n",
    "\n",
    "%matplotlib inline\n",
    "import matplotlib as mpl\n",
    "import matplotlib.pyplot as plt\n",
    "mpl.rc('axes', labelsize=14)\n",
    "mpl.rc('xtick', labelsize=12)\n",
    "mpl.rc('ytick', labelsize=12)"
   ]
  },
  {
   "cell_type": "markdown",
   "metadata": {
    "id": "tYmPbf98HRib"
   },
   "source": [
    "## 1. Upload data"
   ]
  },
  {
   "cell_type": "code",
   "execution_count": 4,
   "metadata": {
    "colab": {
     "base_uri": "https://localhost:8080/"
    },
    "id": "cWSAz_1VHaw-",
    "outputId": "5f7972c2-842c-4109-f345-78e89fadd3ba"
   },
   "outputs": [
    {
     "name": "stdout",
     "output_type": "stream",
     "text": [
      "Drive already mounted at /content/drive; to attempt to forcibly remount, call drive.mount(\"/content/drive\", force_remount=True).\n"
     ]
    }
   ],
   "source": [
    "from google.colab import drive\n",
    "drive.mount('/content/drive')"
   ]
  },
  {
   "cell_type": "code",
   "execution_count": 5,
   "metadata": {
    "id": "TiN6XcjKHRic"
   },
   "outputs": [],
   "source": [
    "GHI = pd.read_csv('/content/drive/MyDrive/Colab Notebooks/Data/GHI_sa.csv')"
   ]
  },
  {
   "cell_type": "markdown",
   "metadata": {
    "id": "ngMLqE5qHRic"
   },
   "source": [
    "# 3. Forecasting"
   ]
  },
  {
   "cell_type": "code",
   "execution_count": 6,
   "metadata": {
    "id": "VwYLMrt0HRid"
   },
   "outputs": [],
   "source": [
    "# divide the input vector into samples\n",
    "\n",
    "def split_sequence(sequence, n_steps_in, n_steps_out):\n",
    "    X, y = list(), list()\n",
    "    for i in range(len(sequence)):\n",
    "        end_ix = i + n_steps_in\n",
    "        out_end_ix = end_ix + n_steps_out\n",
    "        if out_end_ix > len(sequence):\n",
    "            break\n",
    "        seq_x, seq_y = sequence[i:end_ix], sequence[end_ix:out_end_ix]\n",
    "        X.append(seq_x)\n",
    "        y.append(seq_y)\n",
    "    return np.array(X), np.array(y)"
   ]
  },
  {
   "cell_type": "markdown",
   "metadata": {
    "id": "lVcuEPXWHRid"
   },
   "source": [
    "## 3.1. Dividing into training, test, and validation sets; and normalizing data"
   ]
  },
  {
   "cell_type": "code",
   "execution_count": 63,
   "metadata": {
    "id": "5MaEYz_PHRid"
   },
   "outputs": [],
   "source": [
    "from sklearn.preprocessing import StandardScaler\n",
    "\n",
    "# 14 first years for training\n",
    "# 15-17 years for validation\n",
    "# last 3 years for testing\n",
    "\n",
    "X = np.array(GHI)\n",
    "scaler = StandardScaler().fit(X.reshape(-1, 1))\n",
    "X = scaler.transform(X.reshape(-1, 1))\n",
    "X = X.ravel()\n",
    "\n",
    "X_train = X[:122640]\n",
    "X_val = X[122640:148920]\n",
    "X_test = X[148920:]"
   ]
  },
  {
   "cell_type": "code",
   "execution_count": 8,
   "metadata": {
    "colab": {
     "base_uri": "https://localhost:8080/"
    },
    "id": "15lG9pBXHRie",
    "outputId": "1523ea11-c0fa-4701-9f72-cd0e100664d5"
   },
   "outputs": [
    {
     "name": "stdout",
     "output_type": "stream",
     "text": [
      "(175200,)\n",
      "(122640,)\n",
      "(26280,)\n",
      "(26280,)\n"
     ]
    }
   ],
   "source": [
    "print(X.shape)\n",
    "print(X_train.shape)\n",
    "print(X_test.shape)\n",
    "print(X_val.shape)"
   ]
  },
  {
   "cell_type": "markdown",
   "metadata": {
    "id": "rU8SFFcuHRie"
   },
   "source": [
    "## 3.2 Daily forecasting"
   ]
  },
  {
   "cell_type": "markdown",
   "metadata": {
    "id": "fK9JMbTWHRie"
   },
   "source": [
    "### 3.2.1 Prepare data with 168 input data"
   ]
  },
  {
   "cell_type": "code",
   "execution_count": 9,
   "metadata": {
    "colab": {
     "base_uri": "https://localhost:8080/"
    },
    "id": "XN9U17JhHRie",
    "outputId": "41ce75ed-8da5-4e66-e05d-4b53762494b7"
   },
   "outputs": [
    {
     "name": "stdout",
     "output_type": "stream",
     "text": [
      "(122449, 168)\n",
      "(122449, 24)\n",
      "(26089, 168)\n",
      "(26089, 24)\n"
     ]
    }
   ],
   "source": [
    "# Choose number of input and output steps\n",
    "n_steps_in_d = 168\n",
    "n_steps_out_d = 24\n",
    "# Divide into samples\n",
    "X_t, y_t = split_sequence(X_train, n_steps_in_d, n_steps_out_d)\n",
    "X_v, y_v = split_sequence(X_val, n_steps_in_d, n_steps_out_d)\n",
    "\n",
    "print(X_t.shape)\n",
    "print(y_t.shape)\n",
    "print(X_v.shape)\n",
    "print(y_v.shape)"
   ]
  },
  {
   "cell_type": "code",
   "execution_count": 10,
   "metadata": {
    "colab": {
     "base_uri": "https://localhost:8080/"
    },
    "id": "rs9WkK_2HRif",
    "outputId": "65d8e6b7-3901-4c25-aa1b-b2c4dffc0f8f"
   },
   "outputs": [
    {
     "name": "stdout",
     "output_type": "stream",
     "text": [
      "(122449, 168, 1)\n",
      "(122449, 24, 1)\n",
      "(26089, 168, 1)\n",
      "(26089, 24, 1)\n"
     ]
    }
   ],
   "source": [
    "# Resize [samples, timesteps] to [samples, timesteps, features]\n",
    "n_features = 1\n",
    "X_t = X_t.reshape((X_t.shape[0], X_t.shape[1], n_features))\n",
    "y_t = y_t.reshape((y_t.shape[0], y_t.shape[1], n_features))\n",
    "X_v = X_v.reshape((X_v.shape[0], X_v.shape[1], n_features))\n",
    "y_v = y_v.reshape((y_v.shape[0], y_v.shape[1], n_features))\n",
    "\n",
    "print(X_t.shape)\n",
    "print(y_t.shape)\n",
    "print(X_v.shape)\n",
    "print(y_v.shape)"
   ]
  },
  {
   "cell_type": "markdown",
   "metadata": {
    "id": "KIqdn4LTHRif"
   },
   "source": [
    "### Training model: 12 neurons in encoder and decoder"
   ]
  },
  {
   "cell_type": "code",
   "execution_count": 11,
   "metadata": {
    "colab": {
     "base_uri": "https://localhost:8080/"
    },
    "id": "5duqgncqHRif",
    "outputId": "83247c4b-7982-4d07-a2d3-f56e9d162637",
    "scrolled": true
   },
   "outputs": [
    {
     "name": "stdout",
     "output_type": "stream",
     "text": [
      "Epoch 1/100\n",
      "957/957 [==============================] - 14s 11ms/step - loss: 0.4707 - val_loss: 0.1311\n",
      "Epoch 2/100\n",
      "957/957 [==============================] - 10s 11ms/step - loss: 0.1536 - val_loss: 0.1199\n",
      "Epoch 3/100\n",
      "957/957 [==============================] - 10s 11ms/step - loss: 0.1438 - val_loss: 0.1169\n",
      "Epoch 4/100\n",
      "957/957 [==============================] - 10s 10ms/step - loss: 0.1408 - val_loss: 0.1179\n",
      "Epoch 5/100\n",
      "957/957 [==============================] - 10s 10ms/step - loss: 0.1391 - val_loss: 0.1152\n",
      "Epoch 6/100\n",
      "957/957 [==============================] - 10s 10ms/step - loss: 0.1381 - val_loss: 0.1142\n",
      "Epoch 7/100\n",
      "957/957 [==============================] - 10s 10ms/step - loss: 0.1376 - val_loss: 0.1138\n",
      "Epoch 8/100\n",
      "957/957 [==============================] - 10s 10ms/step - loss: 0.1374 - val_loss: 0.1131\n",
      "Epoch 9/100\n",
      "957/957 [==============================] - 10s 11ms/step - loss: 0.1370 - val_loss: 0.1136\n",
      "Epoch 10/100\n",
      "957/957 [==============================] - 10s 10ms/step - loss: 0.1359 - val_loss: 0.1154\n",
      "Epoch 11/100\n",
      "957/957 [==============================] - 10s 10ms/step - loss: 0.1360 - val_loss: 0.1145\n",
      "Epoch 12/100\n",
      "957/957 [==============================] - 10s 10ms/step - loss: 0.1362 - val_loss: 0.1133\n",
      "Epoch 13/100\n",
      "957/957 [==============================] - 10s 10ms/step - loss: 0.1364 - val_loss: 0.1163\n",
      "Epoch 14/100\n",
      "957/957 [==============================] - 10s 11ms/step - loss: 0.1350 - val_loss: 0.1134\n",
      "Epoch 15/100\n",
      "957/957 [==============================] - 10s 11ms/step - loss: 0.1359 - val_loss: 0.1131\n",
      "Epoch 16/100\n",
      "957/957 [==============================] - 10s 10ms/step - loss: 0.1347 - val_loss: 0.1125\n",
      "Epoch 17/100\n",
      "957/957 [==============================] - 10s 11ms/step - loss: 0.1356 - val_loss: 0.1127\n",
      "Epoch 18/100\n",
      "957/957 [==============================] - 10s 11ms/step - loss: 0.1354 - val_loss: 0.1139\n",
      "Epoch 19/100\n",
      "957/957 [==============================] - 10s 10ms/step - loss: 0.1345 - val_loss: 0.1138\n",
      "Epoch 20/100\n",
      "957/957 [==============================] - 10s 10ms/step - loss: 0.1350 - val_loss: 0.1155\n",
      "Epoch 21/100\n",
      "957/957 [==============================] - 10s 10ms/step - loss: 0.1344 - val_loss: 0.1172\n",
      "Epoch 22/100\n",
      "957/957 [==============================] - 10s 10ms/step - loss: 0.1350 - val_loss: 0.1124\n",
      "Epoch 23/100\n",
      "957/957 [==============================] - 10s 10ms/step - loss: 0.1349 - val_loss: 0.1130\n",
      "Epoch 24/100\n",
      "957/957 [==============================] - 10s 10ms/step - loss: 0.1354 - val_loss: 0.1134\n",
      "Epoch 25/100\n",
      "957/957 [==============================] - 10s 11ms/step - loss: 0.1347 - val_loss: 0.1148\n",
      "Epoch 26/100\n",
      "957/957 [==============================] - 10s 11ms/step - loss: 0.1342 - val_loss: 0.1124\n",
      "Epoch 27/100\n",
      "957/957 [==============================] - 10s 10ms/step - loss: 0.1348 - val_loss: 0.1117\n",
      "Epoch 28/100\n",
      "957/957 [==============================] - 10s 11ms/step - loss: 0.1344 - val_loss: 0.1138\n",
      "Epoch 29/100\n",
      "957/957 [==============================] - 10s 10ms/step - loss: 0.1344 - val_loss: 0.1128\n",
      "Epoch 30/100\n",
      "957/957 [==============================] - 10s 10ms/step - loss: 0.1345 - val_loss: 0.1130\n",
      "Epoch 31/100\n",
      "957/957 [==============================] - 10s 10ms/step - loss: 0.1348 - val_loss: 0.1134\n",
      "Epoch 32/100\n",
      "957/957 [==============================] - 10s 11ms/step - loss: 0.1336 - val_loss: 0.1137\n",
      "Epoch 33/100\n",
      "957/957 [==============================] - 10s 10ms/step - loss: 0.1346 - val_loss: 0.1120\n",
      "Epoch 34/100\n",
      "957/957 [==============================] - 10s 11ms/step - loss: 0.1341 - val_loss: 0.1125\n",
      "Epoch 35/100\n",
      "957/957 [==============================] - 10s 10ms/step - loss: 0.1337 - val_loss: 0.1116\n",
      "Epoch 36/100\n",
      "957/957 [==============================] - 10s 11ms/step - loss: 0.1337 - val_loss: 0.1125\n",
      "Epoch 37/100\n",
      "957/957 [==============================] - 10s 10ms/step - loss: 0.1339 - val_loss: 0.1132\n",
      "Epoch 38/100\n",
      "957/957 [==============================] - 10s 11ms/step - loss: 0.1340 - val_loss: 0.1121\n",
      "Epoch 39/100\n",
      "957/957 [==============================] - 10s 11ms/step - loss: 0.1338 - val_loss: 0.1125\n",
      "Epoch 40/100\n",
      "957/957 [==============================] - 10s 10ms/step - loss: 0.1336 - val_loss: 0.1133\n",
      "Epoch 41/100\n",
      "957/957 [==============================] - 10s 11ms/step - loss: 0.1334 - val_loss: 0.1117\n",
      "Epoch 42/100\n",
      "957/957 [==============================] - 10s 11ms/step - loss: 0.1345 - val_loss: 0.1137\n",
      "Epoch 43/100\n",
      "957/957 [==============================] - 10s 11ms/step - loss: 0.1338 - val_loss: 0.1121\n",
      "Epoch 44/100\n",
      "957/957 [==============================] - 10s 10ms/step - loss: 0.1336 - val_loss: 0.1136\n",
      "Epoch 45/100\n",
      "957/957 [==============================] - 10s 11ms/step - loss: 0.1335 - val_loss: 0.1118\n",
      "The model took 456.43 seconds for training.\n"
     ]
    }
   ],
   "source": [
    "# define the model\n",
    "# encoder\n",
    "model_d = Sequential()\n",
    "model_d.add(LSTM(12, input_shape=(n_steps_in_d, n_features)))\n",
    "model_d.add(RepeatVector(n_steps_out_d))\n",
    "\n",
    "# decoder\n",
    "model_d.add(LSTM(12, return_sequences=True))\n",
    "model_d.add(TimeDistributed(Dense(1)))\n",
    "model_d.compile(optimizer='adam', loss='mse')\n",
    "\n",
    "# train the model\n",
    "start = time()\n",
    "early_stopping = EarlyStopping(patience=10, restore_best_weights=True)\n",
    "history = model_d.fit(X_t, y_t, epochs=100, batch_size=128, verbose=1,\n",
    "           validation_data=(X_v, y_v), callbacks=[early_stopping])\n",
    "print(\"The model took %.2f seconds for training.\"% (time() - start)) "
   ]
  },
  {
   "cell_type": "code",
   "execution_count": 12,
   "metadata": {
    "colab": {
     "base_uri": "https://localhost:8080/"
    },
    "id": "BgRSOgSYHRif",
    "outputId": "9ac45129-1c4d-453d-ceb4-92a846be24c7"
   },
   "outputs": [
    {
     "name": "stdout",
     "output_type": "stream",
     "text": [
      "Model: \"sequential\"\n",
      "_________________________________________________________________\n",
      "Layer (type)                 Output Shape              Param #   \n",
      "=================================================================\n",
      "lstm (LSTM)                  (None, 12)                672       \n",
      "_________________________________________________________________\n",
      "repeat_vector (RepeatVector) (None, 24, 12)            0         \n",
      "_________________________________________________________________\n",
      "lstm_1 (LSTM)                (None, 24, 12)            1200      \n",
      "_________________________________________________________________\n",
      "time_distributed (TimeDistri (None, 24, 1)             13        \n",
      "=================================================================\n",
      "Total params: 1,885\n",
      "Trainable params: 1,885\n",
      "Non-trainable params: 0\n",
      "_________________________________________________________________\n"
     ]
    }
   ],
   "source": [
    "model_d.summary()"
   ]
  },
  {
   "cell_type": "code",
   "execution_count": 13,
   "metadata": {
    "colab": {
     "base_uri": "https://localhost:8080/",
     "height": 291
    },
    "id": "wdG6cj7XHRig",
    "outputId": "124795c5-db12-4f4e-8970-49ffa1926641"
   },
   "outputs": [
    {
     "data": {
      "image/png": "[encoded data removed]",
      "text/plain": [
       "<Figure size 432x288 with 1 Axes>"
      ]
     },
     "metadata": {
      "needs_background": "light",
      "tags": []
     },
     "output_type": "display_data"
    }
   ],
   "source": [
    "%matplotlib inline\n",
    "import matplotlib as mpl\n",
    "import matplotlib.pyplot as plt\n",
    "mpl.rc('axes', labelsize=14)\n",
    "mpl.rc('xtick', labelsize=12)\n",
    "mpl.rc('ytick', labelsize=12)\n",
    "\n",
    "def plot_learning_curves(loss, val_loss):\n",
    "    plt.plot(np.arange(len(loss)), loss, \"b.-\", label=\"Training loss\")\n",
    "    plt.plot(np.arange(len(val_loss)), val_loss, \"r.-\", label=\"Validation loss\")\n",
    "    plt.gca().xaxis.set_major_locator(mpl.ticker.MaxNLocator(integer=True))\n",
    "    plt.axis([1, len(history.epoch), 0.1, 0.15])\n",
    "    plt.legend(fontsize=14)\n",
    "    plt.xlabel(\"Epochs\")\n",
    "    plt.ylabel(\"Loss\")\n",
    "    plt.grid(True)\n",
    "\n",
    "plot_learning_curves(history.history[\"loss\"], history.history[\"val_loss\"])\n",
    "plt.show()"
   ]
  },
  {
   "cell_type": "markdown",
   "metadata": {
    "id": "eF4tkvfSHRig"
   },
   "source": [
    "### Training model: 24 neurons in encoder and decoder"
   ]
  },
  {
   "cell_type": "code",
   "execution_count": 14,
   "metadata": {
    "colab": {
     "base_uri": "https://localhost:8080/"
    },
    "id": "nUxz911WHRig",
    "outputId": "455a0309-a9ad-4607-adcd-c171190a8c0d",
    "scrolled": true
   },
   "outputs": [
    {
     "name": "stdout",
     "output_type": "stream",
     "text": [
      "Epoch 1/100\n",
      "957/957 [==============================] - 13s 11ms/step - loss: 0.4242 - val_loss: 0.1244\n",
      "Epoch 2/100\n",
      "957/957 [==============================] - 10s 11ms/step - loss: 0.1461 - val_loss: 0.1176\n",
      "Epoch 3/100\n",
      "957/957 [==============================] - 10s 11ms/step - loss: 0.1415 - val_loss: 0.1175\n",
      "Epoch 4/100\n",
      "957/957 [==============================] - 10s 11ms/step - loss: 0.1389 - val_loss: 0.1150\n",
      "Epoch 5/100\n",
      "957/957 [==============================] - 10s 11ms/step - loss: 0.1386 - val_loss: 0.1141\n",
      "Epoch 6/100\n",
      "957/957 [==============================] - 10s 11ms/step - loss: 0.1380 - val_loss: 0.1155\n",
      "Epoch 7/100\n",
      "957/957 [==============================] - 10s 11ms/step - loss: 0.1374 - val_loss: 0.1170\n",
      "Epoch 8/100\n",
      "957/957 [==============================] - 10s 11ms/step - loss: 0.1365 - val_loss: 0.1149\n",
      "Epoch 9/100\n",
      "957/957 [==============================] - 10s 11ms/step - loss: 0.1365 - val_loss: 0.1138\n",
      "Epoch 10/100\n",
      "957/957 [==============================] - 10s 10ms/step - loss: 0.1359 - val_loss: 0.1119\n",
      "Epoch 11/100\n",
      "957/957 [==============================] - 10s 11ms/step - loss: 0.1356 - val_loss: 0.1118\n",
      "Epoch 12/100\n",
      "957/957 [==============================] - 10s 11ms/step - loss: 0.1337 - val_loss: 0.1124\n",
      "Epoch 13/100\n",
      "957/957 [==============================] - 10s 11ms/step - loss: 0.1340 - val_loss: 0.1127\n",
      "Epoch 14/100\n",
      "957/957 [==============================] - 10s 10ms/step - loss: 0.1352 - val_loss: 0.1145\n",
      "Epoch 15/100\n",
      "957/957 [==============================] - 10s 10ms/step - loss: 0.1346 - val_loss: 0.1116\n",
      "Epoch 16/100\n",
      "957/957 [==============================] - 10s 10ms/step - loss: 0.1343 - val_loss: 0.1135\n",
      "Epoch 17/100\n",
      "957/957 [==============================] - 10s 10ms/step - loss: 0.1335 - val_loss: 0.1147\n",
      "Epoch 18/100\n",
      "957/957 [==============================] - 10s 11ms/step - loss: 0.1342 - val_loss: 0.1114\n",
      "Epoch 19/100\n",
      "957/957 [==============================] - 10s 10ms/step - loss: 0.1331 - val_loss: 0.1113\n",
      "Epoch 20/100\n",
      "957/957 [==============================] - 10s 11ms/step - loss: 0.1334 - val_loss: 0.1107\n",
      "Epoch 21/100\n",
      "957/957 [==============================] - 10s 11ms/step - loss: 0.1336 - val_loss: 0.1123\n",
      "Epoch 22/100\n",
      "957/957 [==============================] - 10s 10ms/step - loss: 0.1336 - val_loss: 0.1111\n",
      "Epoch 23/100\n",
      "957/957 [==============================] - 10s 11ms/step - loss: 0.1335 - val_loss: 0.1104\n",
      "Epoch 24/100\n",
      "957/957 [==============================] - 10s 10ms/step - loss: 0.1328 - val_loss: 0.1119\n",
      "Epoch 25/100\n",
      "957/957 [==============================] - 10s 11ms/step - loss: 0.1331 - val_loss: 0.1123\n",
      "Epoch 26/100\n",
      "957/957 [==============================] - 10s 11ms/step - loss: 0.1323 - val_loss: 0.1138\n",
      "Epoch 27/100\n",
      "957/957 [==============================] - 10s 10ms/step - loss: 0.1326 - val_loss: 0.1121\n",
      "Epoch 28/100\n",
      "957/957 [==============================] - 10s 11ms/step - loss: 0.1324 - val_loss: 0.1119\n",
      "Epoch 29/100\n",
      "957/957 [==============================] - 10s 11ms/step - loss: 0.1325 - val_loss: 0.1105\n",
      "Epoch 30/100\n",
      "957/957 [==============================] - 10s 10ms/step - loss: 0.1326 - val_loss: 0.1104\n",
      "Epoch 31/100\n",
      "957/957 [==============================] - 10s 11ms/step - loss: 0.1324 - val_loss: 0.1120\n",
      "Epoch 32/100\n",
      "957/957 [==============================] - 10s 10ms/step - loss: 0.1327 - val_loss: 0.1107\n",
      "Epoch 33/100\n",
      "957/957 [==============================] - 10s 11ms/step - loss: 0.1323 - val_loss: 0.1109\n",
      "Epoch 34/100\n",
      "957/957 [==============================] - 10s 10ms/step - loss: 0.1326 - val_loss: 0.1106\n",
      "Epoch 35/100\n",
      "957/957 [==============================] - 10s 10ms/step - loss: 0.1313 - val_loss: 0.1114\n",
      "Epoch 36/100\n",
      "957/957 [==============================] - 10s 10ms/step - loss: 0.1324 - val_loss: 0.1118\n",
      "Epoch 37/100\n",
      "957/957 [==============================] - 10s 10ms/step - loss: 0.1316 - val_loss: 0.1105\n",
      "Epoch 38/100\n",
      "957/957 [==============================] - 10s 10ms/step - loss: 0.1318 - val_loss: 0.1114\n",
      "Epoch 39/100\n",
      "957/957 [==============================] - 10s 10ms/step - loss: 0.1318 - val_loss: 0.1121\n",
      "Epoch 40/100\n",
      "957/957 [==============================] - 10s 10ms/step - loss: 0.1322 - val_loss: 0.1141\n",
      "The model took 405.19 seconds for training.\n"
     ]
    }
   ],
   "source": [
    "# define the model\n",
    "# encoder\n",
    "model_d = Sequential()\n",
    "model_d.add(LSTM(24, input_shape=(n_steps_in_d, n_features)))\n",
    "model_d.add(RepeatVector(n_steps_out_d))\n",
    "\n",
    "# decoder\n",
    "model_d.add(LSTM(24, return_sequences=True))\n",
    "model_d.add(TimeDistributed(Dense(1)))\n",
    "model_d.compile(optimizer='adam', loss='mse')\n",
    "\n",
    "# train the model\n",
    "start = time()\n",
    "early_stopping = EarlyStopping(patience=10, restore_best_weights=True)\n",
    "history = model_d.fit(X_t, y_t, epochs=100, batch_size=128, verbose=1,\n",
    "           validation_data=(X_v, y_v), callbacks=[early_stopping])\n",
    "print(\"The model took %.2f seconds for training.\"% (time() - start)) "
   ]
  },
  {
   "cell_type": "code",
   "execution_count": 15,
   "metadata": {
    "colab": {
     "base_uri": "https://localhost:8080/"
    },
    "id": "-ouA8lG4HRih",
    "outputId": "fb3a5bfe-b1cf-45bf-c3d9-c8eef1991430"
   },
   "outputs": [
    {
     "name": "stdout",
     "output_type": "stream",
     "text": [
      "Model: \"sequential_1\"\n",
      "_________________________________________________________________\n",
      "Layer (type)                 Output Shape              Param #   \n",
      "=================================================================\n",
      "lstm_2 (LSTM)                (None, 24)                2496      \n",
      "_________________________________________________________________\n",
      "repeat_vector_1 (RepeatVecto (None, 24, 24)            0         \n",
      "_________________________________________________________________\n",
      "lstm_3 (LSTM)                (None, 24, 24)            4704      \n",
      "_________________________________________________________________\n",
      "time_distributed_1 (TimeDist (None, 24, 1)             25        \n",
      "=================================================================\n",
      "Total params: 7,225\n",
      "Trainable params: 7,225\n",
      "Non-trainable params: 0\n",
      "_________________________________________________________________\n"
     ]
    }
   ],
   "source": [
    "model_d.summary()"
   ]
  },
  {
   "cell_type": "code",
   "execution_count": 16,
   "metadata": {
    "colab": {
     "base_uri": "https://localhost:8080/",
     "height": 291
    },
    "id": "TkES_KiTHRih",
    "outputId": "ba3d1617-a447-4421-cedc-01c4ad158e86"
   },
   "outputs": [
    {
     "data": {
      "image/png": "[encoded data removed]",
      "text/plain": [
       "<Figure size 432x288 with 1 Axes>"
      ]
     },
     "metadata": {
      "needs_background": "light",
      "tags": []
     },
     "output_type": "display_data"
    }
   ],
   "source": [
    "plot_learning_curves(history.history[\"loss\"], history.history[\"val_loss\"])\n",
    "plt.show()"
   ]
  },
  {
   "cell_type": "markdown",
   "metadata": {
    "id": "jLLbXg64HRih"
   },
   "source": [
    "###  Training model: 168 neurons in encoder and decoder"
   ]
  },
  {
   "cell_type": "code",
   "execution_count": 17,
   "metadata": {
    "colab": {
     "base_uri": "https://localhost:8080/"
    },
    "id": "oLOhzShvHRih",
    "outputId": "618ba392-ed80-430b-b3a0-61003cb59328",
    "scrolled": true
   },
   "outputs": [
    {
     "name": "stdout",
     "output_type": "stream",
     "text": [
      "Epoch 1/100\n",
      "957/957 [==============================] - 21s 20ms/step - loss: 0.2568 - val_loss: 0.1230\n",
      "Epoch 2/100\n",
      "957/957 [==============================] - 18s 19ms/step - loss: 0.1409 - val_loss: 0.1138\n",
      "Epoch 3/100\n",
      "957/957 [==============================] - 18s 19ms/step - loss: 0.1393 - val_loss: 0.1168\n",
      "Epoch 4/100\n",
      "957/957 [==============================] - 18s 19ms/step - loss: 0.1377 - val_loss: 0.1190\n",
      "Epoch 5/100\n",
      "957/957 [==============================] - 18s 19ms/step - loss: 0.1376 - val_loss: 0.1191\n",
      "Epoch 6/100\n",
      "957/957 [==============================] - 19s 19ms/step - loss: 0.1359 - val_loss: 0.1158\n",
      "Epoch 7/100\n",
      "957/957 [==============================] - 18s 19ms/step - loss: 0.1349 - val_loss: 0.1129\n",
      "Epoch 8/100\n",
      "957/957 [==============================] - 18s 19ms/step - loss: 0.1339 - val_loss: 0.1128\n",
      "Epoch 9/100\n",
      "957/957 [==============================] - 19s 19ms/step - loss: 0.1335 - val_loss: 0.1153\n",
      "Epoch 10/100\n",
      "957/957 [==============================] - 19s 19ms/step - loss: 0.1328 - val_loss: 0.1147\n",
      "Epoch 11/100\n",
      "957/957 [==============================] - 18s 19ms/step - loss: 0.1318 - val_loss: 0.1152\n",
      "Epoch 12/100\n",
      "957/957 [==============================] - 19s 19ms/step - loss: 0.1308 - val_loss: 0.1171\n",
      "Epoch 13/100\n",
      "957/957 [==============================] - 18s 19ms/step - loss: 0.1295 - val_loss: 0.1159\n",
      "Epoch 14/100\n",
      "957/957 [==============================] - 18s 19ms/step - loss: 0.1282 - val_loss: 0.1156\n",
      "Epoch 15/100\n",
      "957/957 [==============================] - 18s 19ms/step - loss: 0.1267 - val_loss: 0.1173\n",
      "Epoch 16/100\n",
      "957/957 [==============================] - 18s 19ms/step - loss: 0.1247 - val_loss: 0.1177\n",
      "Epoch 17/100\n",
      "957/957 [==============================] - 18s 19ms/step - loss: 0.1230 - val_loss: 0.1176\n",
      "Epoch 18/100\n",
      "957/957 [==============================] - 18s 19ms/step - loss: 0.1208 - val_loss: 0.1190\n",
      "The model took 334.93 seconds for training.\n"
     ]
    }
   ],
   "source": [
    "# define the model\n",
    "model_d = Sequential()\n",
    "model_d.add(LSTM(168, input_shape=(n_steps_in_d, n_features)))\n",
    "model_d.add(RepeatVector(n_steps_out_d))\n",
    "\n",
    "model_d.add(LSTM(168, return_sequences=True))\n",
    "model_d.add(TimeDistributed(Dense(1)))\n",
    "model_d.compile(optimizer='adam', loss='mse')\n",
    "\n",
    "# train the model\n",
    "early_stopping = EarlyStopping(patience=10, restore_best_weights=True)\n",
    "start = time()\n",
    "history = model_d.fit(X_t, y_t, epochs=100, batch_size=128, verbose=1,\n",
    "           validation_data=(X_v, y_v), callbacks=[early_stopping])\n",
    "print(\"The model took %.2f seconds for training.\"% (time() - start)) "
   ]
  },
  {
   "cell_type": "code",
   "execution_count": 18,
   "metadata": {
    "colab": {
     "base_uri": "https://localhost:8080/"
    },
    "id": "U6hhP2QTHRii",
    "outputId": "3d09ace9-b694-45d2-dc64-ae132bfcfc6f"
   },
   "outputs": [
    {
     "name": "stdout",
     "output_type": "stream",
     "text": [
      "Model: \"sequential_2\"\n",
      "_________________________________________________________________\n",
      "Layer (type)                 Output Shape              Param #   \n",
      "=================================================================\n",
      "lstm_4 (LSTM)                (None, 168)               114240    \n",
      "_________________________________________________________________\n",
      "repeat_vector_2 (RepeatVecto (None, 24, 168)           0         \n",
      "_________________________________________________________________\n",
      "lstm_5 (LSTM)                (None, 24, 168)           226464    \n",
      "_________________________________________________________________\n",
      "time_distributed_2 (TimeDist (None, 24, 1)             169       \n",
      "=================================================================\n",
      "Total params: 340,873\n",
      "Trainable params: 340,873\n",
      "Non-trainable params: 0\n",
      "_________________________________________________________________\n"
     ]
    }
   ],
   "source": [
    "model_d.summary()"
   ]
  },
  {
   "cell_type": "code",
   "execution_count": 19,
   "metadata": {
    "colab": {
     "base_uri": "https://localhost:8080/",
     "height": 291
    },
    "id": "Uy_J7tWLHRii",
    "outputId": "0900fb62-1b2b-4932-a7bb-e59f6c1eedfb"
   },
   "outputs": [
    {
     "data": {
      "image/png": "[encoded data removed]",
      "text/plain": [
       "<Figure size 432x288 with 1 Axes>"
      ]
     },
     "metadata": {
      "needs_background": "light",
      "tags": []
     },
     "output_type": "display_data"
    }
   ],
   "source": [
    "plot_learning_curves(history.history[\"loss\"], history.history[\"val_loss\"])\n",
    "plt.show()"
   ]
  },
  {
   "cell_type": "markdown",
   "metadata": {
    "id": "HDaZR_dnHRii"
   },
   "source": [
    "### 3.2.2 Prepare data with 72 input data"
   ]
  },
  {
   "cell_type": "code",
   "execution_count": 20,
   "metadata": {
    "colab": {
     "base_uri": "https://localhost:8080/"
    },
    "id": "peKNEbcBHRij",
    "outputId": "9f2542cb-f3a4-4635-f6a2-2777de3a2346"
   },
   "outputs": [
    {
     "name": "stdout",
     "output_type": "stream",
     "text": [
      "(122545, 72)\n",
      "(122545, 24)\n",
      "(26185, 72)\n",
      "(26185, 24)\n"
     ]
    }
   ],
   "source": [
    "# Choose number of input and output steps\n",
    "n_steps_in_d = 72\n",
    "n_steps_out_d = 24\n",
    "# Divide into samples\n",
    "X_t, y_t = split_sequence(X_train, n_steps_in_d, n_steps_out_d)\n",
    "X_v, y_v = split_sequence(X_val, n_steps_in_d, n_steps_out_d)\n",
    "\n",
    "print(X_t.shape)\n",
    "print(y_t.shape)\n",
    "print(X_v.shape)\n",
    "print(y_v.shape)"
   ]
  },
  {
   "cell_type": "code",
   "execution_count": 21,
   "metadata": {
    "colab": {
     "base_uri": "https://localhost:8080/"
    },
    "id": "DwS-hvyYHRij",
    "outputId": "4fa55ba6-7b1c-4795-a2f1-8c82c49f1a55"
   },
   "outputs": [
    {
     "name": "stdout",
     "output_type": "stream",
     "text": [
      "(122545, 72, 1)\n",
      "(122545, 24, 1)\n",
      "(26185, 72, 1)\n",
      "(26185, 24, 1)\n"
     ]
    }
   ],
   "source": [
    "# Resize [samples, timesteps] to [samples, timesteps, features]\n",
    "n_features = 1\n",
    "X_t = X_t.reshape((X_t.shape[0], X_t.shape[1], n_features))\n",
    "y_t = y_t.reshape((y_t.shape[0], y_t.shape[1], n_features))\n",
    "X_v = X_v.reshape((X_v.shape[0], X_v.shape[1], n_features))\n",
    "y_v = y_v.reshape((y_v.shape[0], y_v.shape[1], n_features))\n",
    "\n",
    "print(X_t.shape)\n",
    "print(y_t.shape)\n",
    "print(X_v.shape)\n",
    "print(y_v.shape)"
   ]
  },
  {
   "cell_type": "markdown",
   "metadata": {
    "id": "txOdeoM2HRij"
   },
   "source": [
    "###  Training model: 12 neurons in encoder and decoder"
   ]
  },
  {
   "cell_type": "code",
   "execution_count": 22,
   "metadata": {
    "colab": {
     "base_uri": "https://localhost:8080/"
    },
    "id": "wteQlPZ0HRik",
    "outputId": "957f1c4e-c553-4b5d-f9a6-a6c8cef09056",
    "scrolled": true
   },
   "outputs": [
    {
     "name": "stdout",
     "output_type": "stream",
     "text": [
      "Epoch 1/100\n",
      "958/958 [==============================] - 9s 7ms/step - loss: 0.5392 - val_loss: 0.1326\n",
      "Epoch 2/100\n",
      "958/958 [==============================] - 6s 6ms/step - loss: 0.1513 - val_loss: 0.1193\n",
      "Epoch 3/100\n",
      "958/958 [==============================] - 6s 6ms/step - loss: 0.1433 - val_loss: 0.1163\n",
      "Epoch 4/100\n",
      "958/958 [==============================] - 6s 6ms/step - loss: 0.1408 - val_loss: 0.1152\n",
      "Epoch 5/100\n",
      "958/958 [==============================] - 6s 6ms/step - loss: 0.1388 - val_loss: 0.1155\n",
      "Epoch 6/100\n",
      "958/958 [==============================] - 6s 6ms/step - loss: 0.1388 - val_loss: 0.1159\n",
      "Epoch 7/100\n",
      "958/958 [==============================] - 6s 6ms/step - loss: 0.1375 - val_loss: 0.1148\n",
      "Epoch 8/100\n",
      "958/958 [==============================] - 6s 6ms/step - loss: 0.1378 - val_loss: 0.1155\n",
      "Epoch 9/100\n",
      "958/958 [==============================] - 6s 6ms/step - loss: 0.1373 - val_loss: 0.1149\n",
      "Epoch 10/100\n",
      "958/958 [==============================] - 6s 6ms/step - loss: 0.1375 - val_loss: 0.1142\n",
      "Epoch 11/100\n",
      "958/958 [==============================] - 6s 6ms/step - loss: 0.1360 - val_loss: 0.1140\n",
      "Epoch 12/100\n",
      "958/958 [==============================] - 6s 6ms/step - loss: 0.1363 - val_loss: 0.1137\n",
      "Epoch 13/100\n",
      "958/958 [==============================] - 6s 6ms/step - loss: 0.1363 - val_loss: 0.1132\n",
      "Epoch 14/100\n",
      "958/958 [==============================] - 6s 6ms/step - loss: 0.1357 - val_loss: 0.1137\n",
      "Epoch 15/100\n",
      "958/958 [==============================] - 6s 6ms/step - loss: 0.1363 - val_loss: 0.1138\n",
      "Epoch 16/100\n",
      "958/958 [==============================] - 6s 6ms/step - loss: 0.1357 - val_loss: 0.1130\n",
      "Epoch 17/100\n",
      "958/958 [==============================] - 6s 6ms/step - loss: 0.1357 - val_loss: 0.1152\n",
      "Epoch 18/100\n",
      "958/958 [==============================] - 6s 6ms/step - loss: 0.1350 - val_loss: 0.1130\n",
      "Epoch 19/100\n",
      "958/958 [==============================] - 6s 6ms/step - loss: 0.1356 - val_loss: 0.1155\n",
      "Epoch 20/100\n",
      "958/958 [==============================] - 6s 6ms/step - loss: 0.1359 - val_loss: 0.1142\n",
      "Epoch 21/100\n",
      "958/958 [==============================] - 6s 6ms/step - loss: 0.1355 - val_loss: 0.1131\n",
      "Epoch 22/100\n",
      "958/958 [==============================] - 6s 6ms/step - loss: 0.1352 - val_loss: 0.1127\n",
      "Epoch 23/100\n",
      "958/958 [==============================] - 6s 6ms/step - loss: 0.1351 - val_loss: 0.1136\n",
      "Epoch 24/100\n",
      "958/958 [==============================] - 6s 6ms/step - loss: 0.1350 - val_loss: 0.1135\n",
      "Epoch 25/100\n",
      "958/958 [==============================] - 6s 6ms/step - loss: 0.1352 - val_loss: 0.1156\n",
      "Epoch 26/100\n",
      "958/958 [==============================] - 6s 6ms/step - loss: 0.1351 - val_loss: 0.1128\n",
      "Epoch 27/100\n",
      "958/958 [==============================] - 6s 6ms/step - loss: 0.1354 - val_loss: 0.1133\n",
      "Epoch 28/100\n",
      "958/958 [==============================] - 6s 6ms/step - loss: 0.1339 - val_loss: 0.1149\n",
      "Epoch 29/100\n",
      "958/958 [==============================] - 6s 6ms/step - loss: 0.1350 - val_loss: 0.1126\n",
      "Epoch 30/100\n",
      "958/958 [==============================] - 6s 7ms/step - loss: 0.1354 - val_loss: 0.1122\n",
      "Epoch 31/100\n",
      "958/958 [==============================] - 6s 7ms/step - loss: 0.1348 - val_loss: 0.1139\n",
      "Epoch 32/100\n",
      "958/958 [==============================] - 6s 6ms/step - loss: 0.1342 - val_loss: 0.1145\n",
      "Epoch 33/100\n",
      "958/958 [==============================] - 6s 6ms/step - loss: 0.1342 - val_loss: 0.1138\n",
      "Epoch 34/100\n",
      "958/958 [==============================] - 6s 6ms/step - loss: 0.1343 - val_loss: 0.1122\n",
      "Epoch 35/100\n",
      "958/958 [==============================] - 6s 6ms/step - loss: 0.1347 - val_loss: 0.1130\n",
      "Epoch 36/100\n",
      "958/958 [==============================] - 6s 6ms/step - loss: 0.1345 - val_loss: 0.1148\n",
      "Epoch 37/100\n",
      "958/958 [==============================] - 6s 6ms/step - loss: 0.1344 - val_loss: 0.1157\n",
      "Epoch 38/100\n",
      "958/958 [==============================] - 6s 6ms/step - loss: 0.1350 - val_loss: 0.1121\n",
      "Epoch 39/100\n",
      "958/958 [==============================] - 6s 6ms/step - loss: 0.1349 - val_loss: 0.1127\n",
      "Epoch 40/100\n",
      "958/958 [==============================] - 6s 6ms/step - loss: 0.1339 - val_loss: 0.1120\n",
      "Epoch 41/100\n",
      "958/958 [==============================] - 6s 6ms/step - loss: 0.1344 - val_loss: 0.1121\n",
      "Epoch 42/100\n",
      "958/958 [==============================] - 6s 6ms/step - loss: 0.1342 - val_loss: 0.1148\n",
      "Epoch 43/100\n",
      "958/958 [==============================] - 6s 6ms/step - loss: 0.1341 - val_loss: 0.1122\n",
      "Epoch 44/100\n",
      "958/958 [==============================] - 6s 6ms/step - loss: 0.1349 - val_loss: 0.1132\n",
      "Epoch 45/100\n",
      "958/958 [==============================] - 6s 6ms/step - loss: 0.1335 - val_loss: 0.1129\n",
      "Epoch 46/100\n",
      "958/958 [==============================] - 6s 6ms/step - loss: 0.1339 - val_loss: 0.1121\n",
      "Epoch 47/100\n",
      "958/958 [==============================] - 6s 6ms/step - loss: 0.1337 - val_loss: 0.1122\n",
      "Epoch 48/100\n",
      "958/958 [==============================] - 6s 6ms/step - loss: 0.1335 - val_loss: 0.1122\n",
      "Epoch 49/100\n",
      "958/958 [==============================] - 6s 6ms/step - loss: 0.1346 - val_loss: 0.1120\n",
      "Epoch 50/100\n",
      "958/958 [==============================] - 6s 6ms/step - loss: 0.1332 - val_loss: 0.1117\n",
      "Epoch 51/100\n",
      "958/958 [==============================] - 6s 6ms/step - loss: 0.1339 - val_loss: 0.1113\n",
      "Epoch 52/100\n",
      "958/958 [==============================] - 6s 6ms/step - loss: 0.1332 - val_loss: 0.1118\n",
      "Epoch 53/100\n",
      "958/958 [==============================] - 6s 6ms/step - loss: 0.1334 - val_loss: 0.1124\n",
      "Epoch 54/100\n",
      "958/958 [==============================] - 6s 7ms/step - loss: 0.1333 - val_loss: 0.1111\n",
      "Epoch 55/100\n",
      "958/958 [==============================] - 6s 6ms/step - loss: 0.1343 - val_loss: 0.1131\n",
      "Epoch 56/100\n",
      "958/958 [==============================] - 6s 6ms/step - loss: 0.1329 - val_loss: 0.1129\n",
      "Epoch 57/100\n",
      "958/958 [==============================] - 6s 7ms/step - loss: 0.1340 - val_loss: 0.1122\n",
      "Epoch 58/100\n",
      "958/958 [==============================] - 6s 7ms/step - loss: 0.1329 - val_loss: 0.1144\n",
      "Epoch 59/100\n",
      "958/958 [==============================] - 6s 6ms/step - loss: 0.1336 - val_loss: 0.1125\n",
      "Epoch 60/100\n",
      "958/958 [==============================] - 6s 6ms/step - loss: 0.1340 - val_loss: 0.1133\n",
      "Epoch 61/100\n",
      "958/958 [==============================] - 6s 6ms/step - loss: 0.1333 - val_loss: 0.1118\n",
      "Epoch 62/100\n",
      "958/958 [==============================] - 6s 6ms/step - loss: 0.1338 - val_loss: 0.1117\n",
      "Epoch 63/100\n",
      "958/958 [==============================] - 6s 6ms/step - loss: 0.1336 - val_loss: 0.1116\n",
      "Epoch 64/100\n",
      "958/958 [==============================] - 6s 6ms/step - loss: 0.1334 - val_loss: 0.1116\n",
      "The model took 394.41 seconds for training.\n"
     ]
    }
   ],
   "source": [
    "# define the model\n",
    "# encoder\n",
    "model_d = Sequential()\n",
    "model_d.add(LSTM(12, input_shape=(n_steps_in_d, n_features)))\n",
    "model_d.add(RepeatVector(n_steps_out_d))\n",
    "\n",
    "# decoder\n",
    "model_d.add(LSTM(12, return_sequences=True))\n",
    "model_d.add(TimeDistributed(Dense(1)))\n",
    "model_d.compile(optimizer='adam', loss='mse')\n",
    "\n",
    "# train the model\n",
    "start = time()\n",
    "early_stopping = EarlyStopping(patience=10, restore_best_weights=True)\n",
    "history = model_d.fit(X_t, y_t, epochs=100, batch_size=128, verbose=1,\n",
    "           validation_data=(X_v, y_v), callbacks=[early_stopping])\n",
    "print(\"The model took %.2f seconds for training.\"% (time() - start)) "
   ]
  },
  {
   "cell_type": "code",
   "execution_count": 23,
   "metadata": {
    "colab": {
     "base_uri": "https://localhost:8080/",
     "height": 291
    },
    "id": "st9M57k0HRik",
    "outputId": "79a9e348-0a92-4c64-fc68-aee74b9a1e4f"
   },
   "outputs": [
    {
     "data": {
      "image/png": "[encoded data removed]",
      "text/plain": [
       "<Figure size 432x288 with 1 Axes>"
      ]
     },
     "metadata": {
      "needs_background": "light",
      "tags": []
     },
     "output_type": "display_data"
    }
   ],
   "source": [
    "plot_learning_curves(history.history[\"loss\"], history.history[\"val_loss\"])\n",
    "plt.show()"
   ]
  },
  {
   "cell_type": "markdown",
   "metadata": {
    "id": "UAmka4eGHRik"
   },
   "source": [
    "###  Training model: 24 neurons in encoder and decoder"
   ]
  },
  {
   "cell_type": "code",
   "execution_count": 24,
   "metadata": {
    "colab": {
     "base_uri": "https://localhost:8080/"
    },
    "id": "zGW0BDfIHRik",
    "outputId": "73153427-9683-486c-d965-a846794b510c",
    "scrolled": true
   },
   "outputs": [
    {
     "name": "stdout",
     "output_type": "stream",
     "text": [
      "Epoch 1/100\n",
      "958/958 [==============================] - 9s 7ms/step - loss: 0.4069 - val_loss: 0.1199\n",
      "Epoch 2/100\n",
      "958/958 [==============================] - 6s 7ms/step - loss: 0.1430 - val_loss: 0.1165\n",
      "Epoch 3/100\n",
      "958/958 [==============================] - 6s 6ms/step - loss: 0.1400 - val_loss: 0.1144\n",
      "Epoch 4/100\n",
      "958/958 [==============================] - 6s 6ms/step - loss: 0.1384 - val_loss: 0.1183\n",
      "Epoch 5/100\n",
      "958/958 [==============================] - 6s 6ms/step - loss: 0.1383 - val_loss: 0.1138\n",
      "Epoch 6/100\n",
      "958/958 [==============================] - 6s 6ms/step - loss: 0.1374 - val_loss: 0.1148\n",
      "Epoch 7/100\n",
      "958/958 [==============================] - 6s 7ms/step - loss: 0.1364 - val_loss: 0.1155\n",
      "Epoch 8/100\n",
      "958/958 [==============================] - 6s 6ms/step - loss: 0.1360 - val_loss: 0.1149\n",
      "Epoch 9/100\n",
      "958/958 [==============================] - 6s 7ms/step - loss: 0.1360 - val_loss: 0.1116\n",
      "Epoch 10/100\n",
      "958/958 [==============================] - 6s 6ms/step - loss: 0.1358 - val_loss: 0.1127\n",
      "Epoch 11/100\n",
      "958/958 [==============================] - 6s 6ms/step - loss: 0.1358 - val_loss: 0.1121\n",
      "Epoch 12/100\n",
      "958/958 [==============================] - 6s 6ms/step - loss: 0.1348 - val_loss: 0.1126\n",
      "Epoch 13/100\n",
      "958/958 [==============================] - 6s 7ms/step - loss: 0.1345 - val_loss: 0.1146\n",
      "Epoch 14/100\n",
      "958/958 [==============================] - 6s 7ms/step - loss: 0.1351 - val_loss: 0.1131\n",
      "Epoch 15/100\n",
      "958/958 [==============================] - 6s 7ms/step - loss: 0.1345 - val_loss: 0.1135\n",
      "Epoch 16/100\n",
      "958/958 [==============================] - 6s 7ms/step - loss: 0.1343 - val_loss: 0.1112\n",
      "Epoch 17/100\n",
      "958/958 [==============================] - 6s 7ms/step - loss: 0.1337 - val_loss: 0.1119\n",
      "Epoch 18/100\n",
      "958/958 [==============================] - 6s 6ms/step - loss: 0.1338 - val_loss: 0.1138\n",
      "Epoch 19/100\n",
      "958/958 [==============================] - 6s 7ms/step - loss: 0.1337 - val_loss: 0.1130\n",
      "Epoch 20/100\n",
      "958/958 [==============================] - 6s 7ms/step - loss: 0.1343 - val_loss: 0.1116\n",
      "Epoch 21/100\n",
      "958/958 [==============================] - 6s 6ms/step - loss: 0.1330 - val_loss: 0.1134\n",
      "Epoch 22/100\n",
      "958/958 [==============================] - 6s 6ms/step - loss: 0.1340 - val_loss: 0.1121\n",
      "Epoch 23/100\n",
      "958/958 [==============================] - 6s 6ms/step - loss: 0.1338 - val_loss: 0.1136\n",
      "Epoch 24/100\n",
      "958/958 [==============================] - 6s 6ms/step - loss: 0.1338 - val_loss: 0.1127\n",
      "Epoch 25/100\n",
      "958/958 [==============================] - 6s 7ms/step - loss: 0.1334 - val_loss: 0.1128\n",
      "Epoch 26/100\n",
      "958/958 [==============================] - 6s 7ms/step - loss: 0.1327 - val_loss: 0.1116\n",
      "The model took 164.69 seconds for training.\n"
     ]
    }
   ],
   "source": [
    "# define the model\n",
    "# encoder\n",
    "model_d = Sequential()\n",
    "model_d.add(LSTM(24, input_shape=(n_steps_in_d, n_features)))\n",
    "model_d.add(RepeatVector(n_steps_out_d))\n",
    "\n",
    "# decoder\n",
    "model_d.add(LSTM(24, return_sequences=True))\n",
    "model_d.add(TimeDistributed(Dense(1)))\n",
    "model_d.compile(optimizer='adam', loss='mse')\n",
    "\n",
    "# train the model\n",
    "start = time()\n",
    "early_stopping = EarlyStopping(patience=10, restore_best_weights=True)\n",
    "history = model_d.fit(X_t, y_t, epochs=100, batch_size=128, verbose=1,\n",
    "           validation_data=(X_v, y_v), callbacks=[early_stopping])\n",
    "print(\"The model took %.2f seconds for training.\"% (time() - start)) "
   ]
  },
  {
   "cell_type": "code",
   "execution_count": 25,
   "metadata": {
    "colab": {
     "base_uri": "https://localhost:8080/",
     "height": 291
    },
    "id": "ZfbVOpMpHRil",
    "outputId": "f92b7f46-37e8-4c23-cf23-88dc30ce666e"
   },
   "outputs": [
    {
     "data": {
      "image/png": "[encoded data removed]",
      "text/plain": [
       "<Figure size 432x288 with 1 Axes>"
      ]
     },
     "metadata": {
      "needs_background": "light",
      "tags": []
     },
     "output_type": "display_data"
    }
   ],
   "source": [
    "plot_learning_curves(history.history[\"loss\"], history.history[\"val_loss\"])\n",
    "plt.show()"
   ]
  },
  {
   "cell_type": "markdown",
   "metadata": {
    "id": "bwPFtcnMHRil"
   },
   "source": [
    "###  Training model: 168 neurons in encoder and decoder"
   ]
  },
  {
   "cell_type": "code",
   "execution_count": 26,
   "metadata": {
    "colab": {
     "base_uri": "https://localhost:8080/"
    },
    "id": "4ZZMNL8RHRil",
    "outputId": "783a9a2a-e608-457a-e8dc-03cbe648b740",
    "scrolled": true
   },
   "outputs": [
    {
     "name": "stdout",
     "output_type": "stream",
     "text": [
      "Epoch 1/100\n",
      "958/958 [==============================] - 13s 11ms/step - loss: 0.2500 - val_loss: 0.1259\n",
      "Epoch 2/100\n",
      "958/958 [==============================] - 10s 11ms/step - loss: 0.1417 - val_loss: 0.1163\n",
      "Epoch 3/100\n",
      "958/958 [==============================] - 10s 11ms/step - loss: 0.1386 - val_loss: 0.1182\n",
      "Epoch 4/100\n",
      "958/958 [==============================] - 10s 11ms/step - loss: 0.1380 - val_loss: 0.1132\n",
      "Epoch 5/100\n",
      "958/958 [==============================] - 10s 11ms/step - loss: 0.1367 - val_loss: 0.1163\n",
      "Epoch 6/100\n",
      "958/958 [==============================] - 11s 11ms/step - loss: 0.1365 - val_loss: 0.1134\n",
      "Epoch 7/100\n",
      "958/958 [==============================] - 10s 11ms/step - loss: 0.1354 - val_loss: 0.1139\n",
      "Epoch 8/100\n",
      "958/958 [==============================] - 10s 11ms/step - loss: 0.1346 - val_loss: 0.1156\n",
      "Epoch 9/100\n",
      "958/958 [==============================] - 10s 11ms/step - loss: 0.1344 - val_loss: 0.1119\n",
      "Epoch 10/100\n",
      "958/958 [==============================] - 10s 11ms/step - loss: 0.1334 - val_loss: 0.1148\n",
      "Epoch 11/100\n",
      "958/958 [==============================] - 10s 11ms/step - loss: 0.1329 - val_loss: 0.1187\n",
      "Epoch 12/100\n",
      "958/958 [==============================] - 10s 11ms/step - loss: 0.1320 - val_loss: 0.1140\n",
      "Epoch 13/100\n",
      "958/958 [==============================] - 10s 11ms/step - loss: 0.1315 - val_loss: 0.1143\n",
      "Epoch 14/100\n",
      "958/958 [==============================] - 10s 11ms/step - loss: 0.1302 - val_loss: 0.1173\n",
      "Epoch 15/100\n",
      "958/958 [==============================] - 10s 11ms/step - loss: 0.1284 - val_loss: 0.1166\n",
      "Epoch 16/100\n",
      "958/958 [==============================] - 10s 11ms/step - loss: 0.1271 - val_loss: 0.1186\n",
      "Epoch 17/100\n",
      "958/958 [==============================] - 10s 11ms/step - loss: 0.1253 - val_loss: 0.1163\n",
      "Epoch 18/100\n",
      "958/958 [==============================] - 11s 11ms/step - loss: 0.1226 - val_loss: 0.1218\n",
      "Epoch 19/100\n",
      "958/958 [==============================] - 10s 11ms/step - loss: 0.1189 - val_loss: 0.1202\n",
      "The model took 200.17 seconds for training.\n"
     ]
    }
   ],
   "source": [
    "# define the model\n",
    "# encoder\n",
    "model_d = Sequential()\n",
    "model_d.add(LSTM(168, input_shape=(n_steps_in_d, n_features)))\n",
    "model_d.add(RepeatVector(n_steps_out_d))\n",
    "\n",
    "# decoder\n",
    "model_d.add(LSTM(168, return_sequences=True))\n",
    "model_d.add(TimeDistributed(Dense(1)))\n",
    "model_d.compile(optimizer='adam', loss='mse')\n",
    "\n",
    "# train el model\n",
    "start = time()\n",
    "early_stopping = EarlyStopping(patience=10, restore_best_weights=True)\n",
    "history = model_d.fit(X_t, y_t, epochs=100, batch_size=128, verbose=1,\n",
    "           validation_data=(X_v, y_v), callbacks=[early_stopping])\n",
    "print(\"The model took %.2f seconds for training.\"% (time() - start)) "
   ]
  },
  {
   "cell_type": "code",
   "execution_count": 27,
   "metadata": {
    "colab": {
     "base_uri": "https://localhost:8080/",
     "height": 291
    },
    "id": "fcSgIFRyHRil",
    "outputId": "a7c57d6d-f856-437d-b4eb-22891253d1bf"
   },
   "outputs": [
    {
     "data": {
      "image/png": "[encoded data removed]",
      "text/plain": [
       "<Figure size 432x288 with 1 Axes>"
      ]
     },
     "metadata": {
      "needs_background": "light",
      "tags": []
     },
     "output_type": "display_data"
    }
   ],
   "source": [
    "plot_learning_curves(history.history[\"loss\"], history.history[\"val_loss\"])\n",
    "plt.show()"
   ]
  },
  {
   "cell_type": "markdown",
   "metadata": {
    "id": "vgLwdQi0HRim"
   },
   "source": [
    "### 3.2.3 Prepare data with 24 input data"
   ]
  },
  {
   "cell_type": "code",
   "execution_count": 28,
   "metadata": {
    "colab": {
     "base_uri": "https://localhost:8080/"
    },
    "id": "2pcYEN9bHRim",
    "outputId": "f4b5c79d-d695-44ad-b3e2-4716c48295e9"
   },
   "outputs": [
    {
     "name": "stdout",
     "output_type": "stream",
     "text": [
      "(122593, 24)\n",
      "(122593, 24)\n",
      "(26233, 24)\n",
      "(26233, 24)\n"
     ]
    }
   ],
   "source": [
    "# Choose number of input and output steps\n",
    "n_steps_in_d = 24\n",
    "n_steps_out_d = 24\n",
    "# Divide into samples\n",
    "X_t, y_t = split_sequence(X_train, n_steps_in_d, n_steps_out_d)\n",
    "X_v, y_v = split_sequence(X_val, n_steps_in_d, n_steps_out_d)\n",
    "\n",
    "print(X_t.shape)\n",
    "print(y_t.shape)\n",
    "print(X_v.shape)\n",
    "print(y_v.shape)"
   ]
  },
  {
   "cell_type": "code",
   "execution_count": 29,
   "metadata": {
    "colab": {
     "base_uri": "https://localhost:8080/"
    },
    "id": "FsmSTZBsHRim",
    "outputId": "ebcdd067-0fae-4d41-b781-b0d70bf164ab"
   },
   "outputs": [
    {
     "name": "stdout",
     "output_type": "stream",
     "text": [
      "(122593, 24, 1)\n",
      "(122593, 24, 1)\n",
      "(26233, 24, 1)\n",
      "(26233, 24, 1)\n"
     ]
    }
   ],
   "source": [
    "# Resize [samples, timesteps] to [samples, timesteps, features]\n",
    "n_features = 1\n",
    "X_t = X_t.reshape((X_t.shape[0], X_t.shape[1], n_features))\n",
    "y_t = y_t.reshape((y_t.shape[0], y_t.shape[1], n_features))\n",
    "X_v = X_v.reshape((X_v.shape[0], X_v.shape[1], n_features))\n",
    "y_v = y_v.reshape((y_v.shape[0], y_v.shape[1], n_features))\n",
    "\n",
    "print(X_t.shape)\n",
    "print(y_t.shape)\n",
    "print(X_v.shape)\n",
    "print(y_v.shape)"
   ]
  },
  {
   "cell_type": "markdown",
   "metadata": {
    "id": "o1HMvNqgHRim"
   },
   "source": [
    "### Training model: 12 neurons in encoder and decoder"
   ]
  },
  {
   "cell_type": "code",
   "execution_count": 30,
   "metadata": {
    "colab": {
     "base_uri": "https://localhost:8080/"
    },
    "id": "pnzyjTK5HRin",
    "outputId": "e173f477-b501-4a72-97df-968423abf804",
    "scrolled": true
   },
   "outputs": [
    {
     "name": "stdout",
     "output_type": "stream",
     "text": [
      "Epoch 1/100\n",
      "958/958 [==============================] - 7s 6ms/step - loss: 0.5072 - val_loss: 0.1355\n",
      "Epoch 2/100\n",
      "958/958 [==============================] - 5s 5ms/step - loss: 0.1573 - val_loss: 0.1235\n",
      "Epoch 3/100\n",
      "958/958 [==============================] - 5s 5ms/step - loss: 0.1454 - val_loss: 0.1183\n",
      "Epoch 4/100\n",
      "958/958 [==============================] - 5s 5ms/step - loss: 0.1413 - val_loss: 0.1195\n",
      "Epoch 5/100\n",
      "958/958 [==============================] - 5s 5ms/step - loss: 0.1412 - val_loss: 0.1168\n",
      "Epoch 6/100\n",
      "958/958 [==============================] - 5s 5ms/step - loss: 0.1398 - val_loss: 0.1153\n",
      "Epoch 7/100\n",
      "958/958 [==============================] - 5s 5ms/step - loss: 0.1392 - val_loss: 0.1196\n",
      "Epoch 8/100\n",
      "958/958 [==============================] - 5s 5ms/step - loss: 0.1389 - val_loss: 0.1149\n",
      "Epoch 9/100\n",
      "958/958 [==============================] - 5s 5ms/step - loss: 0.1381 - val_loss: 0.1159\n",
      "Epoch 10/100\n",
      "958/958 [==============================] - 5s 5ms/step - loss: 0.1381 - val_loss: 0.1144\n",
      "Epoch 11/100\n",
      "958/958 [==============================] - 5s 5ms/step - loss: 0.1385 - val_loss: 0.1157\n",
      "Epoch 12/100\n",
      "958/958 [==============================] - 5s 5ms/step - loss: 0.1371 - val_loss: 0.1147\n",
      "Epoch 13/100\n",
      "958/958 [==============================] - 5s 5ms/step - loss: 0.1378 - val_loss: 0.1163\n",
      "Epoch 14/100\n",
      "958/958 [==============================] - 5s 5ms/step - loss: 0.1376 - val_loss: 0.1162\n",
      "Epoch 15/100\n",
      "958/958 [==============================] - 5s 5ms/step - loss: 0.1363 - val_loss: 0.1160\n",
      "Epoch 16/100\n",
      "958/958 [==============================] - 5s 5ms/step - loss: 0.1369 - val_loss: 0.1160\n",
      "Epoch 17/100\n",
      "958/958 [==============================] - 5s 5ms/step - loss: 0.1367 - val_loss: 0.1138\n",
      "Epoch 18/100\n",
      "958/958 [==============================] - 5s 5ms/step - loss: 0.1370 - val_loss: 0.1137\n",
      "Epoch 19/100\n",
      "958/958 [==============================] - 5s 5ms/step - loss: 0.1368 - val_loss: 0.1140\n",
      "Epoch 20/100\n",
      "958/958 [==============================] - 5s 5ms/step - loss: 0.1364 - val_loss: 0.1151\n",
      "Epoch 21/100\n",
      "958/958 [==============================] - 5s 5ms/step - loss: 0.1361 - val_loss: 0.1136\n",
      "Epoch 22/100\n",
      "958/958 [==============================] - 5s 5ms/step - loss: 0.1361 - val_loss: 0.1175\n",
      "Epoch 23/100\n",
      "958/958 [==============================] - 5s 5ms/step - loss: 0.1362 - val_loss: 0.1153\n",
      "Epoch 24/100\n",
      "958/958 [==============================] - 5s 5ms/step - loss: 0.1357 - val_loss: 0.1135\n",
      "Epoch 25/100\n",
      "958/958 [==============================] - 5s 5ms/step - loss: 0.1357 - val_loss: 0.1139\n",
      "Epoch 26/100\n",
      "958/958 [==============================] - 5s 5ms/step - loss: 0.1364 - val_loss: 0.1139\n",
      "Epoch 27/100\n",
      "958/958 [==============================] - 5s 5ms/step - loss: 0.1364 - val_loss: 0.1150\n",
      "Epoch 28/100\n",
      "958/958 [==============================] - 5s 5ms/step - loss: 0.1356 - val_loss: 0.1133\n",
      "Epoch 29/100\n",
      "958/958 [==============================] - 5s 5ms/step - loss: 0.1355 - val_loss: 0.1139\n",
      "Epoch 30/100\n",
      "958/958 [==============================] - 5s 5ms/step - loss: 0.1354 - val_loss: 0.1139\n",
      "Epoch 31/100\n",
      "958/958 [==============================] - 5s 5ms/step - loss: 0.1348 - val_loss: 0.1138\n",
      "Epoch 32/100\n",
      "958/958 [==============================] - 5s 5ms/step - loss: 0.1360 - val_loss: 0.1140\n",
      "Epoch 33/100\n",
      "958/958 [==============================] - 5s 5ms/step - loss: 0.1352 - val_loss: 0.1135\n",
      "Epoch 34/100\n",
      "958/958 [==============================] - 5s 5ms/step - loss: 0.1355 - val_loss: 0.1133\n",
      "Epoch 35/100\n",
      "958/958 [==============================] - 5s 5ms/step - loss: 0.1363 - val_loss: 0.1152\n",
      "Epoch 36/100\n",
      "958/958 [==============================] - 5s 5ms/step - loss: 0.1344 - val_loss: 0.1137\n",
      "Epoch 37/100\n",
      "958/958 [==============================] - 5s 5ms/step - loss: 0.1353 - val_loss: 0.1133\n",
      "Epoch 38/100\n",
      "958/958 [==============================] - 5s 5ms/step - loss: 0.1354 - val_loss: 0.1144\n",
      "The model took 191.58 seconds for training.\n"
     ]
    }
   ],
   "source": [
    "# define the model\n",
    "# encoder\n",
    "model_d = Sequential()\n",
    "model_d.add(LSTM(12, input_shape=(n_steps_in_d, n_features)))\n",
    "model_d.add(RepeatVector(n_steps_out_d))\n",
    "\n",
    "# decoder\n",
    "model_d.add(LSTM(12, return_sequences=True))\n",
    "model_d.add(TimeDistributed(Dense(1)))\n",
    "model_d.compile(optimizer='adam', loss='mse')\n",
    "\n",
    "# train the model\n",
    "start = time()\n",
    "early_stopping = EarlyStopping(patience=10, restore_best_weights=True)\n",
    "history = model_d.fit(X_t, y_t, epochs=100, batch_size=128, verbose=1,\n",
    "           validation_data=(X_v, y_v), callbacks=[early_stopping])\n",
    "print(\"The model took %.2f seconds for training.\"% (time() - start)) "
   ]
  },
  {
   "cell_type": "code",
   "execution_count": 31,
   "metadata": {
    "colab": {
     "base_uri": "https://localhost:8080/",
     "height": 291
    },
    "id": "gSNYVcDQHRin",
    "outputId": "daaf92f4-652b-4f98-f0de-53d7f2660bda"
   },
   "outputs": [
    {
     "data": {
      "image/png": "[encoded data removed]",
      "text/plain": [
       "<Figure size 432x288 with 1 Axes>"
      ]
     },
     "metadata": {
      "needs_background": "light",
      "tags": []
     },
     "output_type": "display_data"
    }
   ],
   "source": [
    "plot_learning_curves(history.history[\"loss\"], history.history[\"val_loss\"])\n",
    "plt.show()"
   ]
  },
  {
   "cell_type": "markdown",
   "metadata": {
    "id": "MorXR_izHRin"
   },
   "source": [
    "###  Training model: 24 neurons in encoder and decoder"
   ]
  },
  {
   "cell_type": "code",
   "execution_count": 32,
   "metadata": {
    "colab": {
     "base_uri": "https://localhost:8080/"
    },
    "id": "fgcODhecHRin",
    "outputId": "48ee2779-f0db-45ec-f1e9-7289a7a35a50",
    "scrolled": true
   },
   "outputs": [
    {
     "name": "stdout",
     "output_type": "stream",
     "text": [
      "Epoch 1/100\n",
      "958/958 [==============================] - 8s 6ms/step - loss: 0.4022 - val_loss: 0.1239\n",
      "Epoch 2/100\n",
      "958/958 [==============================] - 5s 5ms/step - loss: 0.1457 - val_loss: 0.1224\n",
      "Epoch 3/100\n",
      "958/958 [==============================] - 5s 5ms/step - loss: 0.1420 - val_loss: 0.1161\n",
      "Epoch 4/100\n",
      "958/958 [==============================] - 5s 5ms/step - loss: 0.1405 - val_loss: 0.1153\n",
      "Epoch 5/100\n",
      "958/958 [==============================] - 5s 5ms/step - loss: 0.1398 - val_loss: 0.1174\n",
      "Epoch 6/100\n",
      "958/958 [==============================] - 5s 5ms/step - loss: 0.1384 - val_loss: 0.1154\n",
      "Epoch 7/100\n",
      "958/958 [==============================] - 5s 5ms/step - loss: 0.1389 - val_loss: 0.1162\n",
      "Epoch 8/100\n",
      "958/958 [==============================] - 5s 5ms/step - loss: 0.1377 - val_loss: 0.1157\n",
      "Epoch 9/100\n",
      "958/958 [==============================] - 5s 5ms/step - loss: 0.1378 - val_loss: 0.1148\n",
      "Epoch 10/100\n",
      "958/958 [==============================] - 5s 5ms/step - loss: 0.1375 - val_loss: 0.1161\n",
      "Epoch 11/100\n",
      "958/958 [==============================] - 5s 5ms/step - loss: 0.1377 - val_loss: 0.1148\n",
      "Epoch 12/100\n",
      "958/958 [==============================] - 5s 5ms/step - loss: 0.1366 - val_loss: 0.1147\n",
      "Epoch 13/100\n",
      "958/958 [==============================] - 5s 5ms/step - loss: 0.1365 - val_loss: 0.1142\n",
      "Epoch 14/100\n",
      "958/958 [==============================] - 5s 5ms/step - loss: 0.1365 - val_loss: 0.1137\n",
      "Epoch 15/100\n",
      "958/958 [==============================] - 5s 5ms/step - loss: 0.1360 - val_loss: 0.1154\n",
      "Epoch 16/100\n",
      "958/958 [==============================] - 5s 5ms/step - loss: 0.1363 - val_loss: 0.1144\n",
      "Epoch 17/100\n",
      "958/958 [==============================] - 5s 5ms/step - loss: 0.1355 - val_loss: 0.1136\n",
      "Epoch 18/100\n",
      "958/958 [==============================] - 5s 5ms/step - loss: 0.1361 - val_loss: 0.1132\n",
      "Epoch 19/100\n",
      "958/958 [==============================] - 5s 5ms/step - loss: 0.1354 - val_loss: 0.1141\n",
      "Epoch 20/100\n",
      "958/958 [==============================] - 5s 5ms/step - loss: 0.1361 - val_loss: 0.1130\n",
      "Epoch 21/100\n",
      "958/958 [==============================] - 5s 5ms/step - loss: 0.1354 - val_loss: 0.1148\n",
      "Epoch 22/100\n",
      "958/958 [==============================] - 5s 5ms/step - loss: 0.1360 - val_loss: 0.1159\n",
      "Epoch 23/100\n",
      "958/958 [==============================] - 5s 5ms/step - loss: 0.1359 - val_loss: 0.1125\n",
      "Epoch 24/100\n",
      "958/958 [==============================] - 5s 5ms/step - loss: 0.1353 - val_loss: 0.1145\n",
      "Epoch 25/100\n",
      "958/958 [==============================] - 5s 5ms/step - loss: 0.1354 - val_loss: 0.1138\n",
      "Epoch 26/100\n",
      "958/958 [==============================] - 5s 5ms/step - loss: 0.1341 - val_loss: 0.1137\n",
      "Epoch 27/100\n",
      "958/958 [==============================] - 5s 5ms/step - loss: 0.1356 - val_loss: 0.1131\n",
      "Epoch 28/100\n",
      "958/958 [==============================] - 5s 5ms/step - loss: 0.1348 - val_loss: 0.1127\n",
      "Epoch 29/100\n",
      "958/958 [==============================] - 5s 5ms/step - loss: 0.1348 - val_loss: 0.1128\n",
      "Epoch 30/100\n",
      "958/958 [==============================] - 5s 5ms/step - loss: 0.1342 - val_loss: 0.1135\n",
      "Epoch 31/100\n",
      "958/958 [==============================] - 5s 5ms/step - loss: 0.1339 - val_loss: 0.1123\n",
      "Epoch 32/100\n",
      "958/958 [==============================] - 5s 5ms/step - loss: 0.1343 - val_loss: 0.1124\n",
      "Epoch 33/100\n",
      "958/958 [==============================] - 5s 5ms/step - loss: 0.1337 - val_loss: 0.1128\n",
      "Epoch 34/100\n",
      "958/958 [==============================] - 5s 5ms/step - loss: 0.1340 - val_loss: 0.1131\n",
      "Epoch 35/100\n",
      "958/958 [==============================] - 5s 5ms/step - loss: 0.1344 - val_loss: 0.1126\n",
      "Epoch 36/100\n",
      "958/958 [==============================] - 5s 5ms/step - loss: 0.1343 - val_loss: 0.1138\n",
      "Epoch 37/100\n",
      "958/958 [==============================] - 5s 5ms/step - loss: 0.1344 - val_loss: 0.1132\n",
      "Epoch 38/100\n",
      "958/958 [==============================] - 5s 5ms/step - loss: 0.1349 - val_loss: 0.1142\n",
      "Epoch 39/100\n",
      "958/958 [==============================] - 5s 5ms/step - loss: 0.1341 - val_loss: 0.1137\n",
      "Epoch 40/100\n",
      "958/958 [==============================] - 5s 5ms/step - loss: 0.1341 - val_loss: 0.1132\n",
      "Epoch 41/100\n",
      "958/958 [==============================] - 5s 5ms/step - loss: 0.1341 - val_loss: 0.1133\n",
      "The model took 203.97 seconds for training.\n"
     ]
    }
   ],
   "source": [
    "# define the model\n",
    "# encoder\n",
    "model_d = Sequential()\n",
    "model_d.add(LSTM(24, input_shape=(n_steps_in_d, n_features)))\n",
    "model_d.add(RepeatVector(n_steps_out_d))\n",
    "\n",
    "# decoder\n",
    "model_d.add(LSTM(24, return_sequences=True))\n",
    "model_d.add(TimeDistributed(Dense(1)))\n",
    "model_d.compile(optimizer='adam', loss='mse')\n",
    "\n",
    "# train the model\n",
    "start = time()\n",
    "early_stopping = EarlyStopping(patience=10, restore_best_weights=True)\n",
    "history = model_d.fit(X_t, y_t, epochs=100, batch_size=128, verbose=1,\n",
    "           validation_data=(X_v, y_v), callbacks=[early_stopping])\n",
    "print(\"The model took %.2f seconds for training.\"% (time() - start)) "
   ]
  },
  {
   "cell_type": "code",
   "execution_count": 33,
   "metadata": {
    "colab": {
     "base_uri": "https://localhost:8080/",
     "height": 291
    },
    "id": "QEq-GVGZHRio",
    "outputId": "f148231e-943c-48a2-9355-ffb8516fbd0c"
   },
   "outputs": [
    {
     "data": {
      "image/png": "[encoded data removed]",
      "text/plain": [
       "<Figure size 432x288 with 1 Axes>"
      ]
     },
     "metadata": {
      "needs_background": "light",
      "tags": []
     },
     "output_type": "display_data"
    }
   ],
   "source": [
    "plot_learning_curves(history.history[\"loss\"], history.history[\"val_loss\"])\n",
    "plt.show()"
   ]
  },
  {
   "cell_type": "markdown",
   "metadata": {
    "id": "877GXO3cHRio"
   },
   "source": [
    "### Training model: 168 neurons in encoder and decoder"
   ]
  },
  {
   "cell_type": "code",
   "execution_count": 34,
   "metadata": {
    "colab": {
     "base_uri": "https://localhost:8080/"
    },
    "id": "RrDJ7AEKHRio",
    "outputId": "bbe6f244-ec97-442a-a985-11d330a36726",
    "scrolled": true
   },
   "outputs": [
    {
     "name": "stdout",
     "output_type": "stream",
     "text": [
      "Epoch 1/100\n",
      "958/958 [==============================] - 9s 7ms/step - loss: 0.2556 - val_loss: 0.1209\n",
      "Epoch 2/100\n",
      "958/958 [==============================] - 7s 7ms/step - loss: 0.1439 - val_loss: 0.1168\n",
      "Epoch 3/100\n",
      "958/958 [==============================] - 6s 7ms/step - loss: 0.1406 - val_loss: 0.1156\n",
      "Epoch 4/100\n",
      "958/958 [==============================] - 7s 7ms/step - loss: 0.1393 - val_loss: 0.1157\n",
      "Epoch 5/100\n",
      "958/958 [==============================] - 7s 7ms/step - loss: 0.1379 - val_loss: 0.1142\n",
      "Epoch 6/100\n",
      "958/958 [==============================] - 7s 7ms/step - loss: 0.1373 - val_loss: 0.1188\n",
      "Epoch 7/100\n",
      "958/958 [==============================] - 7s 7ms/step - loss: 0.1378 - val_loss: 0.1158\n",
      "Epoch 8/100\n",
      "958/958 [==============================] - 7s 7ms/step - loss: 0.1362 - val_loss: 0.1145\n",
      "Epoch 9/100\n",
      "958/958 [==============================] - 7s 7ms/step - loss: 0.1365 - val_loss: 0.1147\n",
      "Epoch 10/100\n",
      "958/958 [==============================] - 7s 7ms/step - loss: 0.1356 - val_loss: 0.1139\n",
      "Epoch 11/100\n",
      "958/958 [==============================] - 7s 7ms/step - loss: 0.1349 - val_loss: 0.1155\n",
      "Epoch 12/100\n",
      "958/958 [==============================] - 7s 7ms/step - loss: 0.1352 - val_loss: 0.1131\n",
      "Epoch 13/100\n",
      "958/958 [==============================] - 7s 7ms/step - loss: 0.1346 - val_loss: 0.1126\n",
      "Epoch 14/100\n",
      "958/958 [==============================] - 7s 7ms/step - loss: 0.1340 - val_loss: 0.1120\n",
      "Epoch 15/100\n",
      "958/958 [==============================] - 7s 7ms/step - loss: 0.1337 - val_loss: 0.1141\n",
      "Epoch 16/100\n",
      "958/958 [==============================] - 7s 7ms/step - loss: 0.1343 - val_loss: 0.1129\n",
      "Epoch 17/100\n",
      "958/958 [==============================] - 7s 7ms/step - loss: 0.1336 - val_loss: 0.1137\n",
      "Epoch 18/100\n",
      "958/958 [==============================] - 7s 7ms/step - loss: 0.1335 - val_loss: 0.1120\n",
      "Epoch 19/100\n",
      "958/958 [==============================] - 7s 7ms/step - loss: 0.1329 - val_loss: 0.1146\n",
      "Epoch 20/100\n",
      "958/958 [==============================] - 7s 7ms/step - loss: 0.1326 - val_loss: 0.1127\n",
      "Epoch 21/100\n",
      "958/958 [==============================] - 7s 7ms/step - loss: 0.1319 - val_loss: 0.1144\n",
      "Epoch 22/100\n",
      "958/958 [==============================] - 7s 7ms/step - loss: 0.1318 - val_loss: 0.1126\n",
      "Epoch 23/100\n",
      "958/958 [==============================] - 7s 7ms/step - loss: 0.1303 - val_loss: 0.1165\n",
      "Epoch 24/100\n",
      "958/958 [==============================] - 7s 7ms/step - loss: 0.1302 - val_loss: 0.1153\n",
      "The model took 161.32 seconds for training.\n"
     ]
    }
   ],
   "source": [
    "# define the model\n",
    "# encoder\n",
    "model_d = Sequential()\n",
    "model_d.add(LSTM(168, input_shape=(n_steps_in_d, n_features)))\n",
    "model_d.add(RepeatVector(n_steps_out_d))\n",
    "\n",
    "# decoder\n",
    "model_d.add(LSTM(168, return_sequences=True))\n",
    "model_d.add(TimeDistributed(Dense(1)))\n",
    "model_d.compile(optimizer='adam', loss='mse')\n",
    "\n",
    "# train the model\n",
    "start = time()\n",
    "early_stopping = EarlyStopping(patience=10, restore_best_weights=True)\n",
    "history = model_d.fit(X_t, y_t, epochs=100, batch_size=128, verbose=1,\n",
    "           validation_data=(X_v, y_v), callbacks=[early_stopping])\n",
    "print(\"The model took %.2f seconds for training.\"% (time() - start)) "
   ]
  },
  {
   "cell_type": "code",
   "execution_count": 35,
   "metadata": {
    "colab": {
     "base_uri": "https://localhost:8080/",
     "height": 291
    },
    "id": "yyEkMnprHRio",
    "outputId": "13dc6e98-446d-4bfb-991f-1ec5f629ab1d"
   },
   "outputs": [
    {
     "data": {
      "image/png": "[encoded data removed]",
      "text/plain": [
       "<Figure size 432x288 with 1 Axes>"
      ]
     },
     "metadata": {
      "needs_background": "light",
      "tags": []
     },
     "output_type": "display_data"
    }
   ],
   "source": [
    "plot_learning_curves(history.history[\"loss\"], history.history[\"val_loss\"])\n",
    "plt.show()"
   ]
  },
  {
   "cell_type": "markdown",
   "metadata": {
    "id": "y0U9ioVvHRio"
   },
   "source": [
    "## 3.2.4 Forecasting one day in the test set"
   ]
  },
  {
   "cell_type": "code",
   "execution_count": 66,
   "metadata": {
    "colab": {
     "base_uri": "https://localhost:8080/"
    },
    "id": "85tTVI8gHRio",
    "outputId": "76b6441b-74b4-41a6-b257-24bddbabac4b"
   },
   "outputs": [
    {
     "name": "stdout",
     "output_type": "stream",
     "text": [
      "(175200,)\n",
      "(122640,)\n",
      "(26280,)\n",
      "(26233, 24)\n",
      "(26233, 24)\n"
     ]
    }
   ],
   "source": [
    "# Forecasting the test set\n",
    "X_test_, y_test_ = split_sequence(X_test, n_steps_in_d, n_steps_out_d)\n",
    "y_test = scaler.inverse_transform(y_test_)\n",
    "\n",
    "print(X.shape)\n",
    "print(X_train.shape)\n",
    "print(X_test.shape)\n",
    "print(X_test_.shape)\n",
    "print(y_test.shape)"
   ]
  },
  {
   "cell_type": "code",
   "execution_count": 70,
   "metadata": {
    "id": "lhD7ExRmx1Zg"
   },
   "outputs": [],
   "source": [
    "x_input = X_test_[0].reshape((1, n_steps_in_d, n_features))\n",
    "yhat_norm_d = model_d.predict(x_input, verbose=0)\n",
    "yhat_d = scaler.inverse_transform(yhat_norm_d)\n",
    "yhat_d = yhat_d[0]\n",
    "\n",
    "actual = y_test[0]"
   ]
  },
  {
   "cell_type": "code",
   "execution_count": 71,
   "metadata": {
    "colab": {
     "base_uri": "https://localhost:8080/",
     "height": 506
    },
    "id": "bXsfsfJSHRip",
    "outputId": "b069a42a-ae30-40b8-97d3-0334123d7ffb"
   },
   "outputs": [
    {
     "data": {
      "image/png": "[encoded data removed]",
      "text/plain": [
       "<Figure size 648x504 with 1 Axes>"
      ]
     },
     "metadata": {
      "needs_background": "light",
      "tags": []
     },
     "output_type": "display_data"
    },
    {
     "name": "stdout",
     "output_type": "stream",
     "text": [
      "Root mean square error:  69.071503751766\n",
      "Mean absolute error:  43.12384050091108\n",
      "R-Squared:  0.8242490202548516\n"
     ]
    }
   ],
   "source": [
    "predict = 24*31\n",
    "x_input = X_test_[predict].reshape((1, n_steps_in_d, n_features))\n",
    "yhat_norm_d = model_d.predict(x_input, verbose=0)\n",
    "yhat_d = scaler.inverse_transform(yhat_norm_d)\n",
    "yhat_d = yhat_d[0]\n",
    "\n",
    "var = scaler.inverse_transform(X_test)\n",
    "actual = y_test[predict]\n",
    "a = var[predict-48:predict]\n",
    "b = np.hstack((a,actual))\n",
    "\n",
    "plt.rcParams['figure.figsize'] = (9, 7)\n",
    "plt.plot(b,'r',  label='Actual', linewidth=2)\n",
    "plt.plot(time[48:], yhat_d.ravel(),'b--',  label='Predict', linewidth=2)\n",
    "plt.legend(loc='upper left', fontsize=20)\n",
    "plt.xlabel(\"Time [hours]\", fontsize=20)\n",
    "plt.ylabel(\"GHI $[kWh/m^2]$\", fontsize=20)\n",
    "plt.yticks(size=15)\n",
    "plt.xticks(size=15)\n",
    "# plt.savefig('Figuras_Informe/predic_1_day_01012012.png', format='png', dpi=300)\n",
    "plt.show() \n",
    "\n",
    "rmse = np.sqrt(mean_squared_error(actual, yhat_d))\n",
    "mae = mean_absolute_error(actual, yhat_d)\n",
    "r2 = r2_score(actual, yhat_d)\n",
    "\n",
    "print('Root mean square error: ', rmse)\n",
    "print('Mean absolute error: ', mae)\n",
    "print('R-Squared: ', r2)"
   ]
  },
  {
   "cell_type": "code",
   "execution_count": 72,
   "metadata": {
    "colab": {
     "base_uri": "https://localhost:8080/",
     "height": 506
    },
    "id": "0QJXfdbLHRip",
    "outputId": "4a4a1d07-4cc5-42f5-a6b9-509f817caab0"
   },
   "outputs": [
    {
     "data": {
      "image/png": "[encoded data removed]",
      "text/plain": [
       "<Figure size 648x504 with 1 Axes>"
      ]
     },
     "metadata": {
      "needs_background": "light",
      "tags": []
     },
     "output_type": "display_data"
    },
    {
     "name": "stdout",
     "output_type": "stream",
     "text": [
      "Root mean square error:  109.05789898767999\n",
      "Mean absolute error:  58.871506254188716\n",
      "R-Squared:  0.9029694235329964\n"
     ]
    }
   ],
   "source": [
    "predict = (24*31) + (24*28)\n",
    "x_input = X_test_[predict].reshape((1, n_steps_in_d, n_features))\n",
    "yhat_norm_d = model_d.predict(x_input, verbose=0)\n",
    "yhat_d = scaler.inverse_transform(yhat_norm_d)\n",
    "yhat_d = yhat_d[0]\n",
    "\n",
    "# var = scaler.inverse_transform(X_test)\n",
    "actual = y_test[predict]\n",
    "a = var[predict-48:predict]\n",
    "b = np.hstack((a,actual))\n",
    "\n",
    "plt.rcParams['figure.figsize'] = (9, 7)\n",
    "plt.plot(b,'r',  label='Actual', linewidth=2)\n",
    "plt.plot(time[48:], yhat_d.ravel(),'b--',  label='Predict', linewidth=2)\n",
    "plt.legend(loc='upper left', fontsize=20)\n",
    "plt.xlabel(\"Time [hours]\", fontsize=20)\n",
    "plt.ylabel(\"GHI $[kWh/m^2]$\", fontsize=20)\n",
    "plt.yticks(size=15)\n",
    "plt.xticks(size=15)\n",
    "# plt.savefig('Figuras_Informe/predict_1_day_01032017.pdf', format='pdf', dpi=300)\n",
    "plt.show() \n",
    "\n",
    "rmse = np.sqrt(mean_squared_error(actual, yhat_d))\n",
    "mae = mean_absolute_error(actual, yhat_d)\n",
    "r2 = r2_score(actual, yhat_d)\n",
    "\n",
    "print('Root mean square error: ', rmse)\n",
    "print('Mean absolute error: ', mae)\n",
    "print('R-Squared: ', r2)"
   ]
  },
  {
   "cell_type": "code",
   "execution_count": 73,
   "metadata": {
    "colab": {
     "base_uri": "https://localhost:8080/",
     "height": 506
    },
    "id": "y8ira_quHRip",
    "outputId": "8fc40bb8-ac95-410b-af79-49bf9132c344"
   },
   "outputs": [
    {
     "data": {
      "image/png": "[encoded data removed]",
      "text/plain": [
       "<Figure size 648x504 with 1 Axes>"
      ]
     },
     "metadata": {
      "needs_background": "light",
      "tags": []
     },
     "output_type": "display_data"
    },
    {
     "name": "stdout",
     "output_type": "stream",
     "text": [
      "Root mean square error:  126.72461419142338\n",
      "Mean absolute error:  57.43979123172661\n",
      "R-Squared:  0.8246546493047183\n"
     ]
    }
   ],
   "source": [
    "predict = (24*31) + (24*28) + (24*31)\n",
    "x_input = X_test_[predict].reshape((1, n_steps_in_d, n_features))\n",
    "yhat_norm_d = model_d.predict(x_input, verbose=0)\n",
    "yhat_d = scaler.inverse_transform(yhat_norm_d)\n",
    "yhat_d = yhat_d[0]\n",
    "\n",
    "# var = scaler.inverse_transform(X_test)\n",
    "actual = y_test[predict]\n",
    "a = var[predict-48:predict]\n",
    "b = np.hstack((a,actual))\n",
    "\n",
    "plt.rcParams['figure.figsize'] = (9, 7)\n",
    "plt.plot(b,'r',  label='Actual', linewidth=2)\n",
    "plt.plot(time[48:], yhat_d.ravel(),'b--',  label='Predict', linewidth=2)\n",
    "plt.legend(loc='upper left', fontsize=20)\n",
    "plt.xlabel(\"Time [hours]\", fontsize=20)\n",
    "plt.ylabel(\"GHI $[kWh/m^2]$\", fontsize=20)\n",
    "plt.yticks(size=15)\n",
    "plt.xticks(size=15)\n",
    "# plt.savefig('Figuras_Informe/predict_1_day_01042017.pdf', format='pdf', dpi=300)\n",
    "plt.show() \n",
    "\n",
    "rmse = np.sqrt(mean_squared_error(actual, yhat_d))\n",
    "mae = mean_absolute_error(actual, yhat_d)\n",
    "r2 = r2_score(actual, yhat_d)\n",
    "\n",
    "print('Root mean square error: ', rmse)\n",
    "print('Mean absolute error: ', mae)\n",
    "print('R-Squared: ', r2)"
   ]
  },
  {
   "cell_type": "code",
   "execution_count": 74,
   "metadata": {
    "colab": {
     "base_uri": "https://localhost:8080/",
     "height": 506
    },
    "id": "g_N6rlkEHRip",
    "outputId": "fc1a5401-3758-4781-9db0-e5b17cf37924"
   },
   "outputs": [
    {
     "data": {
      "image/png": "[encoded data removed]",
      "text/plain": [
       "<Figure size 648x504 with 1 Axes>"
      ]
     },
     "metadata": {
      "needs_background": "light",
      "tags": []
     },
     "output_type": "display_data"
    },
    {
     "name": "stdout",
     "output_type": "stream",
     "text": [
      "Root mean square error:  97.05208063245374\n",
      "Mean absolute error:  62.68560668826103\n",
      "R-Squared:  0.906012725662079\n"
     ]
    }
   ],
   "source": [
    "predict = (24*31) + (24*28) + (24*31) + (24*30)\n",
    "x_input = X_test_[predict].reshape((1, n_steps_in_d, n_features))\n",
    "yhat_norm_d = model_d.predict(x_input, verbose=0)\n",
    "yhat_d = scaler.inverse_transform(yhat_norm_d)\n",
    "yhat_d = yhat_d[0]\n",
    "\n",
    "# var = scaler.inverse_transform(X_test)\n",
    "actual = y_test[predict]\n",
    "a = var[predict-48:predict]\n",
    "b = np.hstack((a,actual))\n",
    "\n",
    "plt.rcParams['figure.figsize'] = (9, 7)\n",
    "plt.plot(b,'r',  label='Actual', linewidth=2)\n",
    "plt.plot(time[48:], yhat_d.ravel(),'b--',  label='Predict', linewidth=2)\n",
    "plt.legend(loc='upper left', fontsize=20)\n",
    "plt.xlabel(\"Time [hours]\", fontsize=20)\n",
    "plt.ylabel(\"GHI $[kWh/m^2]$\", fontsize=20)\n",
    "plt.yticks(size=15)\n",
    "plt.xticks(size=15)\n",
    "# plt.savefig('Figuras_Informe/predict_1_day_01052017.pdf', format='pdf', dpi=300)\n",
    "plt.show() \n",
    "\n",
    "rmse = np.sqrt(mean_squared_error(actual, yhat_d))\n",
    "mae = mean_absolute_error(actual, yhat_d)\n",
    "r2 = r2_score(actual, yhat_d)\n",
    "\n",
    "print('Root mean square error: ', rmse)\n",
    "print('Mean absolute error: ', mae)\n",
    "print('R-Squared: ', r2)"
   ]
  },
  {
   "cell_type": "code",
   "execution_count": 75,
   "metadata": {
    "colab": {
     "base_uri": "https://localhost:8080/",
     "height": 506
    },
    "id": "sNdCasNeHRip",
    "outputId": "c13a0235-9042-453f-b557-54653d1a895d"
   },
   "outputs": [
    {
     "data": {
      "image/png": "[encoded data removed]",
      "text/plain": [
       "<Figure size 648x504 with 1 Axes>"
      ]
     },
     "metadata": {
      "needs_background": "light",
      "tags": []
     },
     "output_type": "display_data"
    },
    {
     "name": "stdout",
     "output_type": "stream",
     "text": [
      "Root mean square error:  62.274252075479154\n",
      "Mean absolute error:  38.50431267459256\n",
      "R-Squared:  0.9009810157621021\n"
     ]
    }
   ],
   "source": [
    "predict = (24*31) + (24*28) + (24*31) + (24*30) + (24*31) + (24*30) + (24*31) + (24*31) + (24*30) + (24*31) + (24*30)\n",
    "x_input = X_test_[predict].reshape((1, n_steps_in_d, n_features))\n",
    "yhat_norm_d = model_d.predict(x_input, verbose=0)\n",
    "yhat_d = scaler.inverse_transform(yhat_norm_d)\n",
    "yhat_d = yhat_d[0]\n",
    "\n",
    "# var = scaler.inverse_transform(X_test)\n",
    "actual = y_test[predict]\n",
    "a = var[predict-48:predict]\n",
    "b = np.hstack((a,actual))\n",
    "\n",
    "plt.rcParams['figure.figsize'] = (9, 7)\n",
    "plt.plot(b,'r',  label='Actual', linewidth=2)\n",
    "plt.plot(time[48:], yhat_d.ravel(),'b--',  label='Predict', linewidth=2)\n",
    "plt.legend(loc='upper left', fontsize=20)\n",
    "plt.xlabel(\"Time [hours]\", fontsize=20)\n",
    "plt.ylabel(\"GHI $[kWh/m^2]$\", fontsize=20)\n",
    "plt.yticks(size=15)\n",
    "plt.xticks(size=15)\n",
    "# plt.savefig('Figuras_Informe/predict_1_day_01122017.pdf', format='pdf', dpi=300)\n",
    "plt.show() \n",
    "\n",
    "rmse = np.sqrt(mean_squared_error(actual, yhat_d))\n",
    "mae = mean_absolute_error(actual, yhat_d)\n",
    "r2 = r2_score(actual, yhat_d)\n",
    "\n",
    "print('Root mean square error: ', rmse)\n",
    "print('Mean absolute error: ', mae)\n",
    "print('R-Squared: ', r2)"
   ]
  },
  {
   "cell_type": "code",
   "execution_count": 76,
   "metadata": {
    "colab": {
     "base_uri": "https://localhost:8080/"
    },
    "id": "7MOw_-cBHRiq",
    "outputId": "21049041-dde3-4c13-f2ee-dbca4dc522b1"
   },
   "outputs": [
    {
     "name": "stdout",
     "output_type": "stream",
     "text": [
      "Model: \"sequential_8\"\n",
      "_________________________________________________________________\n",
      "Layer (type)                 Output Shape              Param #   \n",
      "=================================================================\n",
      "lstm_16 (LSTM)               (None, 168)               114240    \n",
      "_________________________________________________________________\n",
      "repeat_vector_8 (RepeatVecto (None, 24, 168)           0         \n",
      "_________________________________________________________________\n",
      "lstm_17 (LSTM)               (None, 24, 168)           226464    \n",
      "_________________________________________________________________\n",
      "time_distributed_8 (TimeDist (None, 24, 1)             169       \n",
      "=================================================================\n",
      "Total params: 340,873\n",
      "Trainable params: 340,873\n",
      "Non-trainable params: 0\n",
      "_________________________________________________________________\n"
     ]
    }
   ],
   "source": [
    "model_d.summary()"
   ]
  },
  {
   "cell_type": "markdown",
   "metadata": {
    "id": "finIAeUvHRiq"
   },
   "source": [
    "## 3.3 Weekly forecasting"
   ]
  },
  {
   "cell_type": "markdown",
   "metadata": {
    "id": "2kWGADrwHRiq"
   },
   "source": [
    "### 3.3.1 Prepare data with 672 input data"
   ]
  },
  {
   "cell_type": "code",
   "execution_count": 77,
   "metadata": {
    "colab": {
     "base_uri": "https://localhost:8080/"
    },
    "id": "yD_178JQHRiq",
    "outputId": "ec404444-3481-47b9-912d-85be2476ca2c"
   },
   "outputs": [
    {
     "name": "stdout",
     "output_type": "stream",
     "text": [
      "(121801, 672)\n",
      "(121801, 168)\n",
      "(25441, 672)\n",
      "(25441, 168)\n"
     ]
    }
   ],
   "source": [
    "# Choose number of input and output steps\n",
    "n_steps_in_w = 672\n",
    "n_steps_out_w = 168\n",
    "# Divide into samples\n",
    "X_t, y_t = split_sequence(X_train, n_steps_in_w, n_steps_out_w)\n",
    "X_v, y_v = split_sequence(X_val, n_steps_in_w, n_steps_out_w)\n",
    "\n",
    "print(X_t.shape)\n",
    "print(y_t.shape)\n",
    "print(X_v.shape)\n",
    "print(y_v.shape)"
   ]
  },
  {
   "cell_type": "code",
   "execution_count": 78,
   "metadata": {
    "colab": {
     "base_uri": "https://localhost:8080/"
    },
    "id": "RhGn_CAIHRiq",
    "outputId": "9f270976-223c-43dc-a7ba-eaf1ebc86e7d"
   },
   "outputs": [
    {
     "name": "stdout",
     "output_type": "stream",
     "text": [
      "(121801, 672, 1)\n",
      "(121801, 168, 1)\n",
      "(25441, 672, 1)\n",
      "(25441, 168, 1)\n"
     ]
    }
   ],
   "source": [
    "# Resize [samples, timesteps] to [samples, timesteps, features]\n",
    "n_features = 1\n",
    "X_t = X_t.reshape((X_t.shape[0], X_t.shape[1], n_features))\n",
    "y_t = y_t.reshape((y_t.shape[0], y_t.shape[1], n_features))\n",
    "X_v = X_v.reshape((X_v.shape[0], X_v.shape[1], n_features))\n",
    "y_v = y_v.reshape((y_v.shape[0], y_v.shape[1], n_features))\n",
    "\n",
    "print(X_t.shape)\n",
    "print(y_t.shape)\n",
    "print(X_v.shape)\n",
    "print(y_v.shape)"
   ]
  },
  {
   "cell_type": "markdown",
   "metadata": {
    "id": "FbDgY7VIHRiq"
   },
   "source": [
    "### Training model: 12 neurons in encoder and decoder"
   ]
  },
  {
   "cell_type": "code",
   "execution_count": 79,
   "metadata": {
    "colab": {
     "base_uri": "https://localhost:8080/"
    },
    "id": "oT_mIKfDHRir",
    "outputId": "9a94e300-3908-4aed-e940-03f64b1c2cc9",
    "scrolled": true
   },
   "outputs": [
    {
     "name": "stdout",
     "output_type": "stream",
     "text": [
      "Epoch 1/100\n",
      "3807/3807 [==============================] - 127s 33ms/step - loss: 0.4307 - val_loss: 0.1646\n",
      "Epoch 2/100\n",
      "3807/3807 [==============================] - 126s 33ms/step - loss: 0.1830 - val_loss: 0.1641\n",
      "Epoch 3/100\n",
      "3807/3807 [==============================] - 125s 33ms/step - loss: 0.1780 - val_loss: 0.1461\n",
      "Epoch 4/100\n",
      "3807/3807 [==============================] - 126s 33ms/step - loss: 0.1749 - val_loss: 0.1481\n",
      "Epoch 5/100\n",
      "3807/3807 [==============================] - 125s 33ms/step - loss: 0.1737 - val_loss: 0.1455\n",
      "Epoch 6/100\n",
      "3807/3807 [==============================] - 125s 33ms/step - loss: 0.1728 - val_loss: 0.1439\n",
      "Epoch 7/100\n",
      "3807/3807 [==============================] - 125s 33ms/step - loss: 0.1737 - val_loss: 0.1418\n",
      "Epoch 8/100\n",
      "3807/3807 [==============================] - 126s 33ms/step - loss: 0.1713 - val_loss: 0.1440\n",
      "Epoch 9/100\n",
      "3807/3807 [==============================] - 126s 33ms/step - loss: 0.1705 - val_loss: 0.1437\n",
      "Epoch 10/100\n",
      "3807/3807 [==============================] - 126s 33ms/step - loss: 0.1704 - val_loss: 0.1442\n",
      "Epoch 11/100\n",
      "3807/3807 [==============================] - 126s 33ms/step - loss: 0.1694 - val_loss: 0.1416\n",
      "Epoch 12/100\n",
      "3807/3807 [==============================] - 125s 33ms/step - loss: 0.1694 - val_loss: 0.1401\n",
      "Epoch 13/100\n",
      "3807/3807 [==============================] - 126s 33ms/step - loss: 0.1687 - val_loss: 0.1420\n",
      "Epoch 14/100\n",
      "3807/3807 [==============================] - 126s 33ms/step - loss: 0.1685 - val_loss: 0.1411\n",
      "Epoch 15/100\n",
      "3807/3807 [==============================] - 125s 33ms/step - loss: 0.1679 - val_loss: 0.1440\n",
      "Epoch 16/100\n",
      "3807/3807 [==============================] - 126s 33ms/step - loss: 0.1676 - val_loss: 0.1478\n",
      "Epoch 17/100\n",
      "3807/3807 [==============================] - 126s 33ms/step - loss: 0.1680 - val_loss: 0.1442\n",
      "Epoch 18/100\n",
      "3807/3807 [==============================] - 125s 33ms/step - loss: 0.1679 - val_loss: 0.1453\n",
      "Epoch 19/100\n",
      "3807/3807 [==============================] - 125s 33ms/step - loss: 0.1673 - val_loss: 0.1402\n",
      "Epoch 20/100\n",
      "3807/3807 [==============================] - 126s 33ms/step - loss: 0.1678 - val_loss: 0.1415\n",
      "Epoch 21/100\n",
      "3807/3807 [==============================] - 127s 33ms/step - loss: 0.1668 - val_loss: 0.1399\n",
      "Epoch 22/100\n",
      "3807/3807 [==============================] - 125s 33ms/step - loss: 0.1670 - val_loss: 0.1417\n",
      "Epoch 23/100\n",
      "3807/3807 [==============================] - 126s 33ms/step - loss: 0.1660 - val_loss: 0.1388\n",
      "Epoch 24/100\n",
      "3807/3807 [==============================] - 125s 33ms/step - loss: 0.1665 - val_loss: 0.1388\n",
      "Epoch 25/100\n",
      "3807/3807 [==============================] - 126s 33ms/step - loss: 0.1664 - val_loss: 0.1424\n",
      "Epoch 26/100\n",
      "3807/3807 [==============================] - 125s 33ms/step - loss: 0.1666 - val_loss: 0.1440\n",
      "Epoch 27/100\n",
      "3807/3807 [==============================] - 126s 33ms/step - loss: 0.1663 - val_loss: 0.1390\n",
      "Epoch 28/100\n",
      "3807/3807 [==============================] - 125s 33ms/step - loss: 0.1668 - val_loss: 0.1431\n",
      "Epoch 29/100\n",
      "3807/3807 [==============================] - 127s 33ms/step - loss: 0.1661 - val_loss: 0.1402\n",
      "Epoch 30/100\n",
      "3807/3807 [==============================] - 127s 33ms/step - loss: 0.1651 - val_loss: 0.1469\n",
      "Epoch 31/100\n",
      "3807/3807 [==============================] - 126s 33ms/step - loss: 0.1661 - val_loss: 0.1519\n",
      "Epoch 32/100\n",
      "3807/3807 [==============================] - 127s 33ms/step - loss: 0.1661 - val_loss: 0.1390\n",
      "Epoch 33/100\n",
      "3807/3807 [==============================] - 126s 33ms/step - loss: 0.1659 - val_loss: 0.1393\n",
      "Epoch 34/100\n",
      "3807/3807 [==============================] - 126s 33ms/step - loss: 0.1651 - val_loss: 0.1397\n",
      "The model took 4276.31 seconds for training.\n"
     ]
    }
   ],
   "source": [
    "from keras.layers import LSTM, Dense\n",
    "from keras.models import Sequential\n",
    "from keras.layers import RepeatVector\n",
    "from keras.layers import TimeDistributed\n",
    "from keras.callbacks import EarlyStopping\n",
    "from time import time\n",
    "\n",
    "# Define the model\n",
    "model_w = Sequential()\n",
    "model_w.add(LSTM(12, input_shape=(n_steps_in_w, n_features)))\n",
    "model_w.add(RepeatVector(n_steps_out_w))\n",
    "\n",
    "model_w.add(LSTM(12, return_sequences=True))\n",
    "model_w.add(TimeDistributed(Dense(1)))\n",
    "model_w.compile(optimizer='adam', loss='mse')\n",
    "\n",
    "# train the model\n",
    "start = time()\n",
    "early_stopping = EarlyStopping(patience=10, restore_best_weights=True)\n",
    "history = model_w.fit(X_t, y_t, epochs=100, batch_size=32, verbose=1,\n",
    "           validation_data=(X_v, y_v), callbacks=[early_stopping])\n",
    "print(\"The model took %.2f seconds for training.\"% (time() - start)) "
   ]
  },
  {
   "cell_type": "code",
   "execution_count": 80,
   "metadata": {
    "colab": {
     "base_uri": "https://localhost:8080/",
     "height": 286
    },
    "id": "dgXtGeTOHRir",
    "outputId": "30b2bce0-0abb-47f1-e5b5-55e23c3678fb"
   },
   "outputs": [
    {
     "data": {
      "image/png": "[encoded data removed]",
      "text/plain": [
       "<Figure size 432x288 with 1 Axes>"
      ]
     },
     "metadata": {
      "needs_background": "light",
      "tags": []
     },
     "output_type": "display_data"
    }
   ],
   "source": [
    "%matplotlib inline\n",
    "import matplotlib as mpl\n",
    "import matplotlib.pyplot as plt\n",
    "mpl.rc('axes', labelsize=14)\n",
    "mpl.rc('xtick', labelsize=12)\n",
    "mpl.rc('ytick', labelsize=12)\n",
    "\n",
    "def plot_learning_curves(loss, val_loss):\n",
    "    plt.plot(np.arange(len(loss)), loss, \"b.-\", label=\"Training loss\")\n",
    "    plt.plot(np.arange(len(val_loss)), val_loss, \"r.-\", label=\"Validation loss\")\n",
    "    plt.gca().xaxis.set_major_locator(mpl.ticker.MaxNLocator(integer=True))\n",
    "    plt.axis([1, len(history.epoch), min(history.history[\"val_loss\"]), max(history.history[\"val_loss\"])])\n",
    "    plt.legend(fontsize=14)\n",
    "    plt.xlabel(\"Epochs\")\n",
    "    plt.ylabel(\"Loss\")\n",
    "    plt.grid(True)\n",
    "\n",
    "plot_learning_curves(history.history[\"loss\"], history.history[\"val_loss\"])\n",
    "plt.show()"
   ]
  },
  {
   "cell_type": "markdown",
   "metadata": {
    "id": "4SJmSE3-HRir"
   },
   "source": [
    "### Training model: 24 neurons in encoder and decoder"
   ]
  },
  {
   "cell_type": "code",
   "execution_count": 81,
   "metadata": {
    "colab": {
     "base_uri": "https://localhost:8080/"
    },
    "id": "y8bXXAkYHRis",
    "outputId": "a187c2e4-31da-426e-b0e0-50a23fcea7ed",
    "scrolled": true
   },
   "outputs": [
    {
     "name": "stdout",
     "output_type": "stream",
     "text": [
      "Epoch 1/100\n",
      "3807/3807 [==============================] - 130s 34ms/step - loss: 0.3478 - val_loss: 0.1540\n",
      "Epoch 2/100\n",
      "3807/3807 [==============================] - 126s 33ms/step - loss: 0.1791 - val_loss: 0.1460\n",
      "Epoch 3/100\n",
      "3807/3807 [==============================] - 127s 33ms/step - loss: 0.1765 - val_loss: 0.1502\n",
      "Epoch 4/100\n",
      "3807/3807 [==============================] - 126s 33ms/step - loss: 0.1749 - val_loss: 0.1558\n",
      "Epoch 5/100\n",
      "3807/3807 [==============================] - 126s 33ms/step - loss: 0.1737 - val_loss: 0.1439\n",
      "Epoch 6/100\n",
      "3807/3807 [==============================] - 126s 33ms/step - loss: 0.1713 - val_loss: 0.1516\n",
      "Epoch 7/100\n",
      "3807/3807 [==============================] - 126s 33ms/step - loss: 0.1711 - val_loss: 0.1459\n",
      "Epoch 8/100\n",
      "3807/3807 [==============================] - 127s 33ms/step - loss: 0.1696 - val_loss: 0.1400\n",
      "Epoch 9/100\n",
      "3807/3807 [==============================] - 126s 33ms/step - loss: 0.1695 - val_loss: 0.1421\n",
      "Epoch 10/100\n",
      "3807/3807 [==============================] - 128s 33ms/step - loss: 0.1702 - val_loss: 0.1524\n",
      "Epoch 11/100\n",
      "3807/3807 [==============================] - 127s 33ms/step - loss: 0.1682 - val_loss: 0.1563\n",
      "Epoch 12/100\n",
      "3807/3807 [==============================] - 128s 34ms/step - loss: 0.1704 - val_loss: 0.1433\n",
      "Epoch 13/100\n",
      "3807/3807 [==============================] - 128s 34ms/step - loss: 0.1681 - val_loss: 0.1396\n",
      "Epoch 14/100\n",
      "3807/3807 [==============================] - 127s 33ms/step - loss: 0.1676 - val_loss: 0.1433\n",
      "Epoch 15/100\n",
      "3807/3807 [==============================] - 128s 34ms/step - loss: 0.1673 - val_loss: 0.1448\n",
      "Epoch 16/100\n",
      "3807/3807 [==============================] - 127s 33ms/step - loss: 0.1676 - val_loss: 0.1525\n",
      "Epoch 17/100\n",
      "3807/3807 [==============================] - 127s 33ms/step - loss: 0.1663 - val_loss: 0.1466\n",
      "Epoch 18/100\n",
      "3807/3807 [==============================] - 128s 34ms/step - loss: 0.1656 - val_loss: 0.1398\n",
      "Epoch 19/100\n",
      "3807/3807 [==============================] - 127s 33ms/step - loss: 0.1654 - val_loss: 0.1516\n",
      "Epoch 20/100\n",
      "3807/3807 [==============================] - 127s 33ms/step - loss: 0.1696 - val_loss: 0.1463\n",
      "Epoch 21/100\n",
      "3807/3807 [==============================] - 127s 33ms/step - loss: 0.1663 - val_loss: 0.1397\n",
      "Epoch 22/100\n",
      "3807/3807 [==============================] - 129s 34ms/step - loss: 0.1698 - val_loss: 0.1489\n",
      "Epoch 23/100\n",
      "3807/3807 [==============================] - 128s 34ms/step - loss: 0.1673 - val_loss: 0.1413\n",
      "The model took 2923.75 seconds for training.\n"
     ]
    }
   ],
   "source": [
    "# Define the model\n",
    "model_w = Sequential()\n",
    "model_w.add(LSTM(24, input_shape=(n_steps_in_w, n_features)))\n",
    "model_w.add(RepeatVector(n_steps_out_w))\n",
    "\n",
    "model_w.add(LSTM(24, return_sequences=True))\n",
    "model_w.add(TimeDistributed(Dense(1)))\n",
    "model_w.compile(optimizer='adam', loss='mse')\n",
    "\n",
    "# train the model\n",
    "start = time()\n",
    "early_stopping = EarlyStopping(patience=10, restore_best_weights=True)\n",
    "history = model_w.fit(X_t, y_t, epochs=100, batch_size=32, verbose=1,\n",
    "           validation_data=(X_v, y_v), callbacks=[early_stopping])\n",
    "print(\"The model took %.2f seconds for training.\"% (time() - start))"
   ]
  },
  {
   "cell_type": "code",
   "execution_count": 82,
   "metadata": {
    "colab": {
     "base_uri": "https://localhost:8080/",
     "height": 287
    },
    "id": "1e5E34cMHRis",
    "outputId": "1da4aaae-1649-49b7-b5a0-bf6e27322265"
   },
   "outputs": [
    {
     "data": {
      "image/png": "[encoded data removed]",
      "text/plain": [
       "<Figure size 432x288 with 1 Axes>"
      ]
     },
     "metadata": {
      "needs_background": "light",
      "tags": []
     },
     "output_type": "display_data"
    }
   ],
   "source": [
    "plot_learning_curves(history.history[\"loss\"], history.history[\"val_loss\"])\n",
    "plt.show()"
   ]
  },
  {
   "cell_type": "markdown",
   "metadata": {
    "id": "aud87bazHRis"
   },
   "source": [
    "### Training model: 168 neurons in encoder and decoder"
   ]
  },
  {
   "cell_type": "code",
   "execution_count": null,
   "metadata": {
    "colab": {
     "base_uri": "https://localhost:8080/"
    },
    "id": "unFiJ-9YHRis",
    "outputId": "db0b8224-22cc-40d2-9a3b-ad528b055740",
    "scrolled": true
   },
   "outputs": [
    {
     "name": "stdout",
     "output_type": "stream",
     "text": [
      "Epoch 1/100\n",
      "3807/3807 [==============================] - 185s 48ms/step - loss: 0.2803 - val_loss: 0.1445\n",
      "Epoch 2/100\n",
      "3807/3807 [==============================] - 185s 49ms/step - loss: 0.1788 - val_loss: 0.1586\n",
      "Epoch 3/100\n",
      "3807/3807 [==============================] - 184s 48ms/step - loss: 0.1769 - val_loss: 0.1423\n",
      "Epoch 4/100\n",
      "3807/3807 [==============================] - 186s 49ms/step - loss: 0.1710 - val_loss: 0.1646\n",
      "Epoch 5/100\n",
      "3807/3807 [==============================] - 185s 49ms/step - loss: 0.1699 - val_loss: 0.1471\n",
      "Epoch 6/100\n",
      "3807/3807 [==============================] - 188s 49ms/step - loss: 0.1835 - val_loss: 0.1858\n",
      "Epoch 7/100\n",
      " 198/3807 [>.............................] - ETA: 2:43 - loss: 0.2247"
     ]
    }
   ],
   "source": [
    "# Define the model\n",
    "model_w = Sequential()\n",
    "model_w.add(LSTM(168, input_shape=(n_steps_in_w, n_features)))\n",
    "model_w.add(RepeatVector(n_steps_out_w))\n",
    "\n",
    "model_w.add(LSTM(168, return_sequences=True))\n",
    "model_w.add(TimeDistributed(Dense(1)))\n",
    "model_w.compile(optimizer='adam', loss='mse')\n",
    "\n",
    "# train the model\n",
    "start = time()\n",
    "early_stopping = EarlyStopping(patience=10, restore_best_weights=True)\n",
    "history = model_w.fit(X_t, y_t, epochs=100, batch_size=32, verbose=1,\n",
    "           validation_data=(X_v, y_v), callbacks=[early_stopping])\n",
    "print(\"The model took %.2f seconds for training.\"% (time() - start))"
   ]
  },
  {
   "cell_type": "code",
   "execution_count": null,
   "metadata": {
    "id": "By0WW6lXHRis"
   },
   "outputs": [],
   "source": [
    "plot_learning_curves(history.history[\"loss\"], history.history[\"val_loss\"])\n",
    "plt.show()"
   ]
  },
  {
   "cell_type": "markdown",
   "metadata": {
    "id": "-Sdxfbx9HRit"
   },
   "source": [
    "### 3.3.2 Prepare data with 336 input data"
   ]
  },
  {
   "cell_type": "code",
   "execution_count": null,
   "metadata": {
    "id": "NocRmVT2HRit"
   },
   "outputs": [],
   "source": [
    "# Choose number of input and output steps\n",
    "n_steps_in_w = 336\n",
    "n_steps_out_w = 168\n",
    "# Divide into samples\n",
    "X_t, y_t = split_sequence(X_train, n_steps_in_w, n_steps_out_w)\n",
    "X_v, y_v = split_sequence(X_val, n_steps_in_w, n_steps_out_w)\n",
    "\n",
    "print(X_t.shape)\n",
    "print(y_t.shape)\n",
    "print(X_v.shape)\n",
    "print(y_v.shape)"
   ]
  },
  {
   "cell_type": "code",
   "execution_count": null,
   "metadata": {
    "id": "yagd8FKfHRit"
   },
   "outputs": [],
   "source": [
    "# Resize [samples, timesteps] to [samples, timesteps, features]\n",
    "n_features = 1\n",
    "X_t = X_t.reshape((X_t.shape[0], X_t.shape[1], n_features))\n",
    "y_t = y_t.reshape((y_t.shape[0], y_t.shape[1], n_features))\n",
    "X_v = X_v.reshape((X_v.shape[0], X_v.shape[1], n_features))\n",
    "y_v = y_v.reshape((y_v.shape[0], y_v.shape[1], n_features))\n",
    "\n",
    "print(X_t.shape)\n",
    "print(y_t.shape)\n",
    "print(X_v.shape)\n",
    "print(y_v.shape)"
   ]
  },
  {
   "cell_type": "markdown",
   "metadata": {
    "id": "RPafChDsHRit"
   },
   "source": [
    "### Training model: 12 neurons in encoder and decoder"
   ]
  },
  {
   "cell_type": "code",
   "execution_count": null,
   "metadata": {
    "id": "dGZp7wa6HRit",
    "scrolled": true
   },
   "outputs": [],
   "source": [
    "# Define the model\n",
    "model_w = Sequential()\n",
    "model_w.add(CuDNNLSTM(12, input_shape=(n_steps_in_w, n_features)))\n",
    "model_w.add(RepeatVector(n_steps_out_w))\n",
    "\n",
    "model_w.add(CuDNNLSTM(12, return_sequences=True))\n",
    "model_w.add(TimeDistributed(Dense(1)))\n",
    "model_w.compile(optimizer='adam', loss='mse')\n",
    "\n",
    "# train the model\n",
    "start = time()\n",
    "early_stopping = EarlyStopping(patience=10, restore_best_weights=True)\n",
    "history = model_w.fit(X_t, y_t, epochs=100, batch_size=32, verbose=1,\n",
    "           validation_data=(X_v, y_v), callbacks=[early_stopping])\n",
    "print(\"The model took %.2f seconds for training.\"% (time() - start)) "
   ]
  },
  {
   "cell_type": "code",
   "execution_count": null,
   "metadata": {
    "id": "MzG3-iPYHRiu"
   },
   "outputs": [],
   "source": [
    "%matplotlib inline\n",
    "import matplotlib as mpl\n",
    "import matplotlib.pyplot as plt\n",
    "mpl.rc('axes', labelsize=14)\n",
    "mpl.rc('xtick', labelsize=12)\n",
    "mpl.rc('ytick', labelsize=12)\n",
    "\n",
    "def plot_learning_curves(loss, val_loss):\n",
    "    plt.plot(np.arange(len(loss)), loss, \"b.-\", label=\"Training loss\")\n",
    "    plt.plot(np.arange(len(val_loss)), val_loss, \"r.-\", label=\"Validation loss\")\n",
    "    plt.gca().xaxis.set_major_locator(mpl.ticker.MaxNLocator(integer=True))\n",
    "    plt.axis([1, len(history.epoch), min(history.history[\"val_loss\"]), max(history.history[\"loss\"])])\n",
    "    plt.legend(fontsize=14)\n",
    "    plt.xlabel(\"Epochs\")\n",
    "    plt.ylabel(\"Loss\")\n",
    "    plt.grid(True)\n",
    "\n",
    "\n",
    "plot_learning_curves(history.history[\"loss\"], history.history[\"val_loss\"])\n",
    "plt.show()"
   ]
  },
  {
   "cell_type": "markdown",
   "metadata": {
    "id": "ZGWrHYLpHRiu"
   },
   "source": [
    "### Training model: 24 neurons in encoder and decoder"
   ]
  },
  {
   "cell_type": "code",
   "execution_count": null,
   "metadata": {
    "id": "klmJLkWXHRiu",
    "scrolled": true
   },
   "outputs": [],
   "source": [
    "# Define the model\n",
    "model_w = Sequential()\n",
    "model_w.add(CuDNNLSTM(24, input_shape=(n_steps_in_w, n_features)))\n",
    "model_w.add(RepeatVector(n_steps_out_w))\n",
    "\n",
    "model_w.add(CuDNNLSTM(24, return_sequences=True))\n",
    "model_w.add(TimeDistributed(Dense(1)))\n",
    "model_w.compile(optimizer='adam', loss='mse')\n",
    "\n",
    "# trian the model\n",
    "start = time()\n",
    "early_stopping = EarlyStopping(patience=10, restore_best_weights=True)\n",
    "history = model_w.fit(X_t, y_t, epochs=100, batch_size=32, verbose=1,\n",
    "           validation_data=(X_v, y_v), callbacks=[early_stopping])\n",
    "print(\"The model took %.2f seconds for training.\"% (time() - start))"
   ]
  },
  {
   "cell_type": "code",
   "execution_count": null,
   "metadata": {
    "id": "5SackhmIHRiu"
   },
   "outputs": [],
   "source": [
    "plot_learning_curves(history.history[\"loss\"], history.history[\"val_loss\"])\n",
    "plt.show()"
   ]
  },
  {
   "cell_type": "markdown",
   "metadata": {
    "id": "v8f1oPR1HRiu"
   },
   "source": [
    "### Training model: 168 neurons in encoder and decoder"
   ]
  },
  {
   "cell_type": "code",
   "execution_count": null,
   "metadata": {
    "id": "CiTJuldwHRiu",
    "scrolled": true
   },
   "outputs": [],
   "source": [
    "# Define the model\n",
    "model_w = Sequential()\n",
    "model_w.add(CuDNNLSTM(168, input_shape=(n_steps_in_w, n_features)))\n",
    "model_w.add(RepeatVector(n_steps_out_w))\n",
    "\n",
    "model_w.add(CuDNNLSTM(168, return_sequences=True))\n",
    "model_w.add(TimeDistributed(Dense(1)))\n",
    "model_w.compile(optimizer='adam', loss='mse')\n",
    "\n",
    "# train the model\n",
    "start = time()\n",
    "early_stopping = EarlyStopping(patience=10, restore_best_weights=True)\n",
    "history = model_w.fit(X_t, y_t, epochs=100, batch_size=32, verbose=1,\n",
    "           validation_data=(X_v, y_v), callbacks=[early_stopping])\n",
    "print(\"The model took %.2f seconds for training.\"% (time() - start))"
   ]
  },
  {
   "cell_type": "code",
   "execution_count": null,
   "metadata": {
    "id": "lBjn_oiMHRiv"
   },
   "outputs": [],
   "source": [
    "plot_learning_curves(history.history[\"loss\"], history.history[\"val_loss\"])\n",
    "plt.show()"
   ]
  },
  {
   "cell_type": "markdown",
   "metadata": {
    "id": "COJ_nzSoHRiv"
   },
   "source": [
    "### 3.3.3 Prepare data with 168 input data"
   ]
  },
  {
   "cell_type": "code",
   "execution_count": null,
   "metadata": {
    "id": "OjO-PnylHRiv"
   },
   "outputs": [],
   "source": [
    "# Choose number of input and ouput steps\n",
    "n_steps_in_w = 168\n",
    "n_steps_out_w = 168\n",
    "# Divide into samples\n",
    "X_t, y_t = split_sequence(X_train, n_steps_in_w, n_steps_out_w)\n",
    "X_v, y_v = split_sequence(X_val, n_steps_in_w, n_steps_out_w)\n",
    "\n",
    "print(X_t.shape)\n",
    "print(y_t.shape)\n",
    "print(X_v.shape)\n",
    "print(y_v.shape)"
   ]
  },
  {
   "cell_type": "code",
   "execution_count": null,
   "metadata": {
    "id": "8vuOt54RHRiv"
   },
   "outputs": [],
   "source": [
    "# Resize [samples, timesteps] to [samples, timesteps, features]\n",
    "n_features = 1\n",
    "X_t = X_t.reshape((X_t.shape[0], X_t.shape[1], n_features))\n",
    "y_t = y_t.reshape((y_t.shape[0], y_t.shape[1], n_features))\n",
    "X_v = X_v.reshape((X_v.shape[0], X_v.shape[1], n_features))\n",
    "y_v = y_v.reshape((y_v.shape[0], y_v.shape[1], n_features))\n",
    "\n",
    "print(X_t.shape)\n",
    "print(y_t.shape)\n",
    "print(X_v.shape)\n",
    "print(y_v.shape)"
   ]
  },
  {
   "cell_type": "markdown",
   "metadata": {
    "id": "ixF29JgUHRiv"
   },
   "source": [
    "### Training model: 12 neurons in encoder and decoder"
   ]
  },
  {
   "cell_type": "code",
   "execution_count": null,
   "metadata": {
    "id": "Ay3NA18aHRiv",
    "scrolled": true
   },
   "outputs": [],
   "source": [
    "# Define the model\n",
    "model_w = Sequential()\n",
    "model_w.add(CuDNNLSTM(12, input_shape=(n_steps_in_w, n_features)))\n",
    "model_w.add(RepeatVector(n_steps_out_w))\n",
    "\n",
    "model_w.add(CuDNNLSTM(12, return_sequences=True))\n",
    "model_w.add(TimeDistributed(Dense(1)))\n",
    "model_w.compile(optimizer='adam', loss='mse')\n",
    "\n",
    "# train the model\n",
    "start = time()\n",
    "early_stopping = EarlyStopping(patience=10, restore_best_weights=True)\n",
    "history = model_w.fit(X_t, y_t, epochs=100, batch_size=32, verbose=1,\n",
    "           validation_data=(X_v, y_v), callbacks=[early_stopping])\n",
    "print(\"The model took %.2f seconds for training.\"% (time() - start)) "
   ]
  },
  {
   "cell_type": "code",
   "execution_count": null,
   "metadata": {
    "id": "nn-kp-udHRiw"
   },
   "outputs": [],
   "source": [
    "plot_learning_curves(history.history[\"loss\"], history.history[\"val_loss\"])\n",
    "plt.show()"
   ]
  },
  {
   "cell_type": "markdown",
   "metadata": {
    "id": "6WE1PUiRHRiw"
   },
   "source": [
    "### Training model: 24 neurons in encoder and decoder"
   ]
  },
  {
   "cell_type": "code",
   "execution_count": null,
   "metadata": {
    "id": "2p2ib56VHRiw",
    "scrolled": true
   },
   "outputs": [],
   "source": [
    "# Define the model\n",
    "model_w = Sequential()\n",
    "model_w.add(CuDNNLSTM(24, input_shape=(n_steps_in_w, n_features)))\n",
    "model_w.add(RepeatVector(n_steps_out_w))\n",
    "\n",
    "model_w.add(CuDNNLSTM(24, return_sequences=True))\n",
    "model_w.add(TimeDistributed(Dense(1)))\n",
    "model_w.compile(optimizer='adam', loss='mse')\n",
    "\n",
    "# train the model\n",
    "start = time()\n",
    "early_stopping = EarlyStopping(patience=10, restore_best_weights=True)\n",
    "history = model_w.fit(X_t, y_t, epochs=100, batch_size=32, verbose=1,\n",
    "           validation_data=(X_v, y_v), callbacks=[early_stopping])\n",
    "print(\"The model took %.2f seconds for training.\"% (time() - start))"
   ]
  },
  {
   "cell_type": "code",
   "execution_count": null,
   "metadata": {
    "id": "sII2oGuYHRiw"
   },
   "outputs": [],
   "source": [
    "plot_learning_curves(history.history[\"loss\"], history.history[\"val_loss\"])\n",
    "plt.show()"
   ]
  },
  {
   "cell_type": "markdown",
   "metadata": {
    "id": "2Og1m-TTHRiw"
   },
   "source": [
    "### Training model: 168 neurons in encoder and decoder"
   ]
  },
  {
   "cell_type": "code",
   "execution_count": null,
   "metadata": {
    "id": "J7Ey3g6HHRiw",
    "scrolled": true
   },
   "outputs": [],
   "source": [
    "# Define the model\n",
    "model_w = Sequential()\n",
    "model_w.add(CuDNNLSTM(168, input_shape=(n_steps_in_w, n_features)))\n",
    "model_w.add(RepeatVector(n_steps_out_w))\n",
    "\n",
    "model_w.add(CuDNNLSTM(168, return_sequences=True))\n",
    "model_w.add(TimeDistributed(Dense(1)))\n",
    "model_w.compile(optimizer='adam', loss='mse')\n",
    "\n",
    "# train the model\n",
    "start = time()\n",
    "early_stopping = EarlyStopping(patience=10, restore_best_weights=True)\n",
    "history = model_w.fit(X_t, y_t, epochs=100, batch_size=32, verbose=1,\n",
    "           validation_data=(X_v, y_v), callbacks=[early_stopping])\n",
    "print(\"The model took %.2f seconds for training.\"% (time() - start))"
   ]
  },
  {
   "cell_type": "code",
   "execution_count": null,
   "metadata": {
    "id": "z2ftD1PPHRix"
   },
   "outputs": [],
   "source": [
    "plot_learning_curves(history.history[\"loss\"], history.history[\"val_loss\"])\n",
    "plt.show()"
   ]
  },
  {
   "cell_type": "markdown",
   "metadata": {
    "id": "LeFg5z2WHRix"
   },
   "source": [
    "## 3.3.4 Forecasting one week in the test set"
   ]
  },
  {
   "cell_type": "code",
   "execution_count": null,
   "metadata": {
    "id": "6L5QWnRhHRix"
   },
   "outputs": [],
   "source": [
    "from sklearn.metrics import mean_squared_error, mean_absolute_error, r2_score\n",
    "\n",
    "X_test_, y_test = split_sequence(X_test, n_steps_in_w, n_steps_out_w)\n",
    "y_test = scaler.inverse_transform(y_test)\n",
    "\n",
    "week = 672*34\n",
    "# 672 = one month\n",
    "\n",
    "x_input = X_test_[week].reshape((1, n_steps_in_w, n_features))\n",
    "yhat_norm_w = model_w.predict(x_input, verbose=0)\n",
    "yhat_w = scaler.inverse_transform(yhat_norm_w)\n",
    "yhat_w = yhat_w[0]\n",
    "pred = pd.DataFrame(np.round(yhat_w))\n",
    "pred = pred.replace(pred[pred[0]<=0],0)\n",
    "yhat_w = np.array(pred)\n",
    "actual = y_test[week]\n",
    "\n",
    "rmse = np.sqrt(mean_squared_error(actual, yhat_w))\n",
    "mae = mean_absolute_error(actual, yhat_w)\n",
    "r2 = r2_score(actual, yhat_w)\n",
    "\n",
    "print('Root mean square error: ', rmse)\n",
    "print('Mean absolute error: ', mae)\n",
    "print('R-Squared: ', r2)\n",
    "\n",
    "plt.rcParams['figure.figsize'] = (9, 7)\n",
    "plt.plot(actual,'r',  label='Actual', linewidth=2)\n",
    "plt.plot(yhat_w.ravel(),'b--',  label='Predict', linewidth=2)\n",
    "plt.legend(loc='best', fontsize=20)\n",
    "plt.xlabel(\"Time [hours]\", fontsize=20)\n",
    "plt.ylabel(\"GHI $[kWh/m^2]$\", fontsize=20)\n",
    "plt.yticks(size=15)\n",
    "plt.xticks(size=15)\n",
    "# plt.savefig('Figuras_Informe/predict_week_442015.eps', format='eps', dpi=300)\n",
    "plt.show() "
   ]
  },
  {
   "cell_type": "code",
   "execution_count": null,
   "metadata": {
    "id": "AKYjmKIfHRix"
   },
   "outputs": [],
   "source": [
    "from sklearn.metrics import mean_squared_error, mean_absolute_error, r2_score\n",
    "predict = 0\n",
    "x_input = X_test_[predict].reshape((1, n_steps_in_w, n_features))\n",
    "yhat_norm_w = model_w.predict(x_input, verbose=0)\n",
    "yhat_w = scaler.inverse_transform(yhat_norm_w)\n",
    "yhat_w = yhat_w[0]\n",
    "pred = pd.DataFrame(np.round(yhat_w))\n",
    "pred = pred.replace(pred[pred[0]<=0],0)\n",
    "yhat_w = np.array(pred)\n",
    "\n",
    "actual = y_test[predict]\n",
    "# a = var[predict-48:predict]\n",
    "# b = np.hstack((a,actual))\n",
    "\n",
    "plt.rcParams['figure.figsize'] = (9, 7)\n",
    "plt.plot(actual,'r',  label='Actual', linewidth=2)\n",
    "plt.plot(yhat_w.ravel(),'b--',  label='Predict', linewidth=2)\n",
    "plt.legend(loc='upper left', fontsize=20)\n",
    "plt.xlabel(\"Time [hours]\", fontsize=20)\n",
    "plt.ylabel(\"GHI $[kWh/m^2]$\", fontsize=20)\n",
    "plt.yticks(size=15)\n",
    "plt.xticks(size=15)\n",
    "plt.savefig('Figuras_Informe/predict_week_01022017.pdf', format='pdf', dpi=300)\n",
    "plt.show() \n",
    "\n",
    "rmse = np.sqrt(mean_squared_error(actual, yhat_w))\n",
    "mae = mean_absolute_error(actual, yhat_w)\n",
    "r2 = r2_score(actual, yhat_w)\n",
    "\n",
    "print('Root mean square error: ', rmse)\n",
    "print('Mean absolute error: ', mae)\n",
    "print('R-Squared: ', r2)"
   ]
  },
  {
   "cell_type": "code",
   "execution_count": null,
   "metadata": {
    "id": "FAVfqiPEHRix"
   },
   "outputs": [],
   "source": [
    "predict = 672\n",
    "x_input = X_test_[predict].reshape((1, n_steps_in_w, n_features))\n",
    "yhat_norm_w = model_w.predict(x_input, verbose=0)\n",
    "yhat_w = scaler.inverse_transform(yhat_norm_w)\n",
    "yhat_w = yhat_w[0]\n",
    "pred = pd.DataFrame(np.round(yhat_w))\n",
    "pred = pred.replace(pred[pred[0]<=0],0)\n",
    "yhat_w = np.array(pred)\n",
    "\n",
    "actual = y_test[predict]\n",
    "# a = var[predict-48:predict]\n",
    "# b = np.hstack((a,actual))\n",
    "\n",
    "plt.rcParams['figure.figsize'] = (9, 7)\n",
    "plt.plot(actual,'r',  label='Actual', linewidth=2)\n",
    "plt.plot(yhat_w.ravel(),'b--',  label='Predict', linewidth=2)\n",
    "plt.legend(loc='upper left', fontsize=20)\n",
    "plt.xlabel(\"Time [hours]\", fontsize=20)\n",
    "plt.ylabel(\"GHI $[kWh/m^2]$\", fontsize=20)\n",
    "plt.yticks(size=15)\n",
    "plt.xticks(size=15)\n",
    "plt.savefig('Figuras_Informe/predict_week_01032017.pdf', format='pdf', dpi=300)\n",
    "plt.show() \n",
    "\n",
    "rmse = np.sqrt(mean_squared_error(actual, yhat_w))\n",
    "mae = mean_absolute_error(actual, yhat_w)\n",
    "r2 = r2_score(actual, yhat_w)\n",
    "\n",
    "print('Root mean square error: ', rmse)\n",
    "print('Mean absolute error: ', mae)\n",
    "print('R-Squared: ', r2)"
   ]
  },
  {
   "cell_type": "code",
   "execution_count": null,
   "metadata": {
    "id": "u4u_NHYwHRix"
   },
   "outputs": [],
   "source": [
    "predict = 672*2\n",
    "x_input = X_test_[predict].reshape((1, n_steps_in_w, n_features))\n",
    "yhat_norm_w = model_w.predict(x_input, verbose=0)\n",
    "yhat_w = scaler.inverse_transform(yhat_norm_w)\n",
    "yhat_w = yhat_w[0]\n",
    "pred = pd.DataFrame(np.round(yhat_w))\n",
    "pred = pred.replace(pred[pred[0]<=0],0)\n",
    "yhat_w = np.array(pred)\n",
    "\n",
    "actual = y_test[predict]\n",
    "# a = var[predict-48:predict]\n",
    "# b = np.hstack((a,actual))\n",
    "\n",
    "plt.rcParams['figure.figsize'] = (9, 7)\n",
    "plt.plot(actual,'r',  label='Actual', linewidth=2)\n",
    "plt.plot(yhat_w.ravel(),'b--',  label='Predict', linewidth=2)\n",
    "plt.legend(loc='upper left', fontsize=20)\n",
    "plt.xlabel(\"Time [hours]\", fontsize=20)\n",
    "plt.ylabel(\"GHI $[kWh/m^2]$\", fontsize=20)\n",
    "plt.yticks(size=15)\n",
    "plt.xticks(size=15)\n",
    "plt.savefig('Figuras_Informe/predict_week_01042017.pdf', format='pdf', dpi=300)\n",
    "plt.show() \n",
    "\n",
    "rmse = np.sqrt(mean_squared_error(actual, yhat_w))\n",
    "mae = mean_absolute_error(actual, yhat_w)\n",
    "r2 = r2_score(actual, yhat_w)\n",
    "\n",
    "print('Root mean square error: ', rmse)\n",
    "print('Mean absolute error: ', mae)\n",
    "print('R-Squared: ', r2)"
   ]
  },
  {
   "cell_type": "code",
   "execution_count": null,
   "metadata": {
    "id": "kf6HKReKHRiy"
   },
   "outputs": [],
   "source": [
    "predict = 672*3\n",
    "x_input = X_test_[predict].reshape((1, n_steps_in_w, n_features))\n",
    "yhat_norm_w = model_w.predict(x_input, verbose=0)\n",
    "yhat_w = scaler.inverse_transform(yhat_norm_w)\n",
    "yhat_w = yhat_w[0]\n",
    "pred = pd.DataFrame(np.round(yhat_w))\n",
    "pred = pred.replace(pred[pred[0]<=0],0)\n",
    "yhat_w = np.array(pred)\n",
    "\n",
    "actual = y_test[predict]\n",
    "# a = var[predict-48:predict]\n",
    "# b = np.hstack((a,actual))\n",
    "\n",
    "plt.rcParams['figure.figsize'] = (9, 7)\n",
    "plt.plot(actual,'r',  label='Actual', linewidth=2)\n",
    "plt.plot(yhat_w.ravel(),'b--',  label='Predict', linewidth=2)\n",
    "plt.legend(loc='upper left', fontsize=20)\n",
    "plt.xlabel(\"Time [hours]\", fontsize=20)\n",
    "plt.ylabel(\"GHI $[kWh/m^2]$\", fontsize=20)\n",
    "plt.yticks(size=15)\n",
    "plt.xticks(size=15)\n",
    "plt.savefig('Figuras_Informe/predict_week_01052017.pdf', format='pdf', dpi=300)\n",
    "plt.show() \n",
    "\n",
    "rmse = np.sqrt(mean_squared_error(actual, yhat_w))\n",
    "mae = mean_absolute_error(actual, yhat_w)\n",
    "r2 = r2_score(actual, yhat_w)\n",
    "\n",
    "print('Root mean square error: ', rmse)\n",
    "print('Mean absolute error: ', mae)\n",
    "print('R-Squared: ', r2)"
   ]
  },
  {
   "cell_type": "code",
   "execution_count": null,
   "metadata": {
    "id": "tpfccFhEHRiy"
   },
   "outputs": [],
   "source": [
    "predict = 672*4\n",
    "x_input = X_test_[predict].reshape((1, n_steps_in_w, n_features))\n",
    "yhat_norm_w = model_w.predict(x_input, verbose=0)\n",
    "yhat_w = scaler.inverse_transform(yhat_norm_w)\n",
    "yhat_w = yhat_w[0]\n",
    "pred = pd.DataFrame(np.round(yhat_w))\n",
    "pred = pred.replace(pred[pred[0]<=0],0)\n",
    "yhat_w = np.array(pred)\n",
    "\n",
    "actual = y_test[predict]\n",
    "# a = var[predict-48:predict]\n",
    "# b = np.hstack((a,actual))\n",
    "\n",
    "plt.rcParams['figure.figsize'] = (9, 7)\n",
    "plt.plot(actual,'r',  label='Actual', linewidth=2)\n",
    "plt.plot(yhat_w.ravel(),'b--',  label='Predict', linewidth=2)\n",
    "plt.legend(loc='upper left', fontsize=20)\n",
    "plt.xlabel(\"Time [hours]\", fontsize=20)\n",
    "plt.ylabel(\"GHI $[kWh/m^2]$\", fontsize=20)\n",
    "plt.yticks(size=15)\n",
    "plt.xticks(size=15)\n",
    "plt.savefig('Figuras_Informe/predict_week_01062017.pdf', format='pdf', dpi=300)\n",
    "plt.show() \n",
    "\n",
    "rmse = np.sqrt(mean_squared_error(actual, yhat_w))\n",
    "mae = mean_absolute_error(actual, yhat_w)\n",
    "r2 = r2_score(actual, yhat_w)\n",
    "\n",
    "print('Root mean square error: ', rmse)\n",
    "print('Mean absolute error: ', mae)\n",
    "print('R-Squared: ', r2)"
   ]
  },
  {
   "cell_type": "code",
   "execution_count": null,
   "metadata": {
    "id": "zGOutEmLHRiy"
   },
   "outputs": [],
   "source": [
    "predict = 672*5\n",
    "x_input = X_test_[predict].reshape((1, n_steps_in_w, n_features))\n",
    "yhat_norm_w = model_w.predict(x_input, verbose=0)\n",
    "yhat_w = scaler.inverse_transform(yhat_norm_w)\n",
    "yhat_w = yhat_w[0]\n",
    "pred = pd.DataFrame(np.round(yhat_w))\n",
    "pred = pred.replace(pred[pred[0]<=0],0)\n",
    "yhat_w = np.array(pred)\n",
    "\n",
    "actual = y_test[predict]\n",
    "# a = var[predict-48:predict]\n",
    "# b = np.hstack((a,actual))\n",
    "\n",
    "plt.rcParams['figure.figsize'] = (9, 7)\n",
    "plt.plot(actual,'r',  label='Actual', linewidth=2)\n",
    "plt.plot(yhat_w.ravel(),'b--',  label='Predict', linewidth=2)\n",
    "plt.legend(loc='upper left', fontsize=20)\n",
    "plt.xlabel(\"Time [hours]\", fontsize=20)\n",
    "plt.ylabel(\"GHI $[kWh/m^2]$\", fontsize=20)\n",
    "plt.yticks(size=15)\n",
    "plt.xticks(size=15)\n",
    "plt.savefig('Figuras_Informe/predict_week_01072017.pdf', format='pdf', dpi=300)\n",
    "plt.show() \n",
    "\n",
    "rmse = np.sqrt(mean_squared_error(actual, yhat_w))\n",
    "mae = mean_absolute_error(actual, yhat_w)\n",
    "r2 = r2_score(actual, yhat_w)\n",
    "\n",
    "print('Root mean square error: ', rmse)\n",
    "print('Mean absolute error: ', mae)\n",
    "print('R-Squared: ', r2)"
   ]
  },
  {
   "cell_type": "code",
   "execution_count": null,
   "metadata": {
    "id": "yqfafVlkHRiy"
   },
   "outputs": [],
   "source": [
    "predict = 672*6\n",
    "x_input = X_test_[predict].reshape((1, n_steps_in_w, n_features))\n",
    "yhat_norm_w = model_w.predict(x_input, verbose=0)\n",
    "yhat_w = scaler.inverse_transform(yhat_norm_w)\n",
    "yhat_w = yhat_w[0]\n",
    "pred = pd.DataFrame(np.round(yhat_w))\n",
    "pred = pred.replace(pred[pred[0]<=0],0)\n",
    "yhat_w = np.array(pred)\n",
    "\n",
    "actual = y_test[predict]\n",
    "# a = var[predict-48:predict]\n",
    "# b = np.hstack((a,actual))\n",
    "\n",
    "plt.rcParams['figure.figsize'] = (9, 7)\n",
    "plt.plot(actual,'r',  label='Actual', linewidth=2)\n",
    "plt.plot(yhat_w.ravel(),'b--',  label='Predict', linewidth=2)\n",
    "plt.legend(loc='upper left', fontsize=20)\n",
    "plt.xlabel(\"Time [hours]\", fontsize=20)\n",
    "plt.ylabel(\"GHI $[kWh/m^2]$\", fontsize=20)\n",
    "plt.yticks(size=15)\n",
    "plt.xticks(size=15)\n",
    "plt.savefig('Figuras_Informe/predict_week_01082017.pdf', format='pdf', dpi=300)\n",
    "plt.show() \n",
    "\n",
    "rmse = np.sqrt(mean_squared_error(actual, yhat_w))\n",
    "mae = mean_absolute_error(actual, yhat_w)\n",
    "r2 = r2_score(actual, yhat_w)\n",
    "\n",
    "print('Root mean square error: ', rmse)\n",
    "print('Mean absolute error: ', mae)\n",
    "print('R-Squared: ', r2)"
   ]
  },
  {
   "cell_type": "code",
   "execution_count": null,
   "metadata": {
    "id": "TCIkbrj7HRiy"
   },
   "outputs": [],
   "source": [
    "predict = 672*7\n",
    "x_input = X_test_[predict].reshape((1, n_steps_in_w, n_features))\n",
    "yhat_norm_w = model_w.predict(x_input, verbose=0)\n",
    "yhat_w = scaler.inverse_transform(yhat_norm_w)\n",
    "yhat_w = yhat_w[0]\n",
    "pred = pd.DataFrame(np.round(yhat_w))\n",
    "pred = pred.replace(pred[pred[0]<=0],0)\n",
    "yhat_w = np.array(pred)\n",
    "\n",
    "actual = y_test[predict]\n",
    "# a = var[predict-48:predict]\n",
    "# b = np.hstack((a,actual))\n",
    "\n",
    "plt.rcParams['figure.figsize'] = (9, 7)\n",
    "plt.plot(actual,'r',  label='Actual', linewidth=2)\n",
    "plt.plot(yhat_w.ravel(),'b--',  label='Predict', linewidth=2)\n",
    "plt.legend(loc='upper left', fontsize=20)\n",
    "plt.xlabel(\"Time [hours]\", fontsize=20)\n",
    "plt.ylabel(\"GHI $[kWh/m^2]$\", fontsize=20)\n",
    "plt.yticks(size=15)\n",
    "plt.xticks(size=15)\n",
    "plt.savefig('Figuras_Informe/predict_week_01092017.pdf', format='pdf', dpi=300)\n",
    "plt.show() \n",
    "\n",
    "rmse = np.sqrt(mean_squared_error(actual, yhat_w))\n",
    "mae = mean_absolute_error(actual, yhat_w)\n",
    "r2 = r2_score(actual, yhat_w)\n",
    "\n",
    "print('Root mean square error: ', rmse)\n",
    "print('Mean absolute error: ', mae)\n",
    "print('R-Squared: ', r2)"
   ]
  },
  {
   "cell_type": "code",
   "execution_count": null,
   "metadata": {
    "id": "XMoZtlMdHRiy"
   },
   "outputs": [],
   "source": [
    "predict = 672*8\n",
    "x_input = X_test_[predict].reshape((1, n_steps_in_w, n_features))\n",
    "yhat_norm_w = model_w.predict(x_input, verbose=0)\n",
    "yhat_w = scaler.inverse_transform(yhat_norm_w)\n",
    "yhat_w = yhat_w[0]\n",
    "pred = pd.DataFrame(np.round(yhat_w))\n",
    "pred = pred.replace(pred[pred[0]<=0],0)\n",
    "yhat_w = np.array(pred)\n",
    "\n",
    "actual = y_test[predict]\n",
    "# a = var[predict-48:predict]\n",
    "# b = np.hstack((a,actual))\n",
    "\n",
    "plt.rcParams['figure.figsize'] = (9, 7)\n",
    "plt.plot(actual,'r',  label='Actual', linewidth=2)\n",
    "plt.plot(yhat_w.ravel(),'b--',  label='Predict', linewidth=2)\n",
    "plt.legend(loc='upper left', fontsize=20)\n",
    "plt.xlabel(\"Time [hours]\", fontsize=20)\n",
    "plt.ylabel(\"GHI $[kWh/m^2]$\", fontsize=20)\n",
    "plt.yticks(size=15)\n",
    "plt.xticks(size=15)\n",
    "plt.savefig('Figuras_Informe/predict_week_01102017.pdf', format='pdf', dpi=300)\n",
    "plt.show() \n",
    "\n",
    "rmse = np.sqrt(mean_squared_error(actual, yhat_w))\n",
    "mae = mean_absolute_error(actual, yhat_w)\n",
    "r2 = r2_score(actual, yhat_w)\n",
    "\n",
    "print('Root mean square error: ', rmse)\n",
    "print('Mean absolute error: ', mae)\n",
    "print('R-Squared: ', r2)"
   ]
  },
  {
   "cell_type": "code",
   "execution_count": null,
   "metadata": {
    "id": "6vjCjt2RHRiz"
   },
   "outputs": [],
   "source": [
    "predict = 672*9\n",
    "x_input = X_test_[predict].reshape((1, n_steps_in_w, n_features))\n",
    "yhat_norm_w = model_w.predict(x_input, verbose=0)\n",
    "yhat_w = scaler.inverse_transform(yhat_norm_w)\n",
    "yhat_w = yhat_w[0]\n",
    "pred = pd.DataFrame(np.round(yhat_w))\n",
    "pred = pred.replace(pred[pred[0]<=0],0)\n",
    "yhat_w = np.array(pred)\n",
    "\n",
    "actual = y_test[predict]\n",
    "# a = var[predict-48:predict]\n",
    "# b = np.hstack((a,actual))\n",
    "\n",
    "plt.rcParams['figure.figsize'] = (9, 7)\n",
    "plt.plot(actual,'r',  label='Actual', linewidth=2)\n",
    "plt.plot(yhat_w.ravel(),'b--',  label='Predict', linewidth=2)\n",
    "plt.legend(loc='upper left', fontsize=20)\n",
    "plt.xlabel(\"Time [hours]\", fontsize=20)\n",
    "plt.ylabel(\"GHI $[kWh/m^2]$\", fontsize=20)\n",
    "plt.yticks(size=15)\n",
    "plt.xticks(size=15)\n",
    "plt.savefig('Figuras_Informe/predict_week_01112017.pdf', format='pdf', dpi=300)\n",
    "plt.show() \n",
    "\n",
    "rmse = np.sqrt(mean_squared_error(actual, yhat_w))\n",
    "mae = mean_absolute_error(actual, yhat_w)\n",
    "r2 = r2_score(actual, yhat_w)\n",
    "\n",
    "print('Root mean square error: ', rmse)\n",
    "print('Mean absolute error: ', mae)\n",
    "print('R-Squared: ', r2)"
   ]
  },
  {
   "cell_type": "code",
   "execution_count": null,
   "metadata": {
    "id": "tmhhtr_2HRiz"
   },
   "outputs": [],
   "source": [
    "predict = 672*10\n",
    "x_input = X_test_[predict].reshape((1, n_steps_in_w, n_features))\n",
    "yhat_norm_w = model_w.predict(x_input, verbose=0)\n",
    "yhat_w = scaler.inverse_transform(yhat_norm_w)\n",
    "yhat_w = yhat_w[0]\n",
    "pred = pd.DataFrame(np.round(yhat_w))\n",
    "pred = pred.replace(pred[pred[0]<=0],0)\n",
    "yhat_w = np.array(pred)\n",
    "\n",
    "actual = y_test[predict]\n",
    "# a = var[predict-48:predict]\n",
    "# b = np.hstack((a,actual))\n",
    "\n",
    "plt.rcParams['figure.figsize'] = (9, 7)\n",
    "plt.plot(actual,'r',  label='Actual', linewidth=2)\n",
    "plt.plot(yhat_w.ravel(),'b--',  label='Predict', linewidth=2)\n",
    "plt.legend(loc='upper left', fontsize=20)\n",
    "plt.xlabel(\"Time [hours]\", fontsize=20)\n",
    "plt.ylabel(\"GHI $[kWh/m^2]$\", fontsize=20)\n",
    "plt.yticks(size=15)\n",
    "plt.xticks(size=15)\n",
    "plt.savefig('Figuras_Informe/predict_week_01122017.pdf', format='pdf', dpi=300)\n",
    "plt.show() \n",
    "\n",
    "rmse = np.sqrt(mean_squared_error(actual, yhat_w))\n",
    "mae = mean_absolute_error(actual, yhat_w)\n",
    "r2 = r2_score(actual, yhat_w)\n",
    "\n",
    "print('Root mean square error: ', rmse)\n",
    "print('Mean absolute error: ', mae)\n",
    "print('R-Squared: ', r2)"
   ]
  },
  {
   "cell_type": "code",
   "execution_count": null,
   "metadata": {
    "id": "SoKp1eHNHRiz"
   },
   "outputs": [],
   "source": [
    "model_w.summary()"
   ]
  },
  {
   "cell_type": "markdown",
   "metadata": {
    "id": "4PgTzz2HHRiz"
   },
   "source": [
    "## 4. Save Models"
   ]
  },
  {
   "cell_type": "code",
   "execution_count": null,
   "metadata": {
    "id": "_L8BYaKmHRiz"
   },
   "outputs": [],
   "source": [
    "from keras.models import model_from_json\n",
    "\n",
    "# save daily model\n",
    "model_json_d = model_d.to_json()\n",
    "with open(\"model_d.json\", \"w\") as json_file:\n",
    "    json_file.write(model_json_d)\n",
    "model_d.save_weights(\"model_d.h5\")\n",
    "\n",
    "# save weekly model\n",
    "model_json_w = model_w.to_json()\n",
    "with open(\"model_w.json\", \"w\") as json_file:\n",
    "    json_file.write(model_json_w)\n",
    "model_w.save_weights(\"model_w.h5\")"
   ]
  },
  {
   "cell_type": "code",
   "execution_count": null,
   "metadata": {
    "id": "G5HGzs8tHRiz"
   },
   "outputs": [],
   "source": [
    "# Load the model\n",
    "from keras.models import model_from_json\n",
    "json_file = open('model_d.json', 'r')\n",
    "loaded_model_json = json_file.read()\n",
    "json_file.close()\n",
    "loaded_model = model_from_json(loaded_model_json)\n",
    "loaded_model.load_weights(\"model_d.h5\")\n",
    "loaded_model.compile(optimizer='adam', loss='mse')\n",
    "# score = loaded_model.evaluate(x_input, yhat_norm, verbose=0)"
   ]
  }
 ],
 "metadata": {
  "accelerator": "GPU",
  "colab": {
   "name": "Site_Adaptation_Forecasting_LSTM.ipynb",
   "provenance": []
  },
  "kernelspec": {
   "display_name": "Python 3",
   "language": "python",
   "name": "python3"
  },
  "language_info": {
   "codemirror_mode": {
    "name": "ipython",
    "version": 3
   },
   "file_extension": ".py",
   "mimetype": "text/x-python",
   "name": "python",
   "nbconvert_exporter": "python",
   "pygments_lexer": "ipython3",
   "version": "3.8.5"
  }
 },
 "nbformat": 4,
 "nbformat_minor": 1
}
